{
 "cells": [
  {
   "cell_type": "code",
   "execution_count": 1,
   "id": "c3d27531-3cfc-4512-b035-70dec440d78c",
   "metadata": {
    "collapsed": true,
    "jupyter": {
     "outputs_hidden": true
    },
    "tags": []
   },
   "outputs": [
    {
     "name": "stdout",
     "output_type": "stream",
     "text": [
      "Collecting lightning\n",
      "  Downloading lightning-2.0.9.post0-py3-none-any.whl (1.9 MB)\n",
      "\u001b[2K     \u001b[90m━━━━━━━━━━━━━━━━━━━━━━━━━━━━━━━━━━━━━━━━\u001b[0m \u001b[32m1.9/1.9 MB\u001b[0m \u001b[31m46.8 MB/s\u001b[0m eta \u001b[36m0:00:00\u001b[0m00:01\u001b[0m\n",
      "\u001b[?25hCollecting dateutils<2.0\n",
      "  Downloading dateutils-0.6.12-py2.py3-none-any.whl (5.7 kB)\n",
      "Requirement already satisfied: Jinja2<5.0 in /usr/local/lib/python3.9/dist-packages (from lightning) (3.1.2)\n",
      "Requirement already satisfied: websocket-client<3.0 in /usr/local/lib/python3.9/dist-packages (from lightning) (0.57.0)\n",
      "Collecting starsessions<2.0,>=1.2.1\n",
      "  Downloading starsessions-1.3.0-py3-none-any.whl (10 kB)\n",
      "Requirement already satisfied: PyYAML<8.0,>=5.4 in /usr/local/lib/python3.9/dist-packages (from lightning) (5.4.1)\n",
      "Collecting starlette\n",
      "  Downloading starlette-0.31.1-py3-none-any.whl (69 kB)\n",
      "\u001b[2K     \u001b[90m━━━━━━━━━━━━━━━━━━━━━━━━━━━━━━━━━━━━━━━━\u001b[0m \u001b[32m69.9/69.9 kB\u001b[0m \u001b[31m18.7 MB/s\u001b[0m eta \u001b[36m0:00:00\u001b[0m\n",
      "\u001b[?25hRequirement already satisfied: pydantic<2.2.0,>=1.7.4 in /usr/local/lib/python3.9/dist-packages (from lightning) (1.9.2)\n",
      "Requirement already satisfied: click<10.0 in /usr/local/lib/python3.9/dist-packages (from lightning) (8.1.3)\n",
      "Collecting lightning-utilities<2.0,>=0.7.0\n",
      "  Downloading lightning_utilities-0.9.0-py3-none-any.whl (23 kB)\n",
      "Collecting deepdiff<8.0,>=5.7.0\n",
      "  Downloading deepdiff-6.5.0-py3-none-any.whl (71 kB)\n",
      "\u001b[2K     \u001b[90m━━━━━━━━━━━━━━━━━━━━━━━━━━━━━━━━━━━━━━━━\u001b[0m \u001b[32m71.3/71.3 kB\u001b[0m \u001b[31m16.3 MB/s\u001b[0m eta \u001b[36m0:00:00\u001b[0m\n",
      "\u001b[?25hCollecting backoff<4.0,>=2.2.1\n",
      "  Downloading backoff-2.2.1-py3-none-any.whl (15 kB)\n",
      "Collecting pytorch-lightning\n",
      "  Downloading pytorch_lightning-2.0.9.post0-py3-none-any.whl (727 kB)\n",
      "\u001b[2K     \u001b[90m━━━━━━━━━━━━━━━━━━━━━━━━━━━━━━━━━━━━━━\u001b[0m \u001b[32m727.7/727.7 kB\u001b[0m \u001b[31m63.5 MB/s\u001b[0m eta \u001b[36m0:00:00\u001b[0m\n",
      "\u001b[?25hRequirement already satisfied: tqdm<6.0,>=4.57.0 in /usr/local/lib/python3.9/dist-packages (from lightning) (4.64.1)\n",
      "Requirement already satisfied: beautifulsoup4<6.0,>=4.8.0 in /usr/local/lib/python3.9/dist-packages (from lightning) (4.11.1)\n",
      "Requirement already satisfied: requests<4.0 in /usr/local/lib/python3.9/dist-packages (from lightning) (2.28.2)\n",
      "Requirement already satisfied: fsspec<2025.0,>=2022.5.0 in /usr/local/lib/python3.9/dist-packages (from lightning) (2023.1.0)\n",
      "Collecting uvicorn<2.0\n",
      "  Downloading uvicorn-0.23.2-py3-none-any.whl (59 kB)\n",
      "\u001b[2K     \u001b[90m━━━━━━━━━━━━━━━━━━━━━━━━━━━━━━━━━━━━━━━━\u001b[0m \u001b[32m59.5/59.5 kB\u001b[0m \u001b[31m14.8 MB/s\u001b[0m eta \u001b[36m0:00:00\u001b[0m\n",
      "\u001b[?25hCollecting fastapi<2.0,>=0.92.0\n",
      "  Downloading fastapi-0.103.2-py3-none-any.whl (66 kB)\n",
      "\u001b[2K     \u001b[90m━━━━━━━━━━━━━━━━━━━━━━━━━━━━━━━━━━━━━━━━\u001b[0m \u001b[32m66.3/66.3 kB\u001b[0m \u001b[31m16.7 MB/s\u001b[0m eta \u001b[36m0:00:00\u001b[0m\n",
      "\u001b[?25hRequirement already satisfied: typing-extensions<6.0,>=4.0.0 in /usr/local/lib/python3.9/dist-packages (from lightning) (4.4.0)\n",
      "Collecting websockets<13.0\n",
      "  Downloading websockets-11.0.3-cp39-cp39-manylinux_2_5_x86_64.manylinux1_x86_64.manylinux_2_17_x86_64.manylinux2014_x86_64.whl (129 kB)\n",
      "\u001b[2K     \u001b[90m━━━━━━━━━━━━━━━━━━━━━━━━━━━━━━━━━━━━━━\u001b[0m \u001b[32m129.7/129.7 kB\u001b[0m \u001b[31m28.6 MB/s\u001b[0m eta \u001b[36m0:00:00\u001b[0m\n",
      "\u001b[?25hRequirement already satisfied: rich<15.0,>=12.3.0 in /usr/local/lib/python3.9/dist-packages (from lightning) (13.2.0)\n",
      "Requirement already satisfied: psutil<7.0 in /usr/local/lib/python3.9/dist-packages (from lightning) (5.9.4)\n",
      "Collecting torchmetrics<3.0,>=0.7.0\n",
      "  Downloading torchmetrics-1.2.0-py3-none-any.whl (805 kB)\n",
      "\u001b[2K     \u001b[90m━━━━━━━━━━━━━━━━━━━━━━━━━━━━━━━━━━━━━━\u001b[0m \u001b[32m805.2/805.2 kB\u001b[0m \u001b[31m70.8 MB/s\u001b[0m eta \u001b[36m0:00:00\u001b[0m\n",
      "\u001b[?25hRequirement already satisfied: torch<4.0,>=1.11.0 in /usr/local/lib/python3.9/dist-packages (from lightning) (1.12.1+cu116)\n",
      "Requirement already satisfied: urllib3<4.0 in /usr/local/lib/python3.9/dist-packages (from lightning) (1.26.14)\n",
      "Requirement already satisfied: packaging<25.0,>=17.1 in /usr/local/lib/python3.9/dist-packages (from lightning) (23.0)\n",
      "Collecting inquirer<5.0,>=2.10.0\n",
      "  Downloading inquirer-3.1.3-py3-none-any.whl (18 kB)\n",
      "Requirement already satisfied: numpy<3.0,>=1.17.2 in /usr/local/lib/python3.9/dist-packages (from lightning) (1.23.4)\n",
      "Collecting lightning-cloud>=0.5.38\n",
      "  Downloading lightning_cloud-0.5.39-py3-none-any.whl (693 kB)\n",
      "\u001b[2K     \u001b[90m━━━━━━━━━━━━━━━━━━━━━━━━━━━━━━━━━━━━━━\u001b[0m \u001b[32m693.9/693.9 kB\u001b[0m \u001b[31m63.3 MB/s\u001b[0m eta \u001b[36m0:00:00\u001b[0m\n",
      "\u001b[?25hCollecting croniter<1.5.0,>=1.3.0\n",
      "  Downloading croniter-1.4.1-py2.py3-none-any.whl (19 kB)\n",
      "Requirement already satisfied: traitlets<7.0,>=5.3.0 in /usr/local/lib/python3.9/dist-packages (from lightning) (5.8.1)\n",
      "Collecting arrow<3.0,>=1.2.0\n",
      "  Downloading arrow-1.3.0-py3-none-any.whl (66 kB)\n",
      "\u001b[2K     \u001b[90m━━━━━━━━━━━━━━━━━━━━━━━━━━━━━━━━━━━━━━━━\u001b[0m \u001b[32m66.4/66.4 kB\u001b[0m \u001b[31m17.2 MB/s\u001b[0m eta \u001b[36m0:00:00\u001b[0m\n",
      "\u001b[?25hCollecting python-multipart<2.0,>=0.0.5\n",
      "  Downloading python_multipart-0.0.6-py3-none-any.whl (45 kB)\n",
      "\u001b[2K     \u001b[90m━━━━━━━━━━━━━━━━━━━━━━━━━━━━━━━━━━━━━━━━\u001b[0m \u001b[32m45.7/45.7 kB\u001b[0m \u001b[31m14.4 MB/s\u001b[0m eta \u001b[36m0:00:00\u001b[0m\n",
      "\u001b[?25hCollecting types-python-dateutil>=2.8.10\n",
      "  Downloading types_python_dateutil-2.8.19.14-py3-none-any.whl (9.4 kB)\n",
      "Requirement already satisfied: python-dateutil>=2.7.0 in /usr/local/lib/python3.9/dist-packages (from arrow<3.0,>=1.2.0->lightning) (2.8.2)\n",
      "Requirement already satisfied: soupsieve>1.2 in /usr/local/lib/python3.9/dist-packages (from beautifulsoup4<6.0,>=4.8.0->lightning) (2.3.2.post1)\n",
      "Requirement already satisfied: pytz in /usr/local/lib/python3.9/dist-packages (from dateutils<2.0->lightning) (2022.7.1)\n",
      "Collecting ordered-set<4.2.0,>=4.0.2\n",
      "  Downloading ordered_set-4.1.0-py3-none-any.whl (7.6 kB)\n",
      "Collecting anyio<4.0.0,>=3.7.1\n",
      "  Downloading anyio-3.7.1-py3-none-any.whl (80 kB)\n",
      "\u001b[2K     \u001b[90m━━━━━━━━━━━━━━━━━━━━━━━━━━━━━━━━━━━━━━━━\u001b[0m \u001b[32m80.9/80.9 kB\u001b[0m \u001b[31m19.9 MB/s\u001b[0m eta \u001b[36m0:00:00\u001b[0m\n",
      "\u001b[?25hCollecting starlette\n",
      "  Downloading starlette-0.27.0-py3-none-any.whl (66 kB)\n",
      "\u001b[2K     \u001b[90m━━━━━━━━━━━━━━━━━━━━━━━━━━━━━━━━━━━━━━━━\u001b[0m \u001b[32m67.0/67.0 kB\u001b[0m \u001b[31m17.1 MB/s\u001b[0m eta \u001b[36m0:00:00\u001b[0m\n",
      "\u001b[?25hCollecting typing-extensions<6.0,>=4.0.0\n",
      "  Downloading typing_extensions-4.8.0-py3-none-any.whl (31 kB)\n",
      "Requirement already satisfied: aiohttp!=4.0.0a0,!=4.0.0a1 in /usr/local/lib/python3.9/dist-packages (from fsspec<2025.0,>=2022.5.0->lightning) (3.8.3)\n",
      "Collecting python-editor>=1.0.4\n",
      "  Downloading python_editor-1.0.4-py3-none-any.whl (4.9 kB)\n",
      "Collecting readchar>=3.0.6\n",
      "  Downloading readchar-4.0.5-py3-none-any.whl (8.5 kB)\n",
      "Collecting blessed>=1.19.0\n",
      "  Downloading blessed-1.20.0-py2.py3-none-any.whl (58 kB)\n",
      "\u001b[2K     \u001b[90m━━━━━━━━━━━━━━━━━━━━━━━━━━━━━━━━━━━━━━━━\u001b[0m \u001b[32m58.4/58.4 kB\u001b[0m \u001b[31m16.1 MB/s\u001b[0m eta \u001b[36m0:00:00\u001b[0m\n",
      "\u001b[?25hRequirement already satisfied: MarkupSafe>=2.0 in /usr/local/lib/python3.9/dist-packages (from Jinja2<5.0->lightning) (2.1.2)\n",
      "Requirement already satisfied: six in /usr/lib/python3/dist-packages (from lightning-cloud>=0.5.38->lightning) (1.14.0)\n",
      "Collecting pyjwt\n",
      "  Downloading PyJWT-2.8.0-py3-none-any.whl (22 kB)\n",
      "Requirement already satisfied: idna<4,>=2.5 in /usr/lib/python3/dist-packages (from requests<4.0->lightning) (2.8)\n",
      "Requirement already satisfied: certifi>=2017.4.17 in /usr/lib/python3/dist-packages (from requests<4.0->lightning) (2019.11.28)\n",
      "Requirement already satisfied: charset-normalizer<4,>=2 in /usr/local/lib/python3.9/dist-packages (from requests<4.0->lightning) (2.1.1)\n",
      "Requirement already satisfied: markdown-it-py<3.0.0,>=2.1.0 in /usr/local/lib/python3.9/dist-packages (from rich<15.0,>=12.3.0->lightning) (2.1.0)\n",
      "Requirement already satisfied: pygments<3.0.0,>=2.6.0 in /usr/local/lib/python3.9/dist-packages (from rich<15.0,>=12.3.0->lightning) (2.14.0)\n",
      "Collecting itsdangerous<3.0.0,>=2.0.1\n",
      "  Downloading itsdangerous-2.1.2-py3-none-any.whl (15 kB)\n",
      "Collecting h11>=0.8\n",
      "  Downloading h11-0.14.0-py3-none-any.whl (58 kB)\n",
      "\u001b[2K     \u001b[90m━━━━━━━━━━━━━━━━━━━━━━━━━━━━━━━━━━━━━━━━\u001b[0m \u001b[32m58.3/58.3 kB\u001b[0m \u001b[31m16.5 MB/s\u001b[0m eta \u001b[36m0:00:00\u001b[0m\n",
      "\u001b[?25hRequirement already satisfied: yarl<2.0,>=1.0 in /usr/local/lib/python3.9/dist-packages (from aiohttp!=4.0.0a0,!=4.0.0a1->fsspec<2025.0,>=2022.5.0->lightning) (1.8.2)\n",
      "Requirement already satisfied: attrs>=17.3.0 in /usr/local/lib/python3.9/dist-packages (from aiohttp!=4.0.0a0,!=4.0.0a1->fsspec<2025.0,>=2022.5.0->lightning) (18.2.0)\n",
      "Requirement already satisfied: async-timeout<5.0,>=4.0.0a3 in /usr/local/lib/python3.9/dist-packages (from aiohttp!=4.0.0a0,!=4.0.0a1->fsspec<2025.0,>=2022.5.0->lightning) (4.0.2)\n",
      "Requirement already satisfied: frozenlist>=1.1.1 in /usr/local/lib/python3.9/dist-packages (from aiohttp!=4.0.0a0,!=4.0.0a1->fsspec<2025.0,>=2022.5.0->lightning) (1.3.3)\n",
      "Requirement already satisfied: aiosignal>=1.1.2 in /usr/local/lib/python3.9/dist-packages (from aiohttp!=4.0.0a0,!=4.0.0a1->fsspec<2025.0,>=2022.5.0->lightning) (1.3.1)\n",
      "Requirement already satisfied: multidict<7.0,>=4.5 in /usr/local/lib/python3.9/dist-packages (from aiohttp!=4.0.0a0,!=4.0.0a1->fsspec<2025.0,>=2022.5.0->lightning) (6.0.4)\n",
      "Requirement already satisfied: exceptiongroup in /usr/local/lib/python3.9/dist-packages (from anyio<4.0.0,>=3.7.1->fastapi<2.0,>=0.92.0->lightning) (1.1.0)\n",
      "Requirement already satisfied: sniffio>=1.1 in /usr/local/lib/python3.9/dist-packages (from anyio<4.0.0,>=3.7.1->fastapi<2.0,>=0.92.0->lightning) (1.3.0)\n",
      "Requirement already satisfied: wcwidth>=0.1.4 in /usr/local/lib/python3.9/dist-packages (from blessed>=1.19.0->inquirer<5.0,>=2.10.0->lightning) (0.2.6)\n",
      "Requirement already satisfied: mdurl~=0.1 in /usr/local/lib/python3.9/dist-packages (from markdown-it-py<3.0.0,>=2.1.0->rich<15.0,>=12.3.0->lightning) (0.1.2)\n",
      "Requirement already satisfied: setuptools>=41.0 in /usr/local/lib/python3.9/dist-packages (from readchar>=3.0.6->inquirer<5.0,>=2.10.0->lightning) (66.1.1)\n",
      "Installing collected packages: types-python-dateutil, python-editor, websockets, typing-extensions, readchar, python-multipart, pyjwt, ordered-set, itsdangerous, h11, blessed, backoff, anyio, uvicorn, starlette, lightning-utilities, inquirer, deepdiff, dateutils, croniter, arrow, torchmetrics, starsessions, fastapi, pytorch-lightning, lightning-cloud, lightning\n",
      "  Attempting uninstall: typing-extensions\n",
      "    Found existing installation: typing_extensions 4.4.0\n",
      "    Uninstalling typing_extensions-4.4.0:\n",
      "      Successfully uninstalled typing_extensions-4.4.0\n",
      "  Attempting uninstall: anyio\n",
      "    Found existing installation: anyio 3.6.2\n",
      "    Uninstalling anyio-3.6.2:\n",
      "      Successfully uninstalled anyio-3.6.2\n",
      "Successfully installed anyio-3.7.1 arrow-1.3.0 backoff-2.2.1 blessed-1.20.0 croniter-1.4.1 dateutils-0.6.12 deepdiff-6.5.0 fastapi-0.103.2 h11-0.14.0 inquirer-3.1.3 itsdangerous-2.1.2 lightning-2.0.9.post0 lightning-cloud-0.5.39 lightning-utilities-0.9.0 ordered-set-4.1.0 pyjwt-2.8.0 python-editor-1.0.4 python-multipart-0.0.6 pytorch-lightning-2.0.9.post0 readchar-4.0.5 starlette-0.27.0 starsessions-1.3.0 torchmetrics-1.2.0 types-python-dateutil-2.8.19.14 typing-extensions-4.8.0 uvicorn-0.23.2 websockets-11.0.3\n",
      "\u001b[33mWARNING: Running pip as the 'root' user can result in broken permissions and conflicting behaviour with the system package manager. It is recommended to use a virtual environment instead: https://pip.pypa.io/warnings/venv\u001b[0m\u001b[33m\n",
      "\u001b[0mCollecting torch-summary\n",
      "  Downloading torch_summary-1.4.5-py3-none-any.whl (16 kB)\n",
      "Installing collected packages: torch-summary\n",
      "Successfully installed torch-summary-1.4.5\n",
      "\u001b[33mWARNING: Running pip as the 'root' user can result in broken permissions and conflicting behaviour with the system package manager. It is recommended to use a virtual environment instead: https://pip.pypa.io/warnings/venv\u001b[0m\u001b[33m\n",
      "\u001b[0m"
     ]
    }
   ],
   "source": [
    "!pip install lightning\n",
    "!pip install torch-summary\n",
    "# !pip install ray[tune]"
   ]
  },
  {
   "cell_type": "code",
   "execution_count": 1,
   "id": "5917bd55-bba4-4b59-be65-0b006ff74583",
   "metadata": {},
   "outputs": [],
   "source": [
    "# import zipfile"
   ]
  },
  {
   "cell_type": "code",
   "execution_count": 2,
   "id": "9c8db4be-7451-4c99-ae62-95ba95d75b14",
   "metadata": {},
   "outputs": [],
   "source": [
    "# with zipfile.ZipFile('./archive.zip', 'r') as zip_ref:\n",
    "#     zip_ref.extractall('./data_2')"
   ]
  },
  {
   "cell_type": "code",
   "execution_count": 3,
   "id": "057c0002-a347-4373-927e-c16ec7e4cf03",
   "metadata": {
    "scrolled": true,
    "tags": []
   },
   "outputs": [],
   "source": [
    "# folder_path = './data/TrainingSet_json/TrainingSet_json/'\n",
    "# files = os.listdir(folder_path)\n",
    "# for file in files:\n",
    "#     if os.path.isfile(folder_path + file):\n",
    "#         os.remove(folder_path + file)"
   ]
  },
  {
   "cell_type": "code",
   "execution_count": 1,
   "id": "7d9bc186-7de6-432e-917f-05aecbf5c843",
   "metadata": {},
   "outputs": [],
   "source": [
    "import numpy as np \n",
    "import pandas as pd \n",
    "\n",
    "from matplotlib import pyplot as plt\n",
    "import seaborn as sns\n",
    "from torchvision import datasets, transforms\n",
    "\n",
    "from PIL import Image\n",
    "\n",
    "from torch.autograd import Variable\n",
    "import torch, os\n",
    "from torch import nn\n",
    "import torchvision.models as models\n",
    "from torch.nn import functional as F\n",
    "\n",
    "from torchmetrics.classification import MulticlassAccuracy\n",
    "from torchsummary import summary\n",
    "\n",
    "\n",
    "import lightning.pytorch as pl\n",
    "\n",
    "\n",
    "from skimage.util import random_noise\n",
    "# import ray\n",
    "# from ray import tune"
   ]
  },
  {
   "cell_type": "code",
   "execution_count": 2,
   "id": "ed9fc5e1-36bb-480a-b010-8618fc90afc6",
   "metadata": {},
   "outputs": [],
   "source": [
    "class PathImageFolder(datasets.ImageFolder):\n",
    "    def __getitem__(self, index):\n",
    "        # this is what ImageFolder normally returns\n",
    "        original_tuple = super(PathImageFolder, self).__getitem__(index)\n",
    "        # the image file path\n",
    "        path = self.imgs[index][0]\n",
    "        # make a new tuple that includes original and the path\n",
    "        tuple_with_path = (original_tuple + (path,))\n",
    "        return tuple_with_path"
   ]
  },
  {
   "cell_type": "code",
   "execution_count": 3,
   "id": "99a167af-69a0-47d3-a327-c39608a50924",
   "metadata": {},
   "outputs": [],
   "source": [
    "class AddGaussNoise(object):\n",
    "    def __init__(self, mean=0, std=0.001):\n",
    "        self.std=std\n",
    "        self.mean=mean\n",
    "        \n",
    "    def __call__(self, tensor):\n",
    "#         print(tensor + torch.randn(tensor.size()) * self.std + self.mean)\n",
    "        return torch.tensor(random_noise(tensor,mean=self.mean,var=self.std))\n",
    "\n",
    "    def __repr__(self):\n",
    "        return self.__class__.__name__+'(mean={0},std={1})'.format(self.mean, self.std)"
   ]
  },
  {
   "cell_type": "code",
   "execution_count": 4,
   "id": "a645f630-1e1f-4940-8854-30af7e76332b",
   "metadata": {},
   "outputs": [],
   "source": [
    "def load_data(data_path):\n",
    "    dataTransformer = transforms.Compose([transforms.CenterCrop([256, 256]), transforms.ToTensor(),\n",
    "    transforms.Normalize(mean=[0.485, 0.456, 0.406], std=[0.229, 0.224, 0.225])])\n",
    "    transformedData = PathImageFolder(root=data_path, transform=dataTransformer)\n",
    "    dataset = torch.utils.data.DataLoader(transformedData, batch_size=32, shuffle=True, num_workers = 8)\n",
    "    return dataset"
   ]
  },
  {
   "cell_type": "code",
   "execution_count": 5,
   "id": "d50cdbc4-10e0-49bb-bb2c-0e8007da5727",
   "metadata": {},
   "outputs": [
    {
     "data": {
      "image/png": "[encoded data removed]",
      "text/plain": [
       "<Figure size 640x480 with 1 Axes>"
      ]
     },
     "metadata": {},
     "output_type": "display_data"
    },
    {
     "name": "stdout",
     "output_type": "stream",
     "text": [
      "Sample TrainingSet Image: 10065.jpg Class: Closed\n"
     ]
    },
    {
     "data": {
      "image/png": "[encoded data removed]",
      "text/plain": [
       "<Figure size 640x480 with 1 Axes>"
      ]
     },
     "metadata": {},
     "output_type": "display_data"
    },
    {
     "name": "stdout",
     "output_type": "stream",
     "text": [
      "Sample TestSet Image: 10007.jpg Class: Closed\n"
     ]
    }
   ],
   "source": [
    "train_data = load_data('./data/TrainingSet/TrainingSet/')\n",
    "\n",
    "plt.imshow(Image.open(list(train_data.dataset[0])[2]))\n",
    "plt.show()\n",
    "print('Sample TrainingSet Image:', os.path.basename(list(train_data.dataset[0])[2]), 'Class:', train_data.dataset.classes[list(train_data.dataset[0])[1]])\n",
    "\n",
    "test_data = load_data('./data/TestSet/TestSet/')\n",
    "\n",
    "plt.imshow(Image.open(list(test_data.dataset[0])[2]))\n",
    "plt.show()\n",
    "print('Sample TestSet Image:', os.path.basename(list(test_data.dataset[0])[2]), 'Class:', test_data.dataset.classes[list(test_data.dataset[0])[1]])"
   ]
  },
  {
   "cell_type": "markdown",
   "id": "e7d3d9a1-4058-40e8-88f0-7757084aacf3",
   "metadata": {
    "tags": []
   },
   "source": [
    "#### w/o Resnet  Feature Extractor ####"
   ]
  },
  {
   "cell_type": "code",
   "execution_count": 6,
   "id": "62fb51bc-371f-406a-8f88-d09fdadc1d57",
   "metadata": {},
   "outputs": [],
   "source": [
    "class HybridBlock(nn.Module):\n",
    "    def __init__(self, in_channels, growth_rate, cardinality, bottleneck_width):\n",
    "        super(HybridBlock, self).__init__()\n",
    "        out_channels = cardinality * bottleneck_width\n",
    "        self.convs = nn.ModuleList()\n",
    "        for _ in range(cardinality):\n",
    "            # Each branch within the block\n",
    "            self.convs.append(nn.Sequential(\n",
    "                nn.Conv2d(in_channels, out_channels, kernel_size=1, bias=False),\n",
    "                # nn.Dropout(0.15),\n",
    "                nn.BatchNorm2d(out_channels),\n",
    "                nn.LeakyReLU(inplace=True),\n",
    "                \n",
    "                nn.Conv2d(out_channels, growth_rate, kernel_size=3, stride=1, padding=1, bias=False),\n",
    "                # nn.Dropout(0.15),\n",
    "                nn.BatchNorm2d(growth_rate),\n",
    "                nn.LeakyReLU(inplace=True)\n",
    "            ))\n",
    "            in_channels += growth_rate\n",
    "        \n",
    "    def forward(self, x):\n",
    "        out = x\n",
    "        # print(out.shape)\n",
    "        for conv in self.convs:\n",
    "            out = torch.cat([out, conv(out)], 1) # Pass through each branch\n",
    "            # print(out.shape)\n",
    "        return out"
   ]
  },
  {
   "cell_type": "code",
   "execution_count": 7,
   "id": "88820303-4265-4a8f-9239-7f4f3fed1837",
   "metadata": {},
   "outputs": [],
   "source": [
    "class HybridDenseNet(nn.Module):\n",
    "    def __init__(self, growth_rate, cardinality, bottleneck_width, num_classes=10):\n",
    "        super(HybridDenseNet, self).__init__()\n",
    "        self.in_channels = 64\n",
    "        self.conv = nn.Conv2d(3, self.in_channels, kernel_size=7, stride=2, padding=3, bias=False)\n",
    "        \n",
    "        self.blocks = nn.ModuleList()\n",
    "        for _ in range(3):  # 3 layers\n",
    "            self.blocks.append(self._make_block(growth_rate, cardinality, bottleneck_width))\n",
    "            self.in_channels += growth_rate * cardinality\n",
    "        \n",
    "        self.bn = nn.BatchNorm2d(self.in_channels)\n",
    "        self.relu = nn.LeakyReLU(inplace=True)\n",
    "        self.avg_pool = nn.AdaptiveAvgPool2d((1, 1))\n",
    "        self.fc = nn.Linear(self.in_channels, 2)\n",
    "        \n",
    "    def _make_block(self, growth_rate, cardinality, bottleneck_width):\n",
    "        return HybridBlock(self.in_channels, growth_rate, cardinality, bottleneck_width)\n",
    "\n",
    "    def forward(self, x):\n",
    "        out = self.conv(x)  # Initial convolutional layer\n",
    "        for block in self.blocks:  # Pass through each block\n",
    "            out = block(out)\n",
    "        out = self.bn(out)\n",
    "        out = self.relu(out)\n",
    "        out = self.avg_pool(out)\n",
    "        out = out.view(out.size(0), -1)\n",
    "        out = self.fc(out)  # Fully connected layer for classification\n",
    "        return out"
   ]
  },
  {
   "cell_type": "code",
   "execution_count": 8,
   "id": "a5dc3cca-9bec-4b74-8790-7bf3c58c4812",
   "metadata": {},
   "outputs": [],
   "source": [
    "class HybridDenseNetLightning(pl.LightningModule):\n",
    "    def __init__(self, model, l1_ratio = 0.0, l2_ratio = 0.0):\n",
    "        super().__init__()\n",
    "        self.model = model  # Your HybridDenseNet model goes here\n",
    "        self.l1_ratio = l1_ratio\n",
    "        self.l2_ratio = l2_ratio\n",
    "        self.train_loss = []\n",
    "        self.train_acc = []\n",
    "        self.test_loss = []\n",
    "        self.test_acc = []\n",
    "\n",
    "    def forward(self, x):\n",
    "        return self.model(x)\n",
    "\n",
    "    def training_step(self, batch, batch_idx):\n",
    "        x, y, _ = batch\n",
    "\n",
    "        logits = self(x.float())\n",
    "        \n",
    "        \n",
    "     \n",
    "        predicted_classes = torch.softmax(logits, dim = 1).argmax(dim = 1)\n",
    "        num_correct = (predicted_classes == y).sum()\n",
    "        acc = float(num_correct/len(y))\n",
    "        \n",
    "        y = F.one_hot(y, num_classes = 2)\n",
    "        loss = F.cross_entropy(logits.float(), y.float())\n",
    "        \n",
    "        ##Adding Regulartors\n",
    "        #L1 regularization\n",
    "        loss = loss + self.l1_ratio * sum([p.abs().sum() for p in self.model.parameters()])\n",
    "\n",
    "        #L2 regularization\n",
    "        loss = loss + self.l2_ratio * sum([(p**2).sum() for p in self.model.parameters()])\n",
    "        \n",
    "        if batch_idx % 10 == 9:\n",
    "            self.train_loss.append(loss.item())\n",
    "            self.train_acc.append(acc)\n",
    "\n",
    "        if batch_idx % 50 == 49:\n",
    "                print('[%5d] loss : %.6f acc: %.6f' %(batch_idx + 1, loss.item(), acc))\n",
    "        self.log('train_loss', loss)\n",
    "        return loss\n",
    "    \n",
    "    def test_step(self, batch, batch_idx):\n",
    "        x, y, _ = batch\n",
    "        logits = self(x.float())\n",
    "        \n",
    "        \n",
    "        predicted_classes = torch.softmax(logits, dim = 1).argmax(dim = 1)\n",
    "        num_correct = (predicted_classes == y).sum()\n",
    "        acc = float(num_correct/len(y))\n",
    "        \n",
    "        y = F.one_hot(y, num_classes = 2)\n",
    "        loss = F.cross_entropy(logits.float(), y.float())\n",
    "        \n",
    "        self.test_loss.append(loss.item())\n",
    "        self.test_acc.append(acc)\n",
    "\n",
    "        if batch_idx % 10 == 9:\n",
    "                print('[%d] loss : %.6f acc: %.6f' %(batch_idx + 1, loss.item(), acc))\n",
    "        self.log('test_loss', loss)\n",
    "        \n",
    "        return loss\n",
    "\n",
    "    def configure_optimizers(self):\n",
    "        optimizer = torch.optim.Adam(self.parameters(), lr=1e-4, weight_decay= 1e-6)\n",
    "        return optimizer"
   ]
  },
  {
   "cell_type": "code",
   "execution_count": null,
   "id": "0acfe2fd-d9a2-4278-8efd-3c63f98d10e6",
   "metadata": {
    "scrolled": true,
    "tags": []
   },
   "outputs": [
    {
     "name": "stdout",
     "output_type": "stream",
     "text": [
      "Cardinality: 2, Growth Rate: 2, Bottleneck: 2\n",
      "====================================================================================================\n"
     ]
    },
    {
     "name": "stderr",
     "output_type": "stream",
     "text": [
      "GPU available: True (cuda), used: True\n",
      "TPU available: False, using: 0 TPU cores\n",
      "IPU available: False, using: 0 IPUs\n",
      "HPU available: False, using: 0 HPUs\n",
      "LOCAL_RANK: 0 - CUDA_VISIBLE_DEVICES: [0]\n",
      "\n",
      "  | Name  | Type           | Params\n",
      "-----------------------------------------\n",
      "0 | model | HybridDenseNet | 11.9 K\n",
      "-----------------------------------------\n",
      "11.9 K    Trainable params\n",
      "0         Non-trainable params\n",
      "11.9 K    Total params\n",
      "0.047     Total estimated model params size (MB)\n"
     ]
    },
    {
     "data": {
      "application/vnd.jupyter.widget-view+json": {
       "model_id": "323a2250550e488dad4ea4a27b75ec61",
       "version_major": 2,
       "version_minor": 0
      },
      "text/plain": [
       "Training: 0it [00:00, ?it/s]"
      ]
     },
     "metadata": {},
     "output_type": "display_data"
    },
    {
     "name": "stdout",
     "output_type": "stream",
     "text": [
      "[   50] loss : 0.695150 acc: 0.406250\n",
      "[   50] loss : 0.669052 acc: 0.656250\n",
      "[   50] loss : 0.687990 acc: 0.562500\n",
      "[   50] loss : 0.683273 acc: 0.593750\n",
      "[   50] loss : 0.671912 acc: 0.593750\n",
      "[   50] loss : 0.710070 acc: 0.406250\n",
      "[   50] loss : 0.686448 acc: 0.625000\n",
      "[   50] loss : 0.663895 acc: 0.656250\n",
      "[   50] loss : 0.646080 acc: 0.750000\n",
      "[   50] loss : 0.654826 acc: 0.656250\n",
      "[   50] loss : 0.660391 acc: 0.656250\n",
      "[   50] loss : 0.667830 acc: 0.687500\n",
      "[   50] loss : 0.650777 acc: 0.656250\n",
      "[   50] loss : 0.679946 acc: 0.625000\n",
      "[   50] loss : 0.661374 acc: 0.750000\n",
      "[   50] loss : 0.643387 acc: 0.718750\n",
      "[   50] loss : 0.672358 acc: 0.625000\n",
      "[   50] loss : 0.653415 acc: 0.718750\n",
      "[   50] loss : 0.639602 acc: 0.750000\n",
      "[   50] loss : 0.692677 acc: 0.531250\n"
     ]
    },
    {
     "name": "stderr",
     "output_type": "stream",
     "text": [
      "`Trainer.fit` stopped: `max_epochs=20` reached.\n",
      "LOCAL_RANK: 0 - CUDA_VISIBLE_DEVICES: [0]\n"
     ]
    },
    {
     "name": "stdout",
     "output_type": "stream",
     "text": [
      "----------------------------------------------------------------------------------------------------\n",
      "Testing model..\n"
     ]
    },
    {
     "name": "stderr",
     "output_type": "stream",
     "text": [
      "/usr/local/lib/python3.9/dist-packages/lightning/pytorch/trainer/connectors/data_connector.py:490: PossibleUserWarning: Your `test_dataloader`'s sampler has shuffling enabled, it is strongly recommended that you turn shuffling off for val/test dataloaders.\n",
      "  rank_zero_warn(\n"
     ]
    },
    {
     "data": {
      "application/vnd.jupyter.widget-view+json": {
       "model_id": "6675eead58684080bc83689efff51ae1",
       "version_major": 2,
       "version_minor": 0
      },
      "text/plain": [
       "Testing: 0it [00:00, ?it/s]"
      ]
     },
     "metadata": {},
     "output_type": "display_data"
    },
    {
     "name": "stderr",
     "output_type": "stream",
     "text": [
      "/usr/local/lib/python3.9/dist-packages/lightning/pytorch/utilities/data.py:76: UserWarning: Trying to infer the `batch_size` from an ambiguous collection. The batch size we found is 32. To avoid any miscalculations, use `self.log(..., batch_size=batch_size)`.\n",
      "  warning_cache.warn(\n"
     ]
    },
    {
     "name": "stdout",
     "output_type": "stream",
     "text": [
      "[10] loss : 0.639918 acc: 0.781250\n",
      "[20] loss : 0.673129 acc: 0.625000\n",
      "[30] loss : 0.706567 acc: 0.562500\n",
      "[40] loss : 0.675185 acc: 0.562500\n",
      "[50] loss : 0.663897 acc: 0.656250\n",
      "[60] loss : 0.656562 acc: 0.562500\n",
      "[70] loss : 0.649899 acc: 0.656250\n",
      "[80] loss : 0.708194 acc: 0.531250\n",
      "[90] loss : 0.623677 acc: 0.781250\n",
      "[100] loss : 0.653970 acc: 0.687500\n",
      "[110] loss : 0.608865 acc: 0.843750\n",
      "[120] loss : 0.649663 acc: 0.750000\n",
      "[130] loss : 0.682739 acc: 0.562500\n"
     ]
    },
    {
     "name": "stderr",
     "output_type": "stream",
     "text": [
      "/usr/local/lib/python3.9/dist-packages/lightning/pytorch/utilities/data.py:76: UserWarning: Trying to infer the `batch_size` from an ambiguous collection. The batch size we found is 8. To avoid any miscalculations, use `self.log(..., batch_size=batch_size)`.\n",
      "  warning_cache.warn(\n"
     ]
    },
    {
     "data": {
      "text/html": [
       "<pre style=\"white-space:pre;overflow-x:auto;line-height:normal;font-family:Menlo,'DejaVu Sans Mono',consolas,'Courier New',monospace\">┏━━━━━━━━━━━━━━━━━━━━━━━━━━━┳━━━━━━━━━━━━━━━━━━━━━━━━━━━┓\n",
       "┃<span style=\"font-weight: bold\">        Test metric        </span>┃<span style=\"font-weight: bold\">       DataLoader 0        </span>┃\n",
       "┡━━━━━━━━━━━━━━━━━━━━━━━━━━━╇━━━━━━━━━━━━━━━━━━━━━━━━━━━┩\n",
       "│<span style=\"color: #008080; text-decoration-color: #008080\">         test_loss         </span>│<span style=\"color: #800080; text-decoration-color: #800080\">    0.6560089588165283     </span>│\n",
       "└───────────────────────────┴───────────────────────────┘\n",
       "</pre>\n"
      ],
      "text/plain": [
       "┏━━━━━━━━━━━━━━━━━━━━━━━━━━━┳━━━━━━━━━━━━━━━━━━━━━━━━━━━┓\n",
       "┃\u001b[1m \u001b[0m\u001b[1m       Test metric       \u001b[0m\u001b[1m \u001b[0m┃\u001b[1m \u001b[0m\u001b[1m      DataLoader 0       \u001b[0m\u001b[1m \u001b[0m┃\n",
       "┡━━━━━━━━━━━━━━━━━━━━━━━━━━━╇━━━━━━━━━━━━━━━━━━━━━━━━━━━┩\n",
       "│\u001b[36m \u001b[0m\u001b[36m        test_loss        \u001b[0m\u001b[36m \u001b[0m│\u001b[35m \u001b[0m\u001b[35m   0.6560089588165283    \u001b[0m\u001b[35m \u001b[0m│\n",
       "└───────────────────────────┴───────────────────────────┘\n"
      ]
     },
     "metadata": {},
     "output_type": "display_data"
    },
    {
     "name": "stderr",
     "output_type": "stream",
     "text": [
      "GPU available: True (cuda), used: True\n",
      "TPU available: False, using: 0 TPU cores\n",
      "IPU available: False, using: 0 IPUs\n",
      "HPU available: False, using: 0 HPUs\n",
      "LOCAL_RANK: 0 - CUDA_VISIBLE_DEVICES: [0]\n",
      "\n",
      "  | Name  | Type           | Params\n",
      "-----------------------------------------\n",
      "0 | model | HybridDenseNet | 18.9 K\n",
      "-----------------------------------------\n",
      "18.9 K    Trainable params\n",
      "0         Non-trainable params\n",
      "18.9 K    Total params\n",
      "0.076     Total estimated model params size (MB)\n"
     ]
    },
    {
     "name": "stdout",
     "output_type": "stream",
     "text": [
      "Cardinality: 2, Growth Rate: 2, Bottleneck: 4\n",
      "====================================================================================================\n"
     ]
    },
    {
     "data": {
      "application/vnd.jupyter.widget-view+json": {
       "model_id": "b9a9e587244f4d57b3bfc75f3405d400",
       "version_major": 2,
       "version_minor": 0
      },
      "text/plain": [
       "Training: 0it [00:00, ?it/s]"
      ]
     },
     "metadata": {},
     "output_type": "display_data"
    },
    {
     "name": "stdout",
     "output_type": "stream",
     "text": [
      "[   50] loss : 0.683694 acc: 0.531250\n",
      "[   50] loss : 0.692423 acc: 0.437500\n",
      "[   50] loss : 0.680353 acc: 0.562500\n",
      "[   50] loss : 0.694767 acc: 0.562500\n",
      "[   50] loss : 0.663319 acc: 0.750000\n",
      "[   50] loss : 0.663038 acc: 0.718750\n",
      "[   50] loss : 0.659539 acc: 0.625000\n",
      "[   50] loss : 0.639829 acc: 0.781250\n",
      "[   50] loss : 0.653964 acc: 0.718750\n",
      "[   50] loss : 0.653547 acc: 0.687500\n",
      "[   50] loss : 0.662049 acc: 0.625000\n",
      "[   50] loss : 0.629589 acc: 0.750000\n",
      "[   50] loss : 0.673504 acc: 0.656250\n",
      "[   50] loss : 0.626859 acc: 0.718750\n",
      "[   50] loss : 0.645374 acc: 0.687500\n",
      "[   50] loss : 0.633846 acc: 0.656250\n",
      "[   50] loss : 0.573947 acc: 0.812500\n",
      "[   50] loss : 0.569004 acc: 0.781250\n",
      "[   50] loss : 0.611703 acc: 0.781250\n",
      "[   50] loss : 0.583060 acc: 0.781250\n"
     ]
    },
    {
     "name": "stderr",
     "output_type": "stream",
     "text": [
      "`Trainer.fit` stopped: `max_epochs=20` reached.\n",
      "LOCAL_RANK: 0 - CUDA_VISIBLE_DEVICES: [0]\n"
     ]
    },
    {
     "name": "stdout",
     "output_type": "stream",
     "text": [
      "----------------------------------------------------------------------------------------------------\n",
      "Testing model..\n"
     ]
    },
    {
     "data": {
      "application/vnd.jupyter.widget-view+json": {
       "model_id": "3b55d99940d34743b46c57b4ade6da73",
       "version_major": 2,
       "version_minor": 0
      },
      "text/plain": [
       "Testing: 0it [00:00, ?it/s]"
      ]
     },
     "metadata": {},
     "output_type": "display_data"
    },
    {
     "name": "stdout",
     "output_type": "stream",
     "text": [
      "[10] loss : 0.596442 acc: 0.750000\n",
      "[20] loss : 0.590866 acc: 0.750000\n",
      "[30] loss : 0.644835 acc: 0.687500\n",
      "[40] loss : 0.581623 acc: 0.812500\n",
      "[50] loss : 0.652336 acc: 0.656250\n",
      "[60] loss : 0.626412 acc: 0.687500\n",
      "[70] loss : 0.620036 acc: 0.656250\n",
      "[80] loss : 0.659259 acc: 0.531250\n",
      "[90] loss : 0.638430 acc: 0.687500\n",
      "[100] loss : 0.585472 acc: 0.812500\n",
      "[110] loss : 0.602089 acc: 0.718750\n",
      "[120] loss : 0.605334 acc: 0.812500\n",
      "[130] loss : 0.619563 acc: 0.625000\n"
     ]
    },
    {
     "data": {
      "text/html": [
       "<pre style=\"white-space:pre;overflow-x:auto;line-height:normal;font-family:Menlo,'DejaVu Sans Mono',consolas,'Courier New',monospace\">┏━━━━━━━━━━━━━━━━━━━━━━━━━━━┳━━━━━━━━━━━━━━━━━━━━━━━━━━━┓\n",
       "┃<span style=\"font-weight: bold\">        Test metric        </span>┃<span style=\"font-weight: bold\">       DataLoader 0        </span>┃\n",
       "┡━━━━━━━━━━━━━━━━━━━━━━━━━━━╇━━━━━━━━━━━━━━━━━━━━━━━━━━━┩\n",
       "│<span style=\"color: #008080; text-decoration-color: #008080\">         test_loss         </span>│<span style=\"color: #800080; text-decoration-color: #800080\">    0.6006463170051575     </span>│\n",
       "└───────────────────────────┴───────────────────────────┘\n",
       "</pre>\n"
      ],
      "text/plain": [
       "┏━━━━━━━━━━━━━━━━━━━━━━━━━━━┳━━━━━━━━━━━━━━━━━━━━━━━━━━━┓\n",
       "┃\u001b[1m \u001b[0m\u001b[1m       Test metric       \u001b[0m\u001b[1m \u001b[0m┃\u001b[1m \u001b[0m\u001b[1m      DataLoader 0       \u001b[0m\u001b[1m \u001b[0m┃\n",
       "┡━━━━━━━━━━━━━━━━━━━━━━━━━━━╇━━━━━━━━━━━━━━━━━━━━━━━━━━━┩\n",
       "│\u001b[36m \u001b[0m\u001b[36m        test_loss        \u001b[0m\u001b[36m \u001b[0m│\u001b[35m \u001b[0m\u001b[35m   0.6006463170051575    \u001b[0m\u001b[35m \u001b[0m│\n",
       "└───────────────────────────┴───────────────────────────┘\n"
      ]
     },
     "metadata": {},
     "output_type": "display_data"
    },
    {
     "name": "stderr",
     "output_type": "stream",
     "text": [
      "GPU available: True (cuda), used: True\n",
      "TPU available: False, using: 0 TPU cores\n",
      "IPU available: False, using: 0 IPUs\n",
      "HPU available: False, using: 0 HPUs\n",
      "LOCAL_RANK: 0 - CUDA_VISIBLE_DEVICES: [0]\n",
      "\n",
      "  | Name  | Type           | Params\n",
      "-----------------------------------------\n",
      "0 | model | HybridDenseNet | 51.0 K\n",
      "-----------------------------------------\n",
      "51.0 K    Trainable params\n",
      "0         Non-trainable params\n",
      "51.0 K    Total params\n",
      "0.204     Total estimated model params size (MB)\n"
     ]
    },
    {
     "name": "stdout",
     "output_type": "stream",
     "text": [
      "Cardinality: 2, Growth Rate: 2, Bottleneck: 8\n",
      "====================================================================================================\n"
     ]
    },
    {
     "data": {
      "application/vnd.jupyter.widget-view+json": {
       "model_id": "b71db17f49094f38ab2d027762c909d1",
       "version_major": 2,
       "version_minor": 0
      },
      "text/plain": [
       "Training: 0it [00:00, ?it/s]"
      ]
     },
     "metadata": {},
     "output_type": "display_data"
    },
    {
     "name": "stdout",
     "output_type": "stream",
     "text": [
      "[   50] loss : 0.693654 acc: 0.500000\n",
      "[   50] loss : 0.637011 acc: 0.812500\n",
      "[   50] loss : 0.661511 acc: 0.593750\n",
      "[   50] loss : 0.615609 acc: 0.781250\n",
      "[   50] loss : 0.583906 acc: 0.875000\n",
      "[   50] loss : 0.533115 acc: 0.968750\n",
      "[   50] loss : 0.583178 acc: 0.750000\n",
      "[   50] loss : 0.521928 acc: 0.875000\n",
      "[   50] loss : 0.535332 acc: 0.875000\n",
      "[   50] loss : 0.468594 acc: 0.937500\n",
      "[   50] loss : 0.502299 acc: 0.875000\n",
      "[   50] loss : 0.465633 acc: 0.906250\n",
      "[   50] loss : 0.395740 acc: 0.937500\n",
      "[   50] loss : 0.445178 acc: 0.906250\n",
      "[   50] loss : 0.415129 acc: 0.906250\n",
      "[   50] loss : 0.364732 acc: 0.937500\n",
      "[   50] loss : 0.350844 acc: 0.937500\n",
      "[   50] loss : 0.322005 acc: 0.968750\n",
      "[   50] loss : 0.361317 acc: 0.875000\n",
      "[   50] loss : 0.362075 acc: 0.906250\n"
     ]
    },
    {
     "name": "stderr",
     "output_type": "stream",
     "text": [
      "`Trainer.fit` stopped: `max_epochs=20` reached.\n",
      "LOCAL_RANK: 0 - CUDA_VISIBLE_DEVICES: [0]\n"
     ]
    },
    {
     "name": "stdout",
     "output_type": "stream",
     "text": [
      "----------------------------------------------------------------------------------------------------\n",
      "Testing model..\n"
     ]
    },
    {
     "data": {
      "application/vnd.jupyter.widget-view+json": {
       "model_id": "d866f1085da44da9a2dbc86656f1fce5",
       "version_major": 2,
       "version_minor": 0
      },
      "text/plain": [
       "Testing: 0it [00:00, ?it/s]"
      ]
     },
     "metadata": {},
     "output_type": "display_data"
    },
    {
     "name": "stdout",
     "output_type": "stream",
     "text": [
      "[10] loss : 0.494037 acc: 0.781250\n",
      "[20] loss : 0.495819 acc: 0.687500\n",
      "[30] loss : 0.573349 acc: 0.718750\n",
      "[40] loss : 0.479890 acc: 0.781250\n",
      "[50] loss : 0.440775 acc: 0.843750\n",
      "[60] loss : 0.430718 acc: 0.812500\n",
      "[70] loss : 0.427405 acc: 0.843750\n",
      "[80] loss : 0.535604 acc: 0.750000\n",
      "[90] loss : 0.487156 acc: 0.812500\n",
      "[100] loss : 0.398234 acc: 0.812500\n",
      "[110] loss : 0.384271 acc: 0.843750\n",
      "[120] loss : 0.470881 acc: 0.781250\n",
      "[130] loss : 0.552084 acc: 0.687500\n"
     ]
    },
    {
     "data": {
      "text/html": [
       "<pre style=\"white-space:pre;overflow-x:auto;line-height:normal;font-family:Menlo,'DejaVu Sans Mono',consolas,'Courier New',monospace\">┏━━━━━━━━━━━━━━━━━━━━━━━━━━━┳━━━━━━━━━━━━━━━━━━━━━━━━━━━┓\n",
       "┃<span style=\"font-weight: bold\">        Test metric        </span>┃<span style=\"font-weight: bold\">       DataLoader 0        </span>┃\n",
       "┡━━━━━━━━━━━━━━━━━━━━━━━━━━━╇━━━━━━━━━━━━━━━━━━━━━━━━━━━┩\n",
       "│<span style=\"color: #008080; text-decoration-color: #008080\">         test_loss         </span>│<span style=\"color: #800080; text-decoration-color: #800080\">    0.4799484610557556     </span>│\n",
       "└───────────────────────────┴───────────────────────────┘\n",
       "</pre>\n"
      ],
      "text/plain": [
       "┏━━━━━━━━━━━━━━━━━━━━━━━━━━━┳━━━━━━━━━━━━━━━━━━━━━━━━━━━┓\n",
       "┃\u001b[1m \u001b[0m\u001b[1m       Test metric       \u001b[0m\u001b[1m \u001b[0m┃\u001b[1m \u001b[0m\u001b[1m      DataLoader 0       \u001b[0m\u001b[1m \u001b[0m┃\n",
       "┡━━━━━━━━━━━━━━━━━━━━━━━━━━━╇━━━━━━━━━━━━━━━━━━━━━━━━━━━┩\n",
       "│\u001b[36m \u001b[0m\u001b[36m        test_loss        \u001b[0m\u001b[36m \u001b[0m│\u001b[35m \u001b[0m\u001b[35m   0.4799484610557556    \u001b[0m\u001b[35m \u001b[0m│\n",
       "└───────────────────────────┴───────────────────────────┘\n"
      ]
     },
     "metadata": {},
     "output_type": "display_data"
    },
    {
     "name": "stderr",
     "output_type": "stream",
     "text": [
      "GPU available: True (cuda), used: True\n",
      "TPU available: False, using: 0 TPU cores\n",
      "IPU available: False, using: 0 IPUs\n",
      "HPU available: False, using: 0 HPUs\n",
      "LOCAL_RANK: 0 - CUDA_VISIBLE_DEVICES: [0]\n",
      "\n",
      "  | Name  | Type           | Params\n",
      "-----------------------------------------\n",
      "0 | model | HybridDenseNet | 211 K \n",
      "-----------------------------------------\n",
      "211 K     Trainable params\n",
      "0         Non-trainable params\n",
      "211 K     Total params\n",
      "0.846     Total estimated model params size (MB)\n"
     ]
    },
    {
     "name": "stdout",
     "output_type": "stream",
     "text": [
      "Cardinality: 2, Growth Rate: 2, Bottleneck: 16\n",
      "====================================================================================================\n"
     ]
    },
    {
     "data": {
      "application/vnd.jupyter.widget-view+json": {
       "model_id": "c1b3b8d055c34ffa9b3e2fc3991caecb",
       "version_major": 2,
       "version_minor": 0
      },
      "text/plain": [
       "Training: 0it [00:00, ?it/s]"
      ]
     },
     "metadata": {},
     "output_type": "display_data"
    },
    {
     "name": "stderr",
     "output_type": "stream",
     "text": [
      "GPU available: True (cuda), used: True\n",
      "TPU available: False, using: 0 TPU cores\n",
      "IPU available: False, using: 0 IPUs\n",
      "HPU available: False, using: 0 HPUs\n",
      "LOCAL_RANK: 0 - CUDA_VISIBLE_DEVICES: [0]\n"
     ]
    },
    {
     "name": "stdout",
     "output_type": "stream",
     "text": [
      "Cardinality: 2, Growth Rate: 2, Bottleneck: 16\n",
      "CUDA ERROR\n",
      "Cardinality: 2, Growth Rate: 2, Bottleneck: 32\n",
      "====================================================================================================\n"
     ]
    },
    {
     "name": "stderr",
     "output_type": "stream",
     "text": [
      "\n",
      "  | Name  | Type           | Params\n",
      "-----------------------------------------\n",
      "0 | model | HybridDenseNet | 1.1 M \n",
      "-----------------------------------------\n",
      "1.1 M     Trainable params\n",
      "0         Non-trainable params\n",
      "1.1 M     Total params\n",
      "4.442     Total estimated model params size (MB)\n"
     ]
    },
    {
     "data": {
      "application/vnd.jupyter.widget-view+json": {
       "model_id": "feda844f05094ebbaf39c5cf3d59a63d",
       "version_major": 2,
       "version_minor": 0
      },
      "text/plain": [
       "Training: 0it [00:00, ?it/s]"
      ]
     },
     "metadata": {},
     "output_type": "display_data"
    },
    {
     "name": "stderr",
     "output_type": "stream",
     "text": [
      "GPU available: True (cuda), used: True\n",
      "TPU available: False, using: 0 TPU cores\n",
      "IPU available: False, using: 0 IPUs\n",
      "HPU available: False, using: 0 HPUs\n",
      "LOCAL_RANK: 0 - CUDA_VISIBLE_DEVICES: [0]\n",
      "\n",
      "  | Name  | Type           | Params\n",
      "-----------------------------------------\n",
      "0 | model | HybridDenseNet | 14.0 K\n",
      "-----------------------------------------\n",
      "14.0 K    Trainable params\n",
      "0         Non-trainable params\n",
      "14.0 K    Total params\n",
      "0.056     Total estimated model params size (MB)\n"
     ]
    },
    {
     "name": "stdout",
     "output_type": "stream",
     "text": [
      "Cardinality: 2, Growth Rate: 2, Bottleneck: 32\n",
      "CUDA ERROR\n",
      "Cardinality: 2, Growth Rate: 4, Bottleneck: 2\n",
      "====================================================================================================\n"
     ]
    },
    {
     "data": {
      "application/vnd.jupyter.widget-view+json": {
       "model_id": "1ebb012f672c45ecaad0cc14f60cd32c",
       "version_major": 2,
       "version_minor": 0
      },
      "text/plain": [
       "Training: 0it [00:00, ?it/s]"
      ]
     },
     "metadata": {},
     "output_type": "display_data"
    },
    {
     "name": "stdout",
     "output_type": "stream",
     "text": [
      "[   50] loss : 0.691463 acc: 0.500000\n",
      "[   50] loss : 0.664722 acc: 0.750000\n",
      "[   50] loss : 0.707250 acc: 0.500000\n",
      "[   50] loss : 0.655290 acc: 0.812500\n",
      "[   50] loss : 0.673556 acc: 0.562500\n",
      "[   50] loss : 0.680865 acc: 0.625000\n",
      "[   50] loss : 0.661157 acc: 0.625000\n",
      "[   50] loss : 0.644058 acc: 0.750000\n",
      "[   50] loss : 0.674343 acc: 0.656250\n",
      "[   50] loss : 0.657062 acc: 0.750000\n",
      "[   50] loss : 0.651694 acc: 0.687500\n",
      "[   50] loss : 0.646130 acc: 0.687500\n",
      "[   50] loss : 0.644047 acc: 0.718750\n",
      "[   50] loss : 0.648430 acc: 0.750000\n",
      "[   50] loss : 0.694271 acc: 0.531250\n",
      "[   50] loss : 0.625072 acc: 0.718750\n",
      "[   50] loss : 0.647803 acc: 0.718750\n",
      "[   50] loss : 0.657017 acc: 0.625000\n",
      "[   50] loss : 0.645534 acc: 0.718750\n",
      "[   50] loss : 0.600055 acc: 0.843750\n"
     ]
    },
    {
     "name": "stderr",
     "output_type": "stream",
     "text": [
      "`Trainer.fit` stopped: `max_epochs=20` reached.\n",
      "LOCAL_RANK: 0 - CUDA_VISIBLE_DEVICES: [0]\n"
     ]
    },
    {
     "name": "stdout",
     "output_type": "stream",
     "text": [
      "----------------------------------------------------------------------------------------------------\n",
      "Testing model..\n"
     ]
    },
    {
     "data": {
      "application/vnd.jupyter.widget-view+json": {
       "model_id": "d2a2f9eba0c446e1a655a80f856d58c1",
       "version_major": 2,
       "version_minor": 0
      },
      "text/plain": [
       "Testing: 0it [00:00, ?it/s]"
      ]
     },
     "metadata": {},
     "output_type": "display_data"
    },
    {
     "name": "stdout",
     "output_type": "stream",
     "text": [
      "[10] loss : 0.668230 acc: 0.656250\n",
      "[20] loss : 0.605375 acc: 0.750000\n",
      "[30] loss : 0.659203 acc: 0.718750\n",
      "[40] loss : 0.578881 acc: 0.781250\n",
      "[50] loss : 0.661590 acc: 0.625000\n",
      "[60] loss : 0.658870 acc: 0.562500\n",
      "[70] loss : 0.646254 acc: 0.718750\n",
      "[80] loss : 0.651870 acc: 0.687500\n",
      "[90] loss : 0.592983 acc: 0.718750\n",
      "[100] loss : 0.632895 acc: 0.781250\n",
      "[110] loss : 0.616530 acc: 0.656250\n",
      "[120] loss : 0.654689 acc: 0.625000\n",
      "[130] loss : 0.669253 acc: 0.687500\n"
     ]
    },
    {
     "data": {
      "text/html": [
       "<pre style=\"white-space:pre;overflow-x:auto;line-height:normal;font-family:Menlo,'DejaVu Sans Mono',consolas,'Courier New',monospace\">┏━━━━━━━━━━━━━━━━━━━━━━━━━━━┳━━━━━━━━━━━━━━━━━━━━━━━━━━━┓\n",
       "┃<span style=\"font-weight: bold\">        Test metric        </span>┃<span style=\"font-weight: bold\">       DataLoader 0        </span>┃\n",
       "┡━━━━━━━━━━━━━━━━━━━━━━━━━━━╇━━━━━━━━━━━━━━━━━━━━━━━━━━━┩\n",
       "│<span style=\"color: #008080; text-decoration-color: #008080\">         test_loss         </span>│<span style=\"color: #800080; text-decoration-color: #800080\">    0.6339969635009766     </span>│\n",
       "└───────────────────────────┴───────────────────────────┘\n",
       "</pre>\n"
      ],
      "text/plain": [
       "┏━━━━━━━━━━━━━━━━━━━━━━━━━━━┳━━━━━━━━━━━━━━━━━━━━━━━━━━━┓\n",
       "┃\u001b[1m \u001b[0m\u001b[1m       Test metric       \u001b[0m\u001b[1m \u001b[0m┃\u001b[1m \u001b[0m\u001b[1m      DataLoader 0       \u001b[0m\u001b[1m \u001b[0m┃\n",
       "┡━━━━━━━━━━━━━━━━━━━━━━━━━━━╇━━━━━━━━━━━━━━━━━━━━━━━━━━━┩\n",
       "│\u001b[36m \u001b[0m\u001b[36m        test_loss        \u001b[0m\u001b[36m \u001b[0m│\u001b[35m \u001b[0m\u001b[35m   0.6339969635009766    \u001b[0m\u001b[35m \u001b[0m│\n",
       "└───────────────────────────┴───────────────────────────┘\n"
      ]
     },
     "metadata": {},
     "output_type": "display_data"
    },
    {
     "name": "stderr",
     "output_type": "stream",
     "text": [
      "GPU available: True (cuda), used: True\n",
      "TPU available: False, using: 0 TPU cores\n",
      "IPU available: False, using: 0 IPUs\n",
      "HPU available: False, using: 0 HPUs\n",
      "LOCAL_RANK: 0 - CUDA_VISIBLE_DEVICES: [0]\n",
      "\n",
      "  | Name  | Type           | Params\n",
      "-----------------------------------------\n",
      "0 | model | HybridDenseNet | 28.1 K\n",
      "-----------------------------------------\n",
      "28.1 K    Trainable params\n",
      "0         Non-trainable params\n",
      "28.1 K    Total params\n",
      "0.112     Total estimated model params size (MB)\n"
     ]
    },
    {
     "name": "stdout",
     "output_type": "stream",
     "text": [
      "Cardinality: 2, Growth Rate: 4, Bottleneck: 4\n",
      "====================================================================================================\n"
     ]
    },
    {
     "data": {
      "application/vnd.jupyter.widget-view+json": {
       "model_id": "89ead4695171452cb89946ea1005a82a",
       "version_major": 2,
       "version_minor": 0
      },
      "text/plain": [
       "Training: 0it [00:00, ?it/s]"
      ]
     },
     "metadata": {},
     "output_type": "display_data"
    },
    {
     "name": "stdout",
     "output_type": "stream",
     "text": [
      "[   50] loss : 0.689457 acc: 0.562500\n",
      "[   50] loss : 0.674250 acc: 0.562500\n",
      "[   50] loss : 0.668867 acc: 0.593750\n",
      "[   50] loss : 0.680768 acc: 0.562500\n",
      "[   50] loss : 0.638967 acc: 0.718750\n",
      "[   50] loss : 0.662943 acc: 0.656250\n",
      "[   50] loss : 0.626680 acc: 0.687500\n",
      "[   50] loss : 0.653373 acc: 0.718750\n",
      "[   50] loss : 0.661999 acc: 0.625000\n",
      "[   50] loss : 0.628154 acc: 0.687500\n",
      "[   50] loss : 0.626772 acc: 0.781250\n",
      "[   50] loss : 0.623470 acc: 0.781250\n",
      "[   50] loss : 0.608814 acc: 0.656250\n",
      "[   50] loss : 0.576690 acc: 0.812500\n",
      "[   50] loss : 0.655580 acc: 0.687500\n",
      "[   50] loss : 0.577061 acc: 0.875000\n",
      "[   50] loss : 0.579290 acc: 0.781250\n",
      "[   50] loss : 0.536286 acc: 0.843750\n",
      "[   50] loss : 0.484836 acc: 0.906250\n",
      "[   50] loss : 0.532097 acc: 0.875000\n"
     ]
    },
    {
     "name": "stderr",
     "output_type": "stream",
     "text": [
      "`Trainer.fit` stopped: `max_epochs=20` reached.\n",
      "LOCAL_RANK: 0 - CUDA_VISIBLE_DEVICES: [0]\n"
     ]
    },
    {
     "name": "stdout",
     "output_type": "stream",
     "text": [
      "----------------------------------------------------------------------------------------------------\n",
      "Testing model..\n"
     ]
    },
    {
     "data": {
      "application/vnd.jupyter.widget-view+json": {
       "model_id": "e065b2ed58414e8b91db0c07fae4fd1a",
       "version_major": 2,
       "version_minor": 0
      },
      "text/plain": [
       "Testing: 0it [00:00, ?it/s]"
      ]
     },
     "metadata": {},
     "output_type": "display_data"
    },
    {
     "name": "stdout",
     "output_type": "stream",
     "text": [
      "[10] loss : 0.492570 acc: 0.875000\n",
      "[20] loss : 0.512628 acc: 0.781250\n",
      "[30] loss : 0.470736 acc: 0.875000\n",
      "[40] loss : 0.504145 acc: 0.812500\n",
      "[50] loss : 0.495130 acc: 0.843750\n",
      "[60] loss : 0.495076 acc: 0.906250\n",
      "[70] loss : 0.517345 acc: 0.906250\n",
      "[80] loss : 0.508706 acc: 0.843750\n",
      "[90] loss : 0.536500 acc: 0.906250\n",
      "[100] loss : 0.514958 acc: 0.906250\n",
      "[110] loss : 0.533608 acc: 0.781250\n",
      "[120] loss : 0.547330 acc: 0.781250\n",
      "[130] loss : 0.504047 acc: 0.812500\n"
     ]
    },
    {
     "data": {
      "text/html": [
       "<pre style=\"white-space:pre;overflow-x:auto;line-height:normal;font-family:Menlo,'DejaVu Sans Mono',consolas,'Courier New',monospace\">┏━━━━━━━━━━━━━━━━━━━━━━━━━━━┳━━━━━━━━━━━━━━━━━━━━━━━━━━━┓\n",
       "┃<span style=\"font-weight: bold\">        Test metric        </span>┃<span style=\"font-weight: bold\">       DataLoader 0        </span>┃\n",
       "┡━━━━━━━━━━━━━━━━━━━━━━━━━━━╇━━━━━━━━━━━━━━━━━━━━━━━━━━━┩\n",
       "│<span style=\"color: #008080; text-decoration-color: #008080\">         test_loss         </span>│<span style=\"color: #800080; text-decoration-color: #800080\">    0.5151675343513489     </span>│\n",
       "└───────────────────────────┴───────────────────────────┘\n",
       "</pre>\n"
      ],
      "text/plain": [
       "┏━━━━━━━━━━━━━━━━━━━━━━━━━━━┳━━━━━━━━━━━━━━━━━━━━━━━━━━━┓\n",
       "┃\u001b[1m \u001b[0m\u001b[1m       Test metric       \u001b[0m\u001b[1m \u001b[0m┃\u001b[1m \u001b[0m\u001b[1m      DataLoader 0       \u001b[0m\u001b[1m \u001b[0m┃\n",
       "┡━━━━━━━━━━━━━━━━━━━━━━━━━━━╇━━━━━━━━━━━━━━━━━━━━━━━━━━━┩\n",
       "│\u001b[36m \u001b[0m\u001b[36m        test_loss        \u001b[0m\u001b[36m \u001b[0m│\u001b[35m \u001b[0m\u001b[35m   0.5151675343513489    \u001b[0m\u001b[35m \u001b[0m│\n",
       "└───────────────────────────┴───────────────────────────┘\n"
      ]
     },
     "metadata": {},
     "output_type": "display_data"
    },
    {
     "name": "stderr",
     "output_type": "stream",
     "text": [
      "GPU available: True (cuda), used: True\n",
      "TPU available: False, using: 0 TPU cores\n",
      "IPU available: False, using: 0 IPUs\n",
      "HPU available: False, using: 0 HPUs\n",
      "LOCAL_RANK: 0 - CUDA_VISIBLE_DEVICES: [0]\n",
      "\n",
      "  | Name  | Type           | Params\n",
      "-----------------------------------------\n",
      "0 | model | HybridDenseNet | 92.1 K\n",
      "-----------------------------------------\n",
      "92.1 K    Trainable params\n",
      "0         Non-trainable params\n",
      "92.1 K    Total params\n",
      "0.369     Total estimated model params size (MB)\n"
     ]
    },
    {
     "name": "stdout",
     "output_type": "stream",
     "text": [
      "Cardinality: 2, Growth Rate: 4, Bottleneck: 8\n",
      "====================================================================================================\n"
     ]
    },
    {
     "data": {
      "application/vnd.jupyter.widget-view+json": {
       "model_id": "3879a3bd1d9e47e7bc653cfe8536a1bf",
       "version_major": 2,
       "version_minor": 0
      },
      "text/plain": [
       "Training: 0it [00:00, ?it/s]"
      ]
     },
     "metadata": {},
     "output_type": "display_data"
    },
    {
     "name": "stdout",
     "output_type": "stream",
     "text": [
      "[   50] loss : 0.691001 acc: 0.562500\n",
      "[   50] loss : 0.626842 acc: 0.750000\n",
      "[   50] loss : 0.625157 acc: 0.687500\n",
      "[   50] loss : 0.624177 acc: 0.687500\n",
      "[   50] loss : 0.609539 acc: 0.781250\n",
      "[   50] loss : 0.620300 acc: 0.718750\n",
      "[   50] loss : 0.574468 acc: 0.843750\n",
      "[   50] loss : 0.527698 acc: 0.843750\n",
      "[   50] loss : 0.511741 acc: 0.906250\n",
      "[   50] loss : 0.453932 acc: 0.875000\n",
      "[   50] loss : 0.414177 acc: 0.968750\n",
      "[   50] loss : 0.497965 acc: 0.875000\n",
      "[   50] loss : 0.370758 acc: 0.937500\n",
      "[   50] loss : 0.360372 acc: 0.968750\n",
      "[   50] loss : 0.419025 acc: 0.875000\n",
      "[   50] loss : 0.349449 acc: 0.906250\n",
      "[   50] loss : 0.404263 acc: 0.843750\n",
      "[   50] loss : 0.327523 acc: 0.906250\n",
      "[   50] loss : 0.488874 acc: 0.843750\n",
      "[   50] loss : 0.413786 acc: 0.781250\n"
     ]
    },
    {
     "name": "stderr",
     "output_type": "stream",
     "text": [
      "`Trainer.fit` stopped: `max_epochs=20` reached.\n",
      "LOCAL_RANK: 0 - CUDA_VISIBLE_DEVICES: [0]\n"
     ]
    },
    {
     "name": "stdout",
     "output_type": "stream",
     "text": [
      "----------------------------------------------------------------------------------------------------\n",
      "Testing model..\n"
     ]
    },
    {
     "data": {
      "application/vnd.jupyter.widget-view+json": {
       "model_id": "85458671867442b391e4fe0c0fa95fa2",
       "version_major": 2,
       "version_minor": 0
      },
      "text/plain": [
       "Testing: 0it [00:00, ?it/s]"
      ]
     },
     "metadata": {},
     "output_type": "display_data"
    },
    {
     "name": "stdout",
     "output_type": "stream",
     "text": [
      "[10] loss : 0.343576 acc: 0.875000\n",
      "[20] loss : 0.285520 acc: 0.906250\n",
      "[30] loss : 0.337386 acc: 0.906250\n",
      "[40] loss : 0.259049 acc: 0.968750\n",
      "[50] loss : 0.323292 acc: 0.906250\n",
      "[60] loss : 0.248587 acc: 0.968750\n",
      "[70] loss : 0.307006 acc: 0.875000\n",
      "[80] loss : 0.350207 acc: 0.875000\n",
      "[90] loss : 0.286661 acc: 0.937500\n",
      "[100] loss : 0.224640 acc: 0.968750\n",
      "[110] loss : 0.282818 acc: 0.968750\n",
      "[120] loss : 0.382894 acc: 0.843750\n",
      "[130] loss : 0.390754 acc: 0.937500\n"
     ]
    },
    {
     "data": {
      "text/html": [
       "<pre style=\"white-space:pre;overflow-x:auto;line-height:normal;font-family:Menlo,'DejaVu Sans Mono',consolas,'Courier New',monospace\">┏━━━━━━━━━━━━━━━━━━━━━━━━━━━┳━━━━━━━━━━━━━━━━━━━━━━━━━━━┓\n",
       "┃<span style=\"font-weight: bold\">        Test metric        </span>┃<span style=\"font-weight: bold\">       DataLoader 0        </span>┃\n",
       "┡━━━━━━━━━━━━━━━━━━━━━━━━━━━╇━━━━━━━━━━━━━━━━━━━━━━━━━━━┩\n",
       "│<span style=\"color: #008080; text-decoration-color: #008080\">         test_loss         </span>│<span style=\"color: #800080; text-decoration-color: #800080\">    0.2811066210269928     </span>│\n",
       "└───────────────────────────┴───────────────────────────┘\n",
       "</pre>\n"
      ],
      "text/plain": [
       "┏━━━━━━━━━━━━━━━━━━━━━━━━━━━┳━━━━━━━━━━━━━━━━━━━━━━━━━━━┓\n",
       "┃\u001b[1m \u001b[0m\u001b[1m       Test metric       \u001b[0m\u001b[1m \u001b[0m┃\u001b[1m \u001b[0m\u001b[1m      DataLoader 0       \u001b[0m\u001b[1m \u001b[0m┃\n",
       "┡━━━━━━━━━━━━━━━━━━━━━━━━━━━╇━━━━━━━━━━━━━━━━━━━━━━━━━━━┩\n",
       "│\u001b[36m \u001b[0m\u001b[36m        test_loss        \u001b[0m\u001b[36m \u001b[0m│\u001b[35m \u001b[0m\u001b[35m   0.2811066210269928    \u001b[0m\u001b[35m \u001b[0m│\n",
       "└───────────────────────────┴───────────────────────────┘\n"
      ]
     },
     "metadata": {},
     "output_type": "display_data"
    },
    {
     "name": "stderr",
     "output_type": "stream",
     "text": [
      "GPU available: True (cuda), used: True\n",
      "TPU available: False, using: 0 TPU cores\n",
      "IPU available: False, using: 0 IPUs\n",
      "HPU available: False, using: 0 HPUs\n"
     ]
    },
    {
     "name": "stdout",
     "output_type": "stream",
     "text": [
      "Cardinality: 2, Growth Rate: 4, Bottleneck: 16\n",
      "====================================================================================================\n"
     ]
    },
    {
     "name": "stderr",
     "output_type": "stream",
     "text": [
      "LOCAL_RANK: 0 - CUDA_VISIBLE_DEVICES: [0]\n",
      "\n",
      "  | Name  | Type           | Params\n",
      "-----------------------------------------\n",
      "0 | model | HybridDenseNet | 412 K \n",
      "-----------------------------------------\n",
      "412 K     Trainable params\n",
      "0         Non-trainable params\n",
      "412 K     Total params\n",
      "1.651     Total estimated model params size (MB)\n"
     ]
    },
    {
     "data": {
      "application/vnd.jupyter.widget-view+json": {
       "model_id": "a8e6f39c98464ae7ab8733786b901776",
       "version_major": 2,
       "version_minor": 0
      },
      "text/plain": [
       "Training: 0it [00:00, ?it/s]"
      ]
     },
     "metadata": {},
     "output_type": "display_data"
    },
    {
     "name": "stderr",
     "output_type": "stream",
     "text": [
      "GPU available: True (cuda), used: True\n",
      "TPU available: False, using: 0 TPU cores\n",
      "IPU available: False, using: 0 IPUs\n",
      "HPU available: False, using: 0 HPUs\n",
      "LOCAL_RANK: 0 - CUDA_VISIBLE_DEVICES: [0]\n"
     ]
    },
    {
     "name": "stdout",
     "output_type": "stream",
     "text": [
      "Cardinality: 2, Growth Rate: 4, Bottleneck: 16\n",
      "CUDA ERROR\n",
      "Cardinality: 2, Growth Rate: 4, Bottleneck: 32\n",
      "====================================================================================================\n"
     ]
    },
    {
     "name": "stderr",
     "output_type": "stream",
     "text": [
      "\n",
      "  | Name  | Type           | Params\n",
      "-----------------------------------------\n",
      "0 | model | HybridDenseNet | 2.2 M \n",
      "-----------------------------------------\n",
      "2.2 M     Trainable params\n",
      "0         Non-trainable params\n",
      "2.2 M     Total params\n",
      "8.841     Total estimated model params size (MB)\n"
     ]
    },
    {
     "data": {
      "application/vnd.jupyter.widget-view+json": {
       "model_id": "da3d17986a3848bd824d27ecd00f30a7",
       "version_major": 2,
       "version_minor": 0
      },
      "text/plain": [
       "Training: 0it [00:00, ?it/s]"
      ]
     },
     "metadata": {},
     "output_type": "display_data"
    },
    {
     "name": "stderr",
     "output_type": "stream",
     "text": [
      "GPU available: True (cuda), used: True\n",
      "TPU available: False, using: 0 TPU cores\n",
      "IPU available: False, using: 0 IPUs\n",
      "HPU available: False, using: 0 HPUs\n",
      "LOCAL_RANK: 0 - CUDA_VISIBLE_DEVICES: [0]\n",
      "\n",
      "  | Name  | Type           | Params\n",
      "-----------------------------------------\n",
      "0 | model | HybridDenseNet | 18.3 K\n",
      "-----------------------------------------\n",
      "18.3 K    Trainable params\n",
      "0         Non-trainable params\n",
      "18.3 K    Total params\n",
      "0.073     Total estimated model params size (MB)\n"
     ]
    },
    {
     "name": "stdout",
     "output_type": "stream",
     "text": [
      "Cardinality: 2, Growth Rate: 4, Bottleneck: 32\n",
      "CUDA ERROR\n",
      "Cardinality: 2, Growth Rate: 8, Bottleneck: 2\n",
      "====================================================================================================\n"
     ]
    },
    {
     "data": {
      "application/vnd.jupyter.widget-view+json": {
       "model_id": "d89a1402eade4d03b27009001a0c87c5",
       "version_major": 2,
       "version_minor": 0
      },
      "text/plain": [
       "Training: 0it [00:00, ?it/s]"
      ]
     },
     "metadata": {},
     "output_type": "display_data"
    },
    {
     "name": "stdout",
     "output_type": "stream",
     "text": [
      "[   50] loss : 0.693764 acc: 0.625000\n",
      "[   50] loss : 0.692251 acc: 0.500000\n",
      "[   50] loss : 0.670669 acc: 0.656250\n",
      "[   50] loss : 0.651279 acc: 0.656250\n",
      "[   50] loss : 0.658656 acc: 0.625000\n",
      "[   50] loss : 0.661930 acc: 0.718750\n",
      "[   50] loss : 0.661272 acc: 0.593750\n",
      "[   50] loss : 0.657549 acc: 0.531250\n",
      "[   50] loss : 0.684637 acc: 0.500000\n",
      "[   50] loss : 0.661346 acc: 0.562500\n",
      "[   50] loss : 0.700115 acc: 0.500000\n",
      "[   50] loss : 0.628551 acc: 0.718750\n",
      "[   50] loss : 0.680098 acc: 0.593750\n",
      "[   50] loss : 0.652066 acc: 0.687500\n",
      "[   50] loss : 0.676520 acc: 0.531250\n",
      "[   50] loss : 0.645265 acc: 0.687500\n",
      "[   50] loss : 0.639084 acc: 0.656250\n",
      "[   50] loss : 0.645403 acc: 0.656250\n",
      "[   50] loss : 0.692342 acc: 0.562500\n",
      "[   50] loss : 0.686504 acc: 0.625000\n"
     ]
    },
    {
     "name": "stderr",
     "output_type": "stream",
     "text": [
      "`Trainer.fit` stopped: `max_epochs=20` reached.\n",
      "LOCAL_RANK: 0 - CUDA_VISIBLE_DEVICES: [0]\n"
     ]
    },
    {
     "name": "stdout",
     "output_type": "stream",
     "text": [
      "----------------------------------------------------------------------------------------------------\n",
      "Testing model..\n"
     ]
    },
    {
     "data": {
      "application/vnd.jupyter.widget-view+json": {
       "model_id": "8ee055fc6c5f42eabf37dde2b85e41bc",
       "version_major": 2,
       "version_minor": 0
      },
      "text/plain": [
       "Testing: 0it [00:00, ?it/s]"
      ]
     },
     "metadata": {},
     "output_type": "display_data"
    },
    {
     "name": "stdout",
     "output_type": "stream",
     "text": [
      "[10] loss : 0.660826 acc: 0.562500\n",
      "[20] loss : 0.666203 acc: 0.531250\n",
      "[30] loss : 0.603743 acc: 0.812500\n",
      "[40] loss : 0.674207 acc: 0.531250\n",
      "[50] loss : 0.649622 acc: 0.531250\n",
      "[60] loss : 0.652866 acc: 0.625000\n",
      "[70] loss : 0.695020 acc: 0.500000\n",
      "[80] loss : 0.657569 acc: 0.656250\n",
      "[90] loss : 0.599636 acc: 0.750000\n",
      "[100] loss : 0.621436 acc: 0.656250\n",
      "[110] loss : 0.692650 acc: 0.562500\n",
      "[120] loss : 0.617548 acc: 0.656250\n",
      "[130] loss : 0.648095 acc: 0.625000\n"
     ]
    },
    {
     "data": {
      "text/html": [
       "<pre style=\"white-space:pre;overflow-x:auto;line-height:normal;font-family:Menlo,'DejaVu Sans Mono',consolas,'Courier New',monospace\">┏━━━━━━━━━━━━━━━━━━━━━━━━━━━┳━━━━━━━━━━━━━━━━━━━━━━━━━━━┓\n",
       "┃<span style=\"font-weight: bold\">        Test metric        </span>┃<span style=\"font-weight: bold\">       DataLoader 0        </span>┃\n",
       "┡━━━━━━━━━━━━━━━━━━━━━━━━━━━╇━━━━━━━━━━━━━━━━━━━━━━━━━━━┩\n",
       "│<span style=\"color: #008080; text-decoration-color: #008080\">         test_loss         </span>│<span style=\"color: #800080; text-decoration-color: #800080\">    0.6444441080093384     </span>│\n",
       "└───────────────────────────┴───────────────────────────┘\n",
       "</pre>\n"
      ],
      "text/plain": [
       "┏━━━━━━━━━━━━━━━━━━━━━━━━━━━┳━━━━━━━━━━━━━━━━━━━━━━━━━━━┓\n",
       "┃\u001b[1m \u001b[0m\u001b[1m       Test metric       \u001b[0m\u001b[1m \u001b[0m┃\u001b[1m \u001b[0m\u001b[1m      DataLoader 0       \u001b[0m\u001b[1m \u001b[0m┃\n",
       "┡━━━━━━━━━━━━━━━━━━━━━━━━━━━╇━━━━━━━━━━━━━━━━━━━━━━━━━━━┩\n",
       "│\u001b[36m \u001b[0m\u001b[36m        test_loss        \u001b[0m\u001b[36m \u001b[0m│\u001b[35m \u001b[0m\u001b[35m   0.6444441080093384    \u001b[0m\u001b[35m \u001b[0m│\n",
       "└───────────────────────────┴───────────────────────────┘\n"
      ]
     },
     "metadata": {},
     "output_type": "display_data"
    },
    {
     "name": "stderr",
     "output_type": "stream",
     "text": [
      "GPU available: True (cuda), used: True\n",
      "TPU available: False, using: 0 TPU cores\n",
      "IPU available: False, using: 0 IPUs\n",
      "HPU available: False, using: 0 HPUs\n",
      "LOCAL_RANK: 0 - CUDA_VISIBLE_DEVICES: [0]\n",
      "\n",
      "  | Name  | Type           | Params\n",
      "-----------------------------------------\n",
      "0 | model | HybridDenseNet | 46.3 K\n",
      "-----------------------------------------\n",
      "46.3 K    Trainable params\n",
      "0         Non-trainable params\n",
      "46.3 K    Total params\n",
      "0.185     Total estimated model params size (MB)\n"
     ]
    },
    {
     "name": "stdout",
     "output_type": "stream",
     "text": [
      "Cardinality: 2, Growth Rate: 8, Bottleneck: 4\n",
      "====================================================================================================\n"
     ]
    },
    {
     "data": {
      "application/vnd.jupyter.widget-view+json": {
       "model_id": "e9ffc0696a3440618974b031b202c4ae",
       "version_major": 2,
       "version_minor": 0
      },
      "text/plain": [
       "Training: 0it [00:00, ?it/s]"
      ]
     },
     "metadata": {},
     "output_type": "display_data"
    },
    {
     "name": "stdout",
     "output_type": "stream",
     "text": [
      "[   50] loss : 0.703515 acc: 0.437500\n",
      "[   50] loss : 0.639110 acc: 0.687500\n",
      "[   50] loss : 0.634562 acc: 0.750000\n",
      "[   50] loss : 0.600899 acc: 0.812500\n",
      "[   50] loss : 0.641812 acc: 0.750000\n",
      "[   50] loss : 0.604961 acc: 0.718750\n",
      "[   50] loss : 0.609791 acc: 0.750000\n",
      "[   50] loss : 0.574710 acc: 0.875000\n",
      "[   50] loss : 0.572657 acc: 0.812500\n",
      "[   50] loss : 0.559706 acc: 0.843750\n",
      "[   50] loss : 0.507854 acc: 0.875000\n",
      "[   50] loss : 0.544884 acc: 0.875000\n",
      "[   50] loss : 0.528987 acc: 0.812500\n",
      "[   50] loss : 0.495669 acc: 0.937500\n",
      "[   50] loss : 0.479758 acc: 0.875000\n",
      "[   50] loss : 0.519102 acc: 0.812500\n",
      "[   50] loss : 0.507762 acc: 0.843750\n",
      "[   50] loss : 0.452984 acc: 0.843750\n",
      "[   50] loss : 0.408672 acc: 0.906250\n",
      "[   50] loss : 0.428282 acc: 0.906250\n"
     ]
    },
    {
     "name": "stderr",
     "output_type": "stream",
     "text": [
      "`Trainer.fit` stopped: `max_epochs=20` reached.\n",
      "LOCAL_RANK: 0 - CUDA_VISIBLE_DEVICES: [0]\n"
     ]
    },
    {
     "name": "stdout",
     "output_type": "stream",
     "text": [
      "----------------------------------------------------------------------------------------------------\n",
      "Testing model..\n"
     ]
    },
    {
     "data": {
      "application/vnd.jupyter.widget-view+json": {
       "model_id": "c3cd7c6fdbe749b4a00c22ff7fb54ca2",
       "version_major": 2,
       "version_minor": 0
      },
      "text/plain": [
       "Testing: 0it [00:00, ?it/s]"
      ]
     },
     "metadata": {},
     "output_type": "display_data"
    },
    {
     "name": "stdout",
     "output_type": "stream",
     "text": [
      "[10] loss : 0.560459 acc: 0.781250\n",
      "[20] loss : 0.559093 acc: 0.718750\n",
      "[30] loss : 0.500577 acc: 0.843750\n",
      "[40] loss : 0.570535 acc: 0.750000\n",
      "[50] loss : 0.552742 acc: 0.875000\n",
      "[60] loss : 0.672495 acc: 0.593750\n",
      "[70] loss : 0.495108 acc: 0.843750\n",
      "[80] loss : 0.522716 acc: 0.781250\n",
      "[90] loss : 0.566402 acc: 0.750000\n",
      "[100] loss : 0.504022 acc: 0.812500\n",
      "[110] loss : 0.508214 acc: 0.812500\n",
      "[120] loss : 0.455977 acc: 0.843750\n",
      "[130] loss : 0.477959 acc: 0.812500\n"
     ]
    },
    {
     "data": {
      "text/html": [
       "<pre style=\"white-space:pre;overflow-x:auto;line-height:normal;font-family:Menlo,'DejaVu Sans Mono',consolas,'Courier New',monospace\">┏━━━━━━━━━━━━━━━━━━━━━━━━━━━┳━━━━━━━━━━━━━━━━━━━━━━━━━━━┓\n",
       "┃<span style=\"font-weight: bold\">        Test metric        </span>┃<span style=\"font-weight: bold\">       DataLoader 0        </span>┃\n",
       "┡━━━━━━━━━━━━━━━━━━━━━━━━━━━╇━━━━━━━━━━━━━━━━━━━━━━━━━━━┩\n",
       "│<span style=\"color: #008080; text-decoration-color: #008080\">         test_loss         </span>│<span style=\"color: #800080; text-decoration-color: #800080\">    0.5346888899803162     </span>│\n",
       "└───────────────────────────┴───────────────────────────┘\n",
       "</pre>\n"
      ],
      "text/plain": [
       "┏━━━━━━━━━━━━━━━━━━━━━━━━━━━┳━━━━━━━━━━━━━━━━━━━━━━━━━━━┓\n",
       "┃\u001b[1m \u001b[0m\u001b[1m       Test metric       \u001b[0m\u001b[1m \u001b[0m┃\u001b[1m \u001b[0m\u001b[1m      DataLoader 0       \u001b[0m\u001b[1m \u001b[0m┃\n",
       "┡━━━━━━━━━━━━━━━━━━━━━━━━━━━╇━━━━━━━━━━━━━━━━━━━━━━━━━━━┩\n",
       "│\u001b[36m \u001b[0m\u001b[36m        test_loss        \u001b[0m\u001b[36m \u001b[0m│\u001b[35m \u001b[0m\u001b[35m   0.5346888899803162    \u001b[0m\u001b[35m \u001b[0m│\n",
       "└───────────────────────────┴───────────────────────────┘\n"
      ]
     },
     "metadata": {},
     "output_type": "display_data"
    },
    {
     "name": "stderr",
     "output_type": "stream",
     "text": [
      "GPU available: True (cuda), used: True\n",
      "TPU available: False, using: 0 TPU cores\n",
      "IPU available: False, using: 0 IPUs\n",
      "HPU available: False, using: 0 HPUs\n",
      "LOCAL_RANK: 0 - CUDA_VISIBLE_DEVICES: [0]\n",
      "\n",
      "  | Name  | Type           | Params\n",
      "-----------------------------------------\n",
      "0 | model | HybridDenseNet | 174 K \n",
      "-----------------------------------------\n",
      "174 K     Trainable params\n",
      "0         Non-trainable params\n",
      "174 K     Total params\n",
      "0.697     Total estimated model params size (MB)\n"
     ]
    },
    {
     "name": "stdout",
     "output_type": "stream",
     "text": [
      "Cardinality: 2, Growth Rate: 8, Bottleneck: 8\n",
      "====================================================================================================\n"
     ]
    },
    {
     "data": {
      "application/vnd.jupyter.widget-view+json": {
       "model_id": "f47ef22226d04028b623ac6cdea43b43",
       "version_major": 2,
       "version_minor": 0
      },
      "text/plain": [
       "Training: 0it [00:00, ?it/s]"
      ]
     },
     "metadata": {},
     "output_type": "display_data"
    },
    {
     "name": "stdout",
     "output_type": "stream",
     "text": [
      "[   50] loss : 0.670734 acc: 0.656250\n",
      "[   50] loss : 0.603339 acc: 0.750000\n",
      "[   50] loss : 0.595740 acc: 0.781250\n",
      "[   50] loss : 0.573870 acc: 0.875000\n",
      "[   50] loss : 0.549110 acc: 0.812500\n",
      "[   50] loss : 0.555238 acc: 0.812500\n",
      "[   50] loss : 0.515724 acc: 0.906250\n",
      "[   50] loss : 0.518725 acc: 0.812500\n",
      "[   50] loss : 0.522642 acc: 0.812500\n",
      "[   50] loss : 0.450778 acc: 0.906250\n",
      "[   50] loss : 0.483256 acc: 0.875000\n",
      "[   50] loss : 0.424557 acc: 0.843750\n",
      "[   50] loss : 0.417788 acc: 0.875000\n",
      "[   50] loss : 0.378104 acc: 0.968750\n",
      "[   50] loss : 0.342820 acc: 0.937500\n",
      "[   50] loss : 0.369266 acc: 0.968750\n",
      "[   50] loss : 0.361540 acc: 0.906250\n",
      "[   50] loss : 0.374756 acc: 0.906250\n",
      "[   50] loss : 0.408682 acc: 0.875000\n",
      "[   50] loss : 0.263077 acc: 0.968750\n"
     ]
    },
    {
     "name": "stderr",
     "output_type": "stream",
     "text": [
      "`Trainer.fit` stopped: `max_epochs=20` reached.\n",
      "LOCAL_RANK: 0 - CUDA_VISIBLE_DEVICES: [0]\n"
     ]
    },
    {
     "name": "stdout",
     "output_type": "stream",
     "text": [
      "----------------------------------------------------------------------------------------------------\n",
      "Testing model..\n"
     ]
    },
    {
     "data": {
      "application/vnd.jupyter.widget-view+json": {
       "model_id": "794bee7dd9cf4f17aa6336c389830d49",
       "version_major": 2,
       "version_minor": 0
      },
      "text/plain": [
       "Testing: 0it [00:00, ?it/s]"
      ]
     },
     "metadata": {},
     "output_type": "display_data"
    },
    {
     "name": "stdout",
     "output_type": "stream",
     "text": [
      "[10] loss : 0.440830 acc: 0.812500\n",
      "[20] loss : 0.468869 acc: 0.781250\n",
      "[30] loss : 1.161576 acc: 0.687500\n",
      "[40] loss : 1.060946 acc: 0.718750\n",
      "[50] loss : 0.846405 acc: 0.718750\n",
      "[60] loss : 0.452373 acc: 0.781250\n",
      "[70] loss : 1.395079 acc: 0.781250\n",
      "[80] loss : 0.968032 acc: 0.656250\n",
      "[90] loss : 0.684908 acc: 0.656250\n",
      "[100] loss : 0.518417 acc: 0.750000\n",
      "[110] loss : 0.844180 acc: 0.781250\n",
      "[120] loss : 0.926198 acc: 0.625000\n",
      "[130] loss : 0.482695 acc: 0.812500\n"
     ]
    },
    {
     "data": {
      "text/html": [
       "<pre style=\"white-space:pre;overflow-x:auto;line-height:normal;font-family:Menlo,'DejaVu Sans Mono',consolas,'Courier New',monospace\">┏━━━━━━━━━━━━━━━━━━━━━━━━━━━┳━━━━━━━━━━━━━━━━━━━━━━━━━━━┓\n",
       "┃<span style=\"font-weight: bold\">        Test metric        </span>┃<span style=\"font-weight: bold\">       DataLoader 0        </span>┃\n",
       "┡━━━━━━━━━━━━━━━━━━━━━━━━━━━╇━━━━━━━━━━━━━━━━━━━━━━━━━━━┩\n",
       "│<span style=\"color: #008080; text-decoration-color: #008080\">         test_loss         </span>│<span style=\"color: #800080; text-decoration-color: #800080\">    0.6912131905555725     </span>│\n",
       "└───────────────────────────┴───────────────────────────┘\n",
       "</pre>\n"
      ],
      "text/plain": [
       "┏━━━━━━━━━━━━━━━━━━━━━━━━━━━┳━━━━━━━━━━━━━━━━━━━━━━━━━━━┓\n",
       "┃\u001b[1m \u001b[0m\u001b[1m       Test metric       \u001b[0m\u001b[1m \u001b[0m┃\u001b[1m \u001b[0m\u001b[1m      DataLoader 0       \u001b[0m\u001b[1m \u001b[0m┃\n",
       "┡━━━━━━━━━━━━━━━━━━━━━━━━━━━╇━━━━━━━━━━━━━━━━━━━━━━━━━━━┩\n",
       "│\u001b[36m \u001b[0m\u001b[36m        test_loss        \u001b[0m\u001b[36m \u001b[0m│\u001b[35m \u001b[0m\u001b[35m   0.6912131905555725    \u001b[0m\u001b[35m \u001b[0m│\n",
       "└───────────────────────────┴───────────────────────────┘\n"
      ]
     },
     "metadata": {},
     "output_type": "display_data"
    },
    {
     "name": "stderr",
     "output_type": "stream",
     "text": [
      "GPU available: True (cuda), used: True\n",
      "TPU available: False, using: 0 TPU cores\n",
      "IPU available: False, using: 0 IPUs\n",
      "HPU available: False, using: 0 HPUs\n",
      "LOCAL_RANK: 0 - CUDA_VISIBLE_DEVICES: [0]\n",
      "\n",
      "  | Name  | Type           | Params\n",
      "-----------------------------------------\n",
      "0 | model | HybridDenseNet | 815 K \n",
      "-----------------------------------------\n",
      "815 K     Trainable params\n",
      "0         Non-trainable params\n",
      "815 K     Total params\n",
      "3.260     Total estimated model params size (MB)\n"
     ]
    },
    {
     "name": "stdout",
     "output_type": "stream",
     "text": [
      "Cardinality: 2, Growth Rate: 8, Bottleneck: 16\n",
      "====================================================================================================\n"
     ]
    },
    {
     "data": {
      "application/vnd.jupyter.widget-view+json": {
       "model_id": "4ddb124423654d888ee68f94725f468a",
       "version_major": 2,
       "version_minor": 0
      },
      "text/plain": [
       "Training: 0it [00:00, ?it/s]"
      ]
     },
     "metadata": {},
     "output_type": "display_data"
    },
    {
     "name": "stderr",
     "output_type": "stream",
     "text": [
      "GPU available: True (cuda), used: True\n",
      "TPU available: False, using: 0 TPU cores\n",
      "IPU available: False, using: 0 IPUs\n",
      "HPU available: False, using: 0 HPUs\n"
     ]
    },
    {
     "name": "stdout",
     "output_type": "stream",
     "text": [
      "Cardinality: 2, Growth Rate: 8, Bottleneck: 16\n",
      "CUDA ERROR\n",
      "Cardinality: 2, Growth Rate: 8, Bottleneck: 32\n",
      "====================================================================================================\n"
     ]
    },
    {
     "name": "stderr",
     "output_type": "stream",
     "text": [
      "LOCAL_RANK: 0 - CUDA_VISIBLE_DEVICES: [0]\n",
      "\n",
      "  | Name  | Type           | Params\n",
      "-----------------------------------------\n",
      "0 | model | HybridDenseNet | 4.4 M \n",
      "-----------------------------------------\n",
      "4.4 M     Trainable params\n",
      "0         Non-trainable params\n",
      "4.4 M     Total params\n",
      "17.640    Total estimated model params size (MB)\n"
     ]
    },
    {
     "data": {
      "application/vnd.jupyter.widget-view+json": {
       "model_id": "436e275383cc4842929b03738f76bff7",
       "version_major": 2,
       "version_minor": 0
      },
      "text/plain": [
       "Training: 0it [00:00, ?it/s]"
      ]
     },
     "metadata": {},
     "output_type": "display_data"
    },
    {
     "name": "stderr",
     "output_type": "stream",
     "text": [
      "GPU available: True (cuda), used: True\n",
      "TPU available: False, using: 0 TPU cores\n",
      "IPU available: False, using: 0 IPUs\n",
      "HPU available: False, using: 0 HPUs\n",
      "LOCAL_RANK: 0 - CUDA_VISIBLE_DEVICES: [0]\n"
     ]
    },
    {
     "name": "stdout",
     "output_type": "stream",
     "text": [
      "Cardinality: 2, Growth Rate: 8, Bottleneck: 32\n",
      "CUDA ERROR\n",
      "Cardinality: 2, Growth Rate: 16, Bottleneck: 2\n",
      "====================================================================================================\n"
     ]
    },
    {
     "name": "stderr",
     "output_type": "stream",
     "text": [
      "\n",
      "  | Name  | Type           | Params\n",
      "-----------------------------------------\n",
      "0 | model | HybridDenseNet | 26.8 K\n",
      "-----------------------------------------\n",
      "26.8 K    Trainable params\n",
      "0         Non-trainable params\n",
      "26.8 K    Total params\n",
      "0.107     Total estimated model params size (MB)\n"
     ]
    },
    {
     "data": {
      "application/vnd.jupyter.widget-view+json": {
       "model_id": "6fc7ed1775e54ff6b17094ce64b05447",
       "version_major": 2,
       "version_minor": 0
      },
      "text/plain": [
       "Training: 0it [00:00, ?it/s]"
      ]
     },
     "metadata": {},
     "output_type": "display_data"
    },
    {
     "name": "stdout",
     "output_type": "stream",
     "text": [
      "[   50] loss : 0.668528 acc: 0.625000\n",
      "[   50] loss : 0.685526 acc: 0.531250\n",
      "[   50] loss : 0.690038 acc: 0.500000\n",
      "[   50] loss : 0.692392 acc: 0.468750\n",
      "[   50] loss : 0.662591 acc: 0.656250\n",
      "[   50] loss : 0.635685 acc: 0.750000\n",
      "[   50] loss : 0.625530 acc: 0.656250\n",
      "[   50] loss : 0.653251 acc: 0.687500\n",
      "[   50] loss : 0.620777 acc: 0.875000\n",
      "[   50] loss : 0.654598 acc: 0.625000\n",
      "[   50] loss : 0.624636 acc: 0.812500\n",
      "[   50] loss : 0.619564 acc: 0.781250\n",
      "[   50] loss : 0.645955 acc: 0.687500\n",
      "[   50] loss : 0.577386 acc: 0.937500\n",
      "[   50] loss : 0.612517 acc: 0.718750\n",
      "[   50] loss : 0.609650 acc: 0.812500\n",
      "[   50] loss : 0.655129 acc: 0.781250\n",
      "[   50] loss : 0.618208 acc: 0.656250\n",
      "[   50] loss : 0.621328 acc: 0.718750\n",
      "[   50] loss : 0.580193 acc: 0.906250\n"
     ]
    },
    {
     "name": "stderr",
     "output_type": "stream",
     "text": [
      "`Trainer.fit` stopped: `max_epochs=20` reached.\n",
      "LOCAL_RANK: 0 - CUDA_VISIBLE_DEVICES: [0]\n"
     ]
    },
    {
     "name": "stdout",
     "output_type": "stream",
     "text": [
      "----------------------------------------------------------------------------------------------------\n",
      "Testing model..\n"
     ]
    },
    {
     "data": {
      "application/vnd.jupyter.widget-view+json": {
       "model_id": "3b45bda507cf43cf8a4f2d535354f5ab",
       "version_major": 2,
       "version_minor": 0
      },
      "text/plain": [
       "Testing: 0it [00:00, ?it/s]"
      ]
     },
     "metadata": {},
     "output_type": "display_data"
    },
    {
     "name": "stdout",
     "output_type": "stream",
     "text": [
      "[10] loss : 0.616800 acc: 0.718750\n",
      "[20] loss : 0.609980 acc: 0.781250\n",
      "[30] loss : 0.632175 acc: 0.687500\n",
      "[40] loss : 0.593086 acc: 0.750000\n",
      "[50] loss : 0.592218 acc: 0.687500\n",
      "[60] loss : 0.557630 acc: 0.906250\n",
      "[70] loss : 0.607806 acc: 0.843750\n",
      "[80] loss : 0.595039 acc: 0.781250\n",
      "[90] loss : 0.567062 acc: 0.812500\n",
      "[100] loss : 0.662538 acc: 0.750000\n",
      "[110] loss : 0.587626 acc: 0.781250\n",
      "[120] loss : 0.610851 acc: 0.812500\n",
      "[130] loss : 0.626114 acc: 0.812500\n"
     ]
    },
    {
     "data": {
      "text/html": [
       "<pre style=\"white-space:pre;overflow-x:auto;line-height:normal;font-family:Menlo,'DejaVu Sans Mono',consolas,'Courier New',monospace\">┏━━━━━━━━━━━━━━━━━━━━━━━━━━━┳━━━━━━━━━━━━━━━━━━━━━━━━━━━┓\n",
       "┃<span style=\"font-weight: bold\">        Test metric        </span>┃<span style=\"font-weight: bold\">       DataLoader 0        </span>┃\n",
       "┡━━━━━━━━━━━━━━━━━━━━━━━━━━━╇━━━━━━━━━━━━━━━━━━━━━━━━━━━┩\n",
       "│<span style=\"color: #008080; text-decoration-color: #008080\">         test_loss         </span>│<span style=\"color: #800080; text-decoration-color: #800080\">    0.6029154658317566     </span>│\n",
       "└───────────────────────────┴───────────────────────────┘\n",
       "</pre>\n"
      ],
      "text/plain": [
       "┏━━━━━━━━━━━━━━━━━━━━━━━━━━━┳━━━━━━━━━━━━━━━━━━━━━━━━━━━┓\n",
       "┃\u001b[1m \u001b[0m\u001b[1m       Test metric       \u001b[0m\u001b[1m \u001b[0m┃\u001b[1m \u001b[0m\u001b[1m      DataLoader 0       \u001b[0m\u001b[1m \u001b[0m┃\n",
       "┡━━━━━━━━━━━━━━━━━━━━━━━━━━━╇━━━━━━━━━━━━━━━━━━━━━━━━━━━┩\n",
       "│\u001b[36m \u001b[0m\u001b[36m        test_loss        \u001b[0m\u001b[36m \u001b[0m│\u001b[35m \u001b[0m\u001b[35m   0.6029154658317566    \u001b[0m\u001b[35m \u001b[0m│\n",
       "└───────────────────────────┴───────────────────────────┘\n"
      ]
     },
     "metadata": {},
     "output_type": "display_data"
    },
    {
     "name": "stderr",
     "output_type": "stream",
     "text": [
      "GPU available: True (cuda), used: True\n",
      "TPU available: False, using: 0 TPU cores\n",
      "IPU available: False, using: 0 IPUs\n",
      "HPU available: False, using: 0 HPUs\n",
      "LOCAL_RANK: 0 - CUDA_VISIBLE_DEVICES: [0]\n",
      "\n",
      "  | Name  | Type           | Params\n",
      "-----------------------------------------\n",
      "0 | model | HybridDenseNet | 82.8 K\n",
      "-----------------------------------------\n",
      "82.8 K    Trainable params\n",
      "0         Non-trainable params\n",
      "82.8 K    Total params\n",
      "0.331     Total estimated model params size (MB)\n"
     ]
    },
    {
     "name": "stdout",
     "output_type": "stream",
     "text": [
      "Cardinality: 2, Growth Rate: 16, Bottleneck: 4\n",
      "====================================================================================================\n"
     ]
    },
    {
     "data": {
      "application/vnd.jupyter.widget-view+json": {
       "model_id": "7477ee4412c947ee86610477f963c303",
       "version_major": 2,
       "version_minor": 0
      },
      "text/plain": [
       "Training: 0it [00:00, ?it/s]"
      ]
     },
     "metadata": {},
     "output_type": "display_data"
    },
    {
     "name": "stdout",
     "output_type": "stream",
     "text": [
      "[   50] loss : 0.696907 acc: 0.437500\n",
      "[   50] loss : 0.671965 acc: 0.562500\n",
      "[   50] loss : 0.632841 acc: 0.750000\n",
      "[   50] loss : 0.628913 acc: 0.750000\n",
      "[   50] loss : 0.638068 acc: 0.750000\n",
      "[   50] loss : 0.613619 acc: 0.781250\n",
      "[   50] loss : 0.587155 acc: 0.812500\n",
      "[   50] loss : 0.555019 acc: 0.812500\n",
      "[   50] loss : 0.568390 acc: 0.843750\n",
      "[   50] loss : 0.559116 acc: 0.843750\n",
      "[   50] loss : 0.543731 acc: 0.875000\n",
      "[   50] loss : 0.571109 acc: 0.812500\n",
      "[   50] loss : 0.524641 acc: 0.937500\n",
      "[   50] loss : 0.555739 acc: 0.812500\n",
      "[   50] loss : 0.523239 acc: 0.843750\n",
      "[   50] loss : 0.553326 acc: 0.781250\n",
      "[   50] loss : 0.465254 acc: 0.937500\n",
      "[   50] loss : 0.507365 acc: 0.812500\n",
      "[   50] loss : 0.441732 acc: 0.968750\n",
      "[   50] loss : 0.476358 acc: 0.937500\n"
     ]
    },
    {
     "name": "stderr",
     "output_type": "stream",
     "text": [
      "`Trainer.fit` stopped: `max_epochs=20` reached.\n",
      "LOCAL_RANK: 0 - CUDA_VISIBLE_DEVICES: [0]\n"
     ]
    },
    {
     "name": "stdout",
     "output_type": "stream",
     "text": [
      "----------------------------------------------------------------------------------------------------\n",
      "Testing model..\n"
     ]
    },
    {
     "data": {
      "application/vnd.jupyter.widget-view+json": {
       "model_id": "ae98a3705bd747a4b86f6f733cffb85d",
       "version_major": 2,
       "version_minor": 0
      },
      "text/plain": [
       "Testing: 0it [00:00, ?it/s]"
      ]
     },
     "metadata": {},
     "output_type": "display_data"
    },
    {
     "name": "stdout",
     "output_type": "stream",
     "text": [
      "[10] loss : 0.527383 acc: 0.718750\n",
      "[20] loss : 0.479742 acc: 0.843750\n",
      "[30] loss : 0.532940 acc: 0.687500\n",
      "[40] loss : 0.487716 acc: 0.781250\n",
      "[50] loss : 0.466453 acc: 0.843750\n",
      "[60] loss : 0.469589 acc: 0.875000\n",
      "[70] loss : 0.500120 acc: 0.875000\n",
      "[80] loss : 0.487802 acc: 0.843750\n",
      "[90] loss : 0.530556 acc: 0.687500\n",
      "[100] loss : 0.470132 acc: 0.875000\n",
      "[110] loss : 0.507355 acc: 0.812500\n",
      "[120] loss : 0.454359 acc: 0.906250\n",
      "[130] loss : 0.500021 acc: 0.812500\n"
     ]
    },
    {
     "data": {
      "text/html": [
       "<pre style=\"white-space:pre;overflow-x:auto;line-height:normal;font-family:Menlo,'DejaVu Sans Mono',consolas,'Courier New',monospace\">┏━━━━━━━━━━━━━━━━━━━━━━━━━━━┳━━━━━━━━━━━━━━━━━━━━━━━━━━━┓\n",
       "┃<span style=\"font-weight: bold\">        Test metric        </span>┃<span style=\"font-weight: bold\">       DataLoader 0        </span>┃\n",
       "┡━━━━━━━━━━━━━━━━━━━━━━━━━━━╇━━━━━━━━━━━━━━━━━━━━━━━━━━━┩\n",
       "│<span style=\"color: #008080; text-decoration-color: #008080\">         test_loss         </span>│<span style=\"color: #800080; text-decoration-color: #800080\">    0.4960959553718567     </span>│\n",
       "└───────────────────────────┴───────────────────────────┘\n",
       "</pre>\n"
      ],
      "text/plain": [
       "┏━━━━━━━━━━━━━━━━━━━━━━━━━━━┳━━━━━━━━━━━━━━━━━━━━━━━━━━━┓\n",
       "┃\u001b[1m \u001b[0m\u001b[1m       Test metric       \u001b[0m\u001b[1m \u001b[0m┃\u001b[1m \u001b[0m\u001b[1m      DataLoader 0       \u001b[0m\u001b[1m \u001b[0m┃\n",
       "┡━━━━━━━━━━━━━━━━━━━━━━━━━━━╇━━━━━━━━━━━━━━━━━━━━━━━━━━━┩\n",
       "│\u001b[36m \u001b[0m\u001b[36m        test_loss        \u001b[0m\u001b[36m \u001b[0m│\u001b[35m \u001b[0m\u001b[35m   0.4960959553718567    \u001b[0m\u001b[35m \u001b[0m│\n",
       "└───────────────────────────┴───────────────────────────┘\n"
      ]
     },
     "metadata": {},
     "output_type": "display_data"
    },
    {
     "name": "stderr",
     "output_type": "stream",
     "text": [
      "GPU available: True (cuda), used: True\n",
      "TPU available: False, using: 0 TPU cores\n",
      "IPU available: False, using: 0 IPUs\n",
      "HPU available: False, using: 0 HPUs\n",
      "LOCAL_RANK: 0 - CUDA_VISIBLE_DEVICES: [0]\n",
      "\n",
      "  | Name  | Type           | Params\n",
      "-----------------------------------------\n",
      "0 | model | HybridDenseNet | 338 K \n",
      "-----------------------------------------\n",
      "338 K     Trainable params\n",
      "0         Non-trainable params\n",
      "338 K     Total params\n",
      "1.355     Total estimated model params size (MB)\n"
     ]
    },
    {
     "name": "stdout",
     "output_type": "stream",
     "text": [
      "Cardinality: 2, Growth Rate: 16, Bottleneck: 8\n",
      "====================================================================================================\n"
     ]
    },
    {
     "data": {
      "application/vnd.jupyter.widget-view+json": {
       "model_id": "939d68824588416bae10a36e0b3de67f",
       "version_major": 2,
       "version_minor": 0
      },
      "text/plain": [
       "Training: 0it [00:00, ?it/s]"
      ]
     },
     "metadata": {},
     "output_type": "display_data"
    },
    {
     "name": "stderr",
     "output_type": "stream",
     "text": [
      "GPU available: True (cuda), used: True\n",
      "TPU available: False, using: 0 TPU cores\n",
      "IPU available: False, using: 0 IPUs\n",
      "HPU available: False, using: 0 HPUs\n",
      "LOCAL_RANK: 0 - CUDA_VISIBLE_DEVICES: [0]\n"
     ]
    },
    {
     "name": "stdout",
     "output_type": "stream",
     "text": [
      "Cardinality: 2, Growth Rate: 16, Bottleneck: 8\n",
      "CUDA ERROR\n",
      "Cardinality: 2, Growth Rate: 16, Bottleneck: 16\n",
      "====================================================================================================\n"
     ]
    },
    {
     "name": "stderr",
     "output_type": "stream",
     "text": [
      "\n",
      "  | Name  | Type           | Params\n",
      "-----------------------------------------\n",
      "0 | model | HybridDenseNet | 1.6 M \n",
      "-----------------------------------------\n",
      "1.6 M     Trainable params\n",
      "0         Non-trainable params\n",
      "1.6 M     Total params\n",
      "6.480     Total estimated model params size (MB)\n"
     ]
    },
    {
     "data": {
      "application/vnd.jupyter.widget-view+json": {
       "model_id": "9f8a4dbab7a44e45b09aebd2aded74e4",
       "version_major": 2,
       "version_minor": 0
      },
      "text/plain": [
       "Training: 0it [00:00, ?it/s]"
      ]
     },
     "metadata": {},
     "output_type": "display_data"
    },
    {
     "name": "stderr",
     "output_type": "stream",
     "text": [
      "GPU available: True (cuda), used: True\n",
      "TPU available: False, using: 0 TPU cores\n",
      "IPU available: False, using: 0 IPUs\n",
      "HPU available: False, using: 0 HPUs\n"
     ]
    },
    {
     "name": "stdout",
     "output_type": "stream",
     "text": [
      "Cardinality: 2, Growth Rate: 16, Bottleneck: 16\n",
      "CUDA ERROR\n",
      "Cardinality: 2, Growth Rate: 16, Bottleneck: 32\n",
      "====================================================================================================\n"
     ]
    },
    {
     "name": "stderr",
     "output_type": "stream",
     "text": [
      "LOCAL_RANK: 0 - CUDA_VISIBLE_DEVICES: [0]\n",
      "\n",
      "  | Name  | Type           | Params\n",
      "-----------------------------------------\n",
      "0 | model | HybridDenseNet | 8.8 M \n",
      "-----------------------------------------\n",
      "8.8 M     Trainable params\n",
      "0         Non-trainable params\n",
      "8.8 M     Total params\n",
      "35.236    Total estimated model params size (MB)\n"
     ]
    },
    {
     "data": {
      "application/vnd.jupyter.widget-view+json": {
       "model_id": "4e3e0b5db6a645f98479c851aab62304",
       "version_major": 2,
       "version_minor": 0
      },
      "text/plain": [
       "Training: 0it [00:00, ?it/s]"
      ]
     },
     "metadata": {},
     "output_type": "display_data"
    },
    {
     "name": "stderr",
     "output_type": "stream",
     "text": [
      "GPU available: True (cuda), used: True\n",
      "TPU available: False, using: 0 TPU cores\n",
      "IPU available: False, using: 0 IPUs\n",
      "HPU available: False, using: 0 HPUs\n",
      "LOCAL_RANK: 0 - CUDA_VISIBLE_DEVICES: [0]\n",
      "\n",
      "  | Name  | Type           | Params\n",
      "-----------------------------------------\n",
      "0 | model | HybridDenseNet | 43.9 K\n",
      "-----------------------------------------\n",
      "43.9 K    Trainable params\n",
      "0         Non-trainable params\n",
      "43.9 K    Total params\n",
      "0.176     Total estimated model params size (MB)\n"
     ]
    },
    {
     "name": "stdout",
     "output_type": "stream",
     "text": [
      "Cardinality: 2, Growth Rate: 16, Bottleneck: 32\n",
      "CUDA ERROR\n",
      "Cardinality: 2, Growth Rate: 32, Bottleneck: 2\n",
      "====================================================================================================\n"
     ]
    },
    {
     "data": {
      "application/vnd.jupyter.widget-view+json": {
       "model_id": "045978b8a74e42469662bc09faa75b1d",
       "version_major": 2,
       "version_minor": 0
      },
      "text/plain": [
       "Training: 0it [00:00, ?it/s]"
      ]
     },
     "metadata": {},
     "output_type": "display_data"
    },
    {
     "name": "stdout",
     "output_type": "stream",
     "text": [
      "[   50] loss : 0.690963 acc: 0.500000\n",
      "[   50] loss : 0.687009 acc: 0.500000\n",
      "[   50] loss : 0.649897 acc: 0.687500\n",
      "[   50] loss : 0.688510 acc: 0.562500\n",
      "[   50] loss : 0.702530 acc: 0.593750\n",
      "[   50] loss : 0.648541 acc: 0.687500\n",
      "[   50] loss : 0.664844 acc: 0.562500\n",
      "[   50] loss : 0.615556 acc: 0.812500\n",
      "[   50] loss : 0.692897 acc: 0.656250\n",
      "[   50] loss : 0.650321 acc: 0.562500\n",
      "[   50] loss : 0.621691 acc: 0.812500\n",
      "[   50] loss : 0.636387 acc: 0.656250\n",
      "[   50] loss : 0.604560 acc: 0.781250\n",
      "[   50] loss : 0.625896 acc: 0.750000\n",
      "[   50] loss : 0.637370 acc: 0.656250\n",
      "[   50] loss : 0.600016 acc: 0.812500\n",
      "[   50] loss : 0.592988 acc: 0.937500\n",
      "[   50] loss : 0.615106 acc: 0.718750\n",
      "[   50] loss : 0.619885 acc: 0.718750\n",
      "[   50] loss : 0.620369 acc: 0.781250\n"
     ]
    },
    {
     "name": "stderr",
     "output_type": "stream",
     "text": [
      "`Trainer.fit` stopped: `max_epochs=20` reached.\n",
      "LOCAL_RANK: 0 - CUDA_VISIBLE_DEVICES: [0]\n"
     ]
    },
    {
     "name": "stdout",
     "output_type": "stream",
     "text": [
      "----------------------------------------------------------------------------------------------------\n",
      "Testing model..\n"
     ]
    },
    {
     "data": {
      "application/vnd.jupyter.widget-view+json": {
       "model_id": "b7b7bf509b2f42328054f8426df25396",
       "version_major": 2,
       "version_minor": 0
      },
      "text/plain": [
       "Testing: 0it [00:00, ?it/s]"
      ]
     },
     "metadata": {},
     "output_type": "display_data"
    },
    {
     "name": "stdout",
     "output_type": "stream",
     "text": [
      "[10] loss : 0.578762 acc: 0.812500\n",
      "[20] loss : 0.572777 acc: 0.843750\n",
      "[30] loss : 0.613738 acc: 0.750000\n",
      "[40] loss : 0.579721 acc: 0.875000\n",
      "[50] loss : 0.584023 acc: 0.812500\n",
      "[60] loss : 0.613385 acc: 0.718750\n",
      "[70] loss : 0.616235 acc: 0.781250\n",
      "[80] loss : 0.595121 acc: 0.781250\n",
      "[90] loss : 0.507373 acc: 0.906250\n",
      "[100] loss : 0.569359 acc: 0.812500\n",
      "[110] loss : 0.574848 acc: 0.781250\n",
      "[120] loss : 0.576570 acc: 0.812500\n",
      "[130] loss : 0.594429 acc: 0.718750\n"
     ]
    },
    {
     "data": {
      "text/html": [
       "<pre style=\"white-space:pre;overflow-x:auto;line-height:normal;font-family:Menlo,'DejaVu Sans Mono',consolas,'Courier New',monospace\">┏━━━━━━━━━━━━━━━━━━━━━━━━━━━┳━━━━━━━━━━━━━━━━━━━━━━━━━━━┓\n",
       "┃<span style=\"font-weight: bold\">        Test metric        </span>┃<span style=\"font-weight: bold\">       DataLoader 0        </span>┃\n",
       "┡━━━━━━━━━━━━━━━━━━━━━━━━━━━╇━━━━━━━━━━━━━━━━━━━━━━━━━━━┩\n",
       "│<span style=\"color: #008080; text-decoration-color: #008080\">         test_loss         </span>│<span style=\"color: #800080; text-decoration-color: #800080\">    0.5838520526885986     </span>│\n",
       "└───────────────────────────┴───────────────────────────┘\n",
       "</pre>\n"
      ],
      "text/plain": [
       "┏━━━━━━━━━━━━━━━━━━━━━━━━━━━┳━━━━━━━━━━━━━━━━━━━━━━━━━━━┓\n",
       "┃\u001b[1m \u001b[0m\u001b[1m       Test metric       \u001b[0m\u001b[1m \u001b[0m┃\u001b[1m \u001b[0m\u001b[1m      DataLoader 0       \u001b[0m\u001b[1m \u001b[0m┃\n",
       "┡━━━━━━━━━━━━━━━━━━━━━━━━━━━╇━━━━━━━━━━━━━━━━━━━━━━━━━━━┩\n",
       "│\u001b[36m \u001b[0m\u001b[36m        test_loss        \u001b[0m\u001b[36m \u001b[0m│\u001b[35m \u001b[0m\u001b[35m   0.5838520526885986    \u001b[0m\u001b[35m \u001b[0m│\n",
       "└───────────────────────────┴───────────────────────────┘\n"
      ]
     },
     "metadata": {},
     "output_type": "display_data"
    },
    {
     "name": "stderr",
     "output_type": "stream",
     "text": [
      "GPU available: True (cuda), used: True\n",
      "TPU available: False, using: 0 TPU cores\n",
      "IPU available: False, using: 0 IPUs\n",
      "HPU available: False, using: 0 HPUs\n",
      "LOCAL_RANK: 0 - CUDA_VISIBLE_DEVICES: [0]\n",
      "\n",
      "  | Name  | Type           | Params\n",
      "-----------------------------------------\n",
      "0 | model | HybridDenseNet | 155 K \n",
      "-----------------------------------------\n",
      "155 K     Trainable params\n",
      "0         Non-trainable params\n",
      "155 K     Total params\n",
      "0.623     Total estimated model params size (MB)\n"
     ]
    },
    {
     "name": "stdout",
     "output_type": "stream",
     "text": [
      "Cardinality: 2, Growth Rate: 32, Bottleneck: 4\n",
      "====================================================================================================\n"
     ]
    },
    {
     "data": {
      "application/vnd.jupyter.widget-view+json": {
       "model_id": "3dc27415f88348eba93fa016fa7a1e1c",
       "version_major": 2,
       "version_minor": 0
      },
      "text/plain": [
       "Training: 0it [00:00, ?it/s]"
      ]
     },
     "metadata": {},
     "output_type": "display_data"
    },
    {
     "name": "stdout",
     "output_type": "stream",
     "text": [
      "[   50] loss : 0.686709 acc: 0.625000\n",
      "[   50] loss : 0.635376 acc: 0.687500\n",
      "[   50] loss : 0.651948 acc: 0.625000\n",
      "[   50] loss : 0.639018 acc: 0.750000\n",
      "[   50] loss : 0.660418 acc: 0.593750\n",
      "[   50] loss : 0.636063 acc: 0.750000\n",
      "[   50] loss : 0.639094 acc: 0.562500\n",
      "[   50] loss : 0.638644 acc: 0.687500\n",
      "[   50] loss : 0.615901 acc: 0.750000\n",
      "[   50] loss : 0.622195 acc: 0.718750\n",
      "[   50] loss : 0.537106 acc: 0.875000\n",
      "[   50] loss : 0.571547 acc: 0.750000\n",
      "[   50] loss : 0.629554 acc: 0.750000\n",
      "[   50] loss : 0.522601 acc: 0.843750\n",
      "[   50] loss : 0.571339 acc: 0.812500\n",
      "[   50] loss : 0.532537 acc: 0.843750\n",
      "[   50] loss : 0.456261 acc: 0.906250\n",
      "[   50] loss : 0.493416 acc: 0.812500\n",
      "[   50] loss : 0.425645 acc: 0.968750\n",
      "[   50] loss : 0.570210 acc: 0.781250\n"
     ]
    },
    {
     "name": "stderr",
     "output_type": "stream",
     "text": [
      "`Trainer.fit` stopped: `max_epochs=20` reached.\n",
      "LOCAL_RANK: 0 - CUDA_VISIBLE_DEVICES: [0]\n"
     ]
    },
    {
     "name": "stdout",
     "output_type": "stream",
     "text": [
      "----------------------------------------------------------------------------------------------------\n",
      "Testing model..\n"
     ]
    },
    {
     "data": {
      "application/vnd.jupyter.widget-view+json": {
       "model_id": "55dc0048008c4b49ba4c34d37491a877",
       "version_major": 2,
       "version_minor": 0
      },
      "text/plain": [
       "Testing: 0it [00:00, ?it/s]"
      ]
     },
     "metadata": {},
     "output_type": "display_data"
    },
    {
     "name": "stdout",
     "output_type": "stream",
     "text": [
      "[10] loss : 0.513069 acc: 0.843750\n",
      "[20] loss : 0.484793 acc: 0.843750\n",
      "[30] loss : 0.411126 acc: 0.937500\n",
      "[40] loss : 0.551171 acc: 0.718750\n",
      "[50] loss : 0.486750 acc: 0.812500\n",
      "[60] loss : 0.515294 acc: 0.843750\n",
      "[70] loss : 0.635777 acc: 0.625000\n",
      "[80] loss : 0.544930 acc: 0.781250\n",
      "[90] loss : 0.562493 acc: 0.718750\n",
      "[100] loss : 0.480764 acc: 0.781250\n",
      "[110] loss : 0.554252 acc: 0.781250\n",
      "[120] loss : 0.455876 acc: 0.875000\n",
      "[130] loss : 0.520070 acc: 0.750000\n"
     ]
    },
    {
     "data": {
      "text/html": [
       "<pre style=\"white-space:pre;overflow-x:auto;line-height:normal;font-family:Menlo,'DejaVu Sans Mono',consolas,'Courier New',monospace\">┏━━━━━━━━━━━━━━━━━━━━━━━━━━━┳━━━━━━━━━━━━━━━━━━━━━━━━━━━┓\n",
       "┃<span style=\"font-weight: bold\">        Test metric        </span>┃<span style=\"font-weight: bold\">       DataLoader 0        </span>┃\n",
       "┡━━━━━━━━━━━━━━━━━━━━━━━━━━━╇━━━━━━━━━━━━━━━━━━━━━━━━━━━┩\n",
       "│<span style=\"color: #008080; text-decoration-color: #008080\">         test_loss         </span>│<span style=\"color: #800080; text-decoration-color: #800080\">    0.5247474312782288     </span>│\n",
       "└───────────────────────────┴───────────────────────────┘\n",
       "</pre>\n"
      ],
      "text/plain": [
       "┏━━━━━━━━━━━━━━━━━━━━━━━━━━━┳━━━━━━━━━━━━━━━━━━━━━━━━━━━┓\n",
       "┃\u001b[1m \u001b[0m\u001b[1m       Test metric       \u001b[0m\u001b[1m \u001b[0m┃\u001b[1m \u001b[0m\u001b[1m      DataLoader 0       \u001b[0m\u001b[1m \u001b[0m┃\n",
       "┡━━━━━━━━━━━━━━━━━━━━━━━━━━━╇━━━━━━━━━━━━━━━━━━━━━━━━━━━┩\n",
       "│\u001b[36m \u001b[0m\u001b[36m        test_loss        \u001b[0m\u001b[36m \u001b[0m│\u001b[35m \u001b[0m\u001b[35m   0.5247474312782288    \u001b[0m\u001b[35m \u001b[0m│\n",
       "└───────────────────────────┴───────────────────────────┘\n"
      ]
     },
     "metadata": {},
     "output_type": "display_data"
    },
    {
     "name": "stderr",
     "output_type": "stream",
     "text": [
      "GPU available: True (cuda), used: True\n",
      "TPU available: False, using: 0 TPU cores\n",
      "IPU available: False, using: 0 IPUs\n",
      "HPU available: False, using: 0 HPUs\n",
      "LOCAL_RANK: 0 - CUDA_VISIBLE_DEVICES: [0]\n",
      "\n",
      "  | Name  | Type           | Params\n",
      "-----------------------------------------\n",
      "0 | model | HybridDenseNet | 667 K \n",
      "-----------------------------------------\n",
      "667 K     Trainable params\n",
      "0         Non-trainable params\n",
      "667 K     Total params\n",
      "2.669     Total estimated model params size (MB)\n"
     ]
    },
    {
     "name": "stdout",
     "output_type": "stream",
     "text": [
      "Cardinality: 2, Growth Rate: 32, Bottleneck: 8\n",
      "====================================================================================================\n"
     ]
    },
    {
     "data": {
      "application/vnd.jupyter.widget-view+json": {
       "model_id": "48256145b8374d45a35fbc38d2811c24",
       "version_major": 2,
       "version_minor": 0
      },
      "text/plain": [
       "Training: 0it [00:00, ?it/s]"
      ]
     },
     "metadata": {},
     "output_type": "display_data"
    },
    {
     "name": "stderr",
     "output_type": "stream",
     "text": [
      "GPU available: True (cuda), used: True\n",
      "TPU available: False, using: 0 TPU cores\n",
      "IPU available: False, using: 0 IPUs\n",
      "HPU available: False, using: 0 HPUs\n",
      "LOCAL_RANK: 0 - CUDA_VISIBLE_DEVICES: [0]\n"
     ]
    },
    {
     "name": "stdout",
     "output_type": "stream",
     "text": [
      "Cardinality: 2, Growth Rate: 32, Bottleneck: 8\n",
      "CUDA ERROR\n",
      "Cardinality: 2, Growth Rate: 32, Bottleneck: 16\n",
      "====================================================================================================\n"
     ]
    },
    {
     "name": "stderr",
     "output_type": "stream",
     "text": [
      "\n",
      "  | Name  | Type           | Params\n",
      "-----------------------------------------\n",
      "0 | model | HybridDenseNet | 3.2 M \n",
      "-----------------------------------------\n",
      "3.2 M     Trainable params\n",
      "0         Non-trainable params\n",
      "3.2 M     Total params\n",
      "12.919    Total estimated model params size (MB)\n"
     ]
    },
    {
     "data": {
      "application/vnd.jupyter.widget-view+json": {
       "model_id": "dd982f14d11b4479b83a0122d1bca599",
       "version_major": 2,
       "version_minor": 0
      },
      "text/plain": [
       "Training: 0it [00:00, ?it/s]"
      ]
     },
     "metadata": {},
     "output_type": "display_data"
    },
    {
     "name": "stderr",
     "output_type": "stream",
     "text": [
      "GPU available: True (cuda), used: True\n",
      "TPU available: False, using: 0 TPU cores\n",
      "IPU available: False, using: 0 IPUs\n",
      "HPU available: False, using: 0 HPUs\n"
     ]
    },
    {
     "name": "stdout",
     "output_type": "stream",
     "text": [
      "Cardinality: 2, Growth Rate: 32, Bottleneck: 16\n",
      "CUDA ERROR\n",
      "Cardinality: 2, Growth Rate: 32, Bottleneck: 32\n",
      "====================================================================================================\n"
     ]
    },
    {
     "name": "stderr",
     "output_type": "stream",
     "text": [
      "LOCAL_RANK: 0 - CUDA_VISIBLE_DEVICES: [0]\n",
      "\n",
      "  | Name  | Type           | Params\n",
      "-----------------------------------------\n",
      "0 | model | HybridDenseNet | 17.6 M\n",
      "-----------------------------------------\n",
      "17.6 M    Trainable params\n",
      "0         Non-trainable params\n",
      "17.6 M    Total params\n",
      "70.429    Total estimated model params size (MB)\n"
     ]
    },
    {
     "data": {
      "application/vnd.jupyter.widget-view+json": {
       "model_id": "4267cec031b44a6da70a64397b3ce53a",
       "version_major": 2,
       "version_minor": 0
      },
      "text/plain": [
       "Training: 0it [00:00, ?it/s]"
      ]
     },
     "metadata": {},
     "output_type": "display_data"
    },
    {
     "name": "stderr",
     "output_type": "stream",
     "text": [
      "GPU available: True (cuda), used: True\n",
      "TPU available: False, using: 0 TPU cores\n",
      "IPU available: False, using: 0 IPUs\n",
      "HPU available: False, using: 0 HPUs\n",
      "LOCAL_RANK: 0 - CUDA_VISIBLE_DEVICES: [0]\n",
      "\n",
      "  | Name  | Type           | Params\n",
      "-----------------------------------------\n",
      "0 | model | HybridDenseNet | 12.5 K\n",
      "-----------------------------------------\n",
      "12.5 K    Trainable params\n",
      "0         Non-trainable params\n",
      "12.5 K    Total params\n",
      "0.050     Total estimated model params size (MB)\n"
     ]
    },
    {
     "name": "stdout",
     "output_type": "stream",
     "text": [
      "Cardinality: 2, Growth Rate: 32, Bottleneck: 32\n",
      "CUDA ERROR\n",
      "Cardinality: 4, Growth Rate: 2, Bottleneck: 2\n",
      "====================================================================================================\n"
     ]
    },
    {
     "data": {
      "application/vnd.jupyter.widget-view+json": {
       "model_id": "f86c75d7a3194b1ca4ec3f817242119b",
       "version_major": 2,
       "version_minor": 0
      },
      "text/plain": [
       "Training: 0it [00:00, ?it/s]"
      ]
     },
     "metadata": {},
     "output_type": "display_data"
    },
    {
     "name": "stdout",
     "output_type": "stream",
     "text": [
      "[   50] loss : 0.701224 acc: 0.437500\n",
      "[   50] loss : 0.699003 acc: 0.437500\n",
      "[   50] loss : 0.680166 acc: 0.562500\n",
      "[   50] loss : 0.665705 acc: 0.687500\n",
      "[   50] loss : 0.692399 acc: 0.562500\n",
      "[   50] loss : 0.672618 acc: 0.625000\n",
      "[   50] loss : 0.656986 acc: 0.656250\n",
      "[   50] loss : 0.695360 acc: 0.562500\n",
      "[   50] loss : 0.696884 acc: 0.593750\n",
      "[   50] loss : 0.662685 acc: 0.656250\n",
      "[   50] loss : 0.665928 acc: 0.656250\n",
      "[   50] loss : 0.710390 acc: 0.562500\n",
      "[   50] loss : 0.669778 acc: 0.593750\n",
      "[   50] loss : 0.657031 acc: 0.687500\n",
      "[   50] loss : 0.677997 acc: 0.562500\n",
      "[   50] loss : 0.634113 acc: 0.718750\n",
      "[   50] loss : 0.654276 acc: 0.781250\n",
      "[   50] loss : 0.676480 acc: 0.625000\n",
      "[   50] loss : 0.649520 acc: 0.687500\n",
      "[   50] loss : 0.655320 acc: 0.687500\n"
     ]
    },
    {
     "name": "stderr",
     "output_type": "stream",
     "text": [
      "`Trainer.fit` stopped: `max_epochs=20` reached.\n",
      "LOCAL_RANK: 0 - CUDA_VISIBLE_DEVICES: [0]\n"
     ]
    },
    {
     "name": "stdout",
     "output_type": "stream",
     "text": [
      "----------------------------------------------------------------------------------------------------\n",
      "Testing model..\n"
     ]
    },
    {
     "data": {
      "application/vnd.jupyter.widget-view+json": {
       "model_id": "a3643fa738b8433ca1a078c5d60a6f10",
       "version_major": 2,
       "version_minor": 0
      },
      "text/plain": [
       "Testing: 0it [00:00, ?it/s]"
      ]
     },
     "metadata": {},
     "output_type": "display_data"
    },
    {
     "name": "stdout",
     "output_type": "stream",
     "text": [
      "[10] loss : 0.676286 acc: 0.625000\n",
      "[20] loss : 0.698158 acc: 0.562500\n",
      "[30] loss : 0.677277 acc: 0.531250\n",
      "[40] loss : 0.644488 acc: 0.625000\n",
      "[50] loss : 0.689735 acc: 0.531250\n",
      "[60] loss : 0.664771 acc: 0.593750\n",
      "[70] loss : 0.670003 acc: 0.562500\n",
      "[80] loss : 0.631219 acc: 0.656250\n",
      "[90] loss : 0.622282 acc: 0.781250\n",
      "[100] loss : 0.651959 acc: 0.656250\n",
      "[110] loss : 0.664317 acc: 0.687500\n",
      "[120] loss : 0.645394 acc: 0.718750\n",
      "[130] loss : 0.694040 acc: 0.531250\n"
     ]
    },
    {
     "data": {
      "text/html": [
       "<pre style=\"white-space:pre;overflow-x:auto;line-height:normal;font-family:Menlo,'DejaVu Sans Mono',consolas,'Courier New',monospace\">┏━━━━━━━━━━━━━━━━━━━━━━━━━━━┳━━━━━━━━━━━━━━━━━━━━━━━━━━━┓\n",
       "┃<span style=\"font-weight: bold\">        Test metric        </span>┃<span style=\"font-weight: bold\">       DataLoader 0        </span>┃\n",
       "┡━━━━━━━━━━━━━━━━━━━━━━━━━━━╇━━━━━━━━━━━━━━━━━━━━━━━━━━━┩\n",
       "│<span style=\"color: #008080; text-decoration-color: #008080\">         test_loss         </span>│<span style=\"color: #800080; text-decoration-color: #800080\">    0.6646503210067749     </span>│\n",
       "└───────────────────────────┴───────────────────────────┘\n",
       "</pre>\n"
      ],
      "text/plain": [
       "┏━━━━━━━━━━━━━━━━━━━━━━━━━━━┳━━━━━━━━━━━━━━━━━━━━━━━━━━━┓\n",
       "┃\u001b[1m \u001b[0m\u001b[1m       Test metric       \u001b[0m\u001b[1m \u001b[0m┃\u001b[1m \u001b[0m\u001b[1m      DataLoader 0       \u001b[0m\u001b[1m \u001b[0m┃\n",
       "┡━━━━━━━━━━━━━━━━━━━━━━━━━━━╇━━━━━━━━━━━━━━━━━━━━━━━━━━━┩\n",
       "│\u001b[36m \u001b[0m\u001b[36m        test_loss        \u001b[0m\u001b[36m \u001b[0m│\u001b[35m \u001b[0m\u001b[35m   0.6646503210067749    \u001b[0m\u001b[35m \u001b[0m│\n",
       "└───────────────────────────┴───────────────────────────┘\n"
      ]
     },
     "metadata": {},
     "output_type": "display_data"
    },
    {
     "name": "stderr",
     "output_type": "stream",
     "text": [
      "GPU available: True (cuda), used: True\n",
      "TPU available: False, using: 0 TPU cores\n",
      "IPU available: False, using: 0 IPUs\n",
      "HPU available: False, using: 0 HPUs\n",
      "LOCAL_RANK: 0 - CUDA_VISIBLE_DEVICES: [0]\n",
      "\n",
      "  | Name  | Type           | Params\n",
      "-----------------------------------------\n",
      "0 | model | HybridDenseNet | 21.9 K\n",
      "-----------------------------------------\n",
      "21.9 K    Trainable params\n",
      "0         Non-trainable params\n",
      "21.9 K    Total params\n",
      "0.087     Total estimated model params size (MB)\n"
     ]
    },
    {
     "name": "stdout",
     "output_type": "stream",
     "text": [
      "Cardinality: 4, Growth Rate: 2, Bottleneck: 4\n",
      "====================================================================================================\n"
     ]
    },
    {
     "data": {
      "application/vnd.jupyter.widget-view+json": {
       "model_id": "830afc8d1b8f430780066979398f191f",
       "version_major": 2,
       "version_minor": 0
      },
      "text/plain": [
       "Training: 0it [00:00, ?it/s]"
      ]
     },
     "metadata": {},
     "output_type": "display_data"
    },
    {
     "name": "stdout",
     "output_type": "stream",
     "text": [
      "[   50] loss : 0.682959 acc: 0.531250\n",
      "[   50] loss : 0.680269 acc: 0.593750\n",
      "[   50] loss : 0.654889 acc: 0.625000\n",
      "[   50] loss : 0.638367 acc: 0.750000\n",
      "[   50] loss : 0.614810 acc: 0.781250\n",
      "[   50] loss : 0.637469 acc: 0.750000\n",
      "[   50] loss : 0.611192 acc: 0.812500\n",
      "[   50] loss : 0.575983 acc: 0.843750\n",
      "[   50] loss : 0.614140 acc: 0.750000\n",
      "[   50] loss : 0.597885 acc: 0.687500\n",
      "[   50] loss : 0.645440 acc: 0.718750\n",
      "[   50] loss : 0.631992 acc: 0.687500\n",
      "[   50] loss : 0.562952 acc: 0.812500\n",
      "[   50] loss : 0.589316 acc: 0.718750\n",
      "[   50] loss : 0.463642 acc: 0.937500\n",
      "[   50] loss : 0.530391 acc: 0.843750\n",
      "[   50] loss : 0.546030 acc: 0.781250\n",
      "[   50] loss : 0.512173 acc: 0.875000\n",
      "[   50] loss : 0.550113 acc: 0.843750\n",
      "[   50] loss : 0.517317 acc: 0.843750\n"
     ]
    },
    {
     "name": "stderr",
     "output_type": "stream",
     "text": [
      "`Trainer.fit` stopped: `max_epochs=20` reached.\n",
      "LOCAL_RANK: 0 - CUDA_VISIBLE_DEVICES: [0]\n"
     ]
    },
    {
     "name": "stdout",
     "output_type": "stream",
     "text": [
      "----------------------------------------------------------------------------------------------------\n",
      "Testing model..\n"
     ]
    },
    {
     "data": {
      "application/vnd.jupyter.widget-view+json": {
       "model_id": "ead4eb1d88de45d4888e64d316f964e1",
       "version_major": 2,
       "version_minor": 0
      },
      "text/plain": [
       "Testing: 0it [00:00, ?it/s]"
      ]
     },
     "metadata": {},
     "output_type": "display_data"
    },
    {
     "name": "stdout",
     "output_type": "stream",
     "text": [
      "[10] loss : 0.486187 acc: 0.843750\n",
      "[20] loss : 0.521744 acc: 0.750000\n",
      "[30] loss : 0.509311 acc: 0.781250\n",
      "[40] loss : 0.501710 acc: 0.812500\n",
      "[50] loss : 0.574303 acc: 0.687500\n",
      "[60] loss : 0.529691 acc: 0.812500\n",
      "[70] loss : 0.500532 acc: 0.812500\n",
      "[80] loss : 0.532118 acc: 0.781250\n",
      "[90] loss : 0.549364 acc: 0.687500\n",
      "[100] loss : 0.487669 acc: 0.875000\n",
      "[110] loss : 0.434295 acc: 0.937500\n",
      "[120] loss : 0.528977 acc: 0.781250\n",
      "[130] loss : 0.534933 acc: 0.781250\n"
     ]
    },
    {
     "data": {
      "text/html": [
       "<pre style=\"white-space:pre;overflow-x:auto;line-height:normal;font-family:Menlo,'DejaVu Sans Mono',consolas,'Courier New',monospace\">┏━━━━━━━━━━━━━━━━━━━━━━━━━━━┳━━━━━━━━━━━━━━━━━━━━━━━━━━━┓\n",
       "┃<span style=\"font-weight: bold\">        Test metric        </span>┃<span style=\"font-weight: bold\">       DataLoader 0        </span>┃\n",
       "┡━━━━━━━━━━━━━━━━━━━━━━━━━━━╇━━━━━━━━━━━━━━━━━━━━━━━━━━━┩\n",
       "│<span style=\"color: #008080; text-decoration-color: #008080\">         test_loss         </span>│<span style=\"color: #800080; text-decoration-color: #800080\">    0.5104533433914185     </span>│\n",
       "└───────────────────────────┴───────────────────────────┘\n",
       "</pre>\n"
      ],
      "text/plain": [
       "┏━━━━━━━━━━━━━━━━━━━━━━━━━━━┳━━━━━━━━━━━━━━━━━━━━━━━━━━━┓\n",
       "┃\u001b[1m \u001b[0m\u001b[1m       Test metric       \u001b[0m\u001b[1m \u001b[0m┃\u001b[1m \u001b[0m\u001b[1m      DataLoader 0       \u001b[0m\u001b[1m \u001b[0m┃\n",
       "┡━━━━━━━━━━━━━━━━━━━━━━━━━━━╇━━━━━━━━━━━━━━━━━━━━━━━━━━━┩\n",
       "│\u001b[36m \u001b[0m\u001b[36m        test_loss        \u001b[0m\u001b[36m \u001b[0m│\u001b[35m \u001b[0m\u001b[35m   0.5104533433914185    \u001b[0m\u001b[35m \u001b[0m│\n",
       "└───────────────────────────┴───────────────────────────┘\n"
      ]
     },
     "metadata": {},
     "output_type": "display_data"
    },
    {
     "name": "stderr",
     "output_type": "stream",
     "text": [
      "GPU available: True (cuda), used: True\n",
      "TPU available: False, using: 0 TPU cores\n",
      "IPU available: False, using: 0 IPUs\n",
      "HPU available: False, using: 0 HPUs\n",
      "LOCAL_RANK: 0 - CUDA_VISIBLE_DEVICES: [0]\n",
      "\n",
      "  | Name  | Type           | Params\n",
      "-----------------------------------------\n",
      "0 | model | HybridDenseNet | 67.1 K\n",
      "-----------------------------------------\n",
      "67.1 K    Trainable params\n",
      "0         Non-trainable params\n",
      "67.1 K    Total params\n",
      "0.268     Total estimated model params size (MB)\n"
     ]
    },
    {
     "name": "stdout",
     "output_type": "stream",
     "text": [
      "Cardinality: 4, Growth Rate: 2, Bottleneck: 8\n",
      "====================================================================================================\n"
     ]
    },
    {
     "data": {
      "application/vnd.jupyter.widget-view+json": {
       "model_id": "25d0d49bc01b460eb12255488c72812f",
       "version_major": 2,
       "version_minor": 0
      },
      "text/plain": [
       "Training: 0it [00:00, ?it/s]"
      ]
     },
     "metadata": {},
     "output_type": "display_data"
    },
    {
     "name": "stdout",
     "output_type": "stream",
     "text": [
      "[   50] loss : 0.690503 acc: 0.406250\n",
      "[   50] loss : 0.648320 acc: 0.750000\n",
      "[   50] loss : 0.625347 acc: 0.718750\n",
      "[   50] loss : 0.587915 acc: 0.812500\n",
      "[   50] loss : 0.667924 acc: 0.718750\n",
      "[   50] loss : 0.528203 acc: 0.906250\n",
      "[   50] loss : 0.496644 acc: 0.875000\n",
      "[   50] loss : 0.496151 acc: 0.875000\n",
      "[   50] loss : 0.420970 acc: 0.968750\n",
      "[   50] loss : 0.391964 acc: 1.000000\n",
      "[   50] loss : 0.384401 acc: 0.937500\n",
      "[   50] loss : 0.395714 acc: 0.906250\n",
      "[   50] loss : 0.349336 acc: 0.906250\n",
      "[   50] loss : 0.343886 acc: 0.906250\n",
      "[   50] loss : 0.283746 acc: 1.000000\n",
      "[   50] loss : 0.279867 acc: 0.937500\n",
      "[   50] loss : 0.292395 acc: 0.906250\n",
      "[   50] loss : 0.311906 acc: 0.937500\n",
      "[   50] loss : 0.239473 acc: 0.937500\n",
      "[   50] loss : 0.285851 acc: 0.937500\n"
     ]
    },
    {
     "name": "stderr",
     "output_type": "stream",
     "text": [
      "`Trainer.fit` stopped: `max_epochs=20` reached.\n",
      "LOCAL_RANK: 0 - CUDA_VISIBLE_DEVICES: [0]\n"
     ]
    },
    {
     "name": "stdout",
     "output_type": "stream",
     "text": [
      "----------------------------------------------------------------------------------------------------\n",
      "Testing model..\n"
     ]
    },
    {
     "data": {
      "application/vnd.jupyter.widget-view+json": {
       "model_id": "e625f2ff9b4841ce990b12870c17e7be",
       "version_major": 2,
       "version_minor": 0
      },
      "text/plain": [
       "Testing: 0it [00:00, ?it/s]"
      ]
     },
     "metadata": {},
     "output_type": "display_data"
    },
    {
     "name": "stdout",
     "output_type": "stream",
     "text": [
      "[10] loss : 0.343500 acc: 0.875000\n",
      "[20] loss : 0.337972 acc: 0.906250\n",
      "[30] loss : 0.330106 acc: 0.843750\n",
      "[40] loss : 0.311223 acc: 0.906250\n",
      "[50] loss : 0.269754 acc: 0.937500\n",
      "[60] loss : 0.384975 acc: 0.843750\n",
      "[70] loss : 0.359814 acc: 0.906250\n",
      "[80] loss : 0.287918 acc: 0.875000\n",
      "[90] loss : 0.273709 acc: 0.937500\n",
      "[100] loss : 0.323896 acc: 0.875000\n",
      "[110] loss : 0.314691 acc: 0.843750\n",
      "[120] loss : 0.312212 acc: 0.843750\n",
      "[130] loss : 0.306322 acc: 0.906250\n"
     ]
    },
    {
     "data": {
      "text/html": [
       "<pre style=\"white-space:pre;overflow-x:auto;line-height:normal;font-family:Menlo,'DejaVu Sans Mono',consolas,'Courier New',monospace\">┏━━━━━━━━━━━━━━━━━━━━━━━━━━━┳━━━━━━━━━━━━━━━━━━━━━━━━━━━┓\n",
       "┃<span style=\"font-weight: bold\">        Test metric        </span>┃<span style=\"font-weight: bold\">       DataLoader 0        </span>┃\n",
       "┡━━━━━━━━━━━━━━━━━━━━━━━━━━━╇━━━━━━━━━━━━━━━━━━━━━━━━━━━┩\n",
       "│<span style=\"color: #008080; text-decoration-color: #008080\">         test_loss         </span>│<span style=\"color: #800080; text-decoration-color: #800080\">    0.2929482161998749     </span>│\n",
       "└───────────────────────────┴───────────────────────────┘\n",
       "</pre>\n"
      ],
      "text/plain": [
       "┏━━━━━━━━━━━━━━━━━━━━━━━━━━━┳━━━━━━━━━━━━━━━━━━━━━━━━━━━┓\n",
       "┃\u001b[1m \u001b[0m\u001b[1m       Test metric       \u001b[0m\u001b[1m \u001b[0m┃\u001b[1m \u001b[0m\u001b[1m      DataLoader 0       \u001b[0m\u001b[1m \u001b[0m┃\n",
       "┡━━━━━━━━━━━━━━━━━━━━━━━━━━━╇━━━━━━━━━━━━━━━━━━━━━━━━━━━┩\n",
       "│\u001b[36m \u001b[0m\u001b[36m        test_loss        \u001b[0m\u001b[36m \u001b[0m│\u001b[35m \u001b[0m\u001b[35m   0.2929482161998749    \u001b[0m\u001b[35m \u001b[0m│\n",
       "└───────────────────────────┴───────────────────────────┘\n"
      ]
     },
     "metadata": {},
     "output_type": "display_data"
    },
    {
     "name": "stderr",
     "output_type": "stream",
     "text": [
      "GPU available: True (cuda), used: True\n",
      "TPU available: False, using: 0 TPU cores\n",
      "IPU available: False, using: 0 IPUs\n",
      "HPU available: False, using: 0 HPUs\n",
      "LOCAL_RANK: 0 - CUDA_VISIBLE_DEVICES: [0]\n",
      "\n",
      "  | Name  | Type           | Params\n",
      "-----------------------------------------\n",
      "0 | model | HybridDenseNet | 311 K \n",
      "-----------------------------------------\n",
      "311 K     Trainable params\n",
      "0         Non-trainable params\n",
      "311 K     Total params\n",
      "1.247     Total estimated model params size (MB)\n"
     ]
    },
    {
     "name": "stdout",
     "output_type": "stream",
     "text": [
      "Cardinality: 4, Growth Rate: 2, Bottleneck: 16\n",
      "====================================================================================================\n"
     ]
    },
    {
     "data": {
      "application/vnd.jupyter.widget-view+json": {
       "model_id": "32e4dea8707e461793a975fa95d1838c",
       "version_major": 2,
       "version_minor": 0
      },
      "text/plain": [
       "Training: 0it [00:00, ?it/s]"
      ]
     },
     "metadata": {},
     "output_type": "display_data"
    },
    {
     "name": "stderr",
     "output_type": "stream",
     "text": [
      "GPU available: True (cuda), used: True\n",
      "TPU available: False, using: 0 TPU cores\n",
      "IPU available: False, using: 0 IPUs\n",
      "HPU available: False, using: 0 HPUs\n"
     ]
    },
    {
     "name": "stdout",
     "output_type": "stream",
     "text": [
      "Cardinality: 4, Growth Rate: 2, Bottleneck: 16\n",
      "CUDA ERROR\n",
      "Cardinality: 4, Growth Rate: 2, Bottleneck: 32\n",
      "====================================================================================================\n"
     ]
    },
    {
     "name": "stderr",
     "output_type": "stream",
     "text": [
      "LOCAL_RANK: 0 - CUDA_VISIBLE_DEVICES: [0]\n",
      "\n",
      "  | Name  | Type           | Params\n",
      "-----------------------------------------\n",
      "0 | model | HybridDenseNet | 1.8 M \n",
      "-----------------------------------------\n",
      "1.8 M     Trainable params\n",
      "0         Non-trainable params\n",
      "1.8 M     Total params\n",
      "7.224     Total estimated model params size (MB)\n"
     ]
    },
    {
     "data": {
      "application/vnd.jupyter.widget-view+json": {
       "model_id": "028fbf81715441cdaace9fe278f10097",
       "version_major": 2,
       "version_minor": 0
      },
      "text/plain": [
       "Training: 0it [00:00, ?it/s]"
      ]
     },
     "metadata": {},
     "output_type": "display_data"
    },
    {
     "name": "stderr",
     "output_type": "stream",
     "text": [
      "GPU available: True (cuda), used: True\n",
      "TPU available: False, using: 0 TPU cores\n",
      "IPU available: False, using: 0 IPUs\n",
      "HPU available: False, using: 0 HPUs\n",
      "LOCAL_RANK: 0 - CUDA_VISIBLE_DEVICES: [0]\n",
      "\n",
      "  | Name  | Type           | Params\n",
      "-----------------------------------------\n",
      "0 | model | HybridDenseNet | 15.2 K\n",
      "-----------------------------------------\n",
      "15.2 K    Trainable params\n",
      "0         Non-trainable params\n",
      "15.2 K    Total params\n",
      "0.061     Total estimated model params size (MB)\n"
     ]
    },
    {
     "name": "stdout",
     "output_type": "stream",
     "text": [
      "Cardinality: 4, Growth Rate: 2, Bottleneck: 32\n",
      "CUDA ERROR\n",
      "Cardinality: 4, Growth Rate: 4, Bottleneck: 2\n",
      "====================================================================================================\n"
     ]
    },
    {
     "data": {
      "application/vnd.jupyter.widget-view+json": {
       "model_id": "051291981a4c492887e43579b4000d6c",
       "version_major": 2,
       "version_minor": 0
      },
      "text/plain": [
       "Training: 0it [00:00, ?it/s]"
      ]
     },
     "metadata": {},
     "output_type": "display_data"
    },
    {
     "name": "stdout",
     "output_type": "stream",
     "text": [
      "[   50] loss : 0.695813 acc: 0.531250\n",
      "[   50] loss : 0.659844 acc: 0.718750\n",
      "[   50] loss : 0.658308 acc: 0.718750\n",
      "[   50] loss : 0.663640 acc: 0.625000\n",
      "[   50] loss : 0.702122 acc: 0.437500\n",
      "[   50] loss : 0.671279 acc: 0.625000\n",
      "[   50] loss : 0.663144 acc: 0.625000\n",
      "[   50] loss : 0.645878 acc: 0.781250\n",
      "[   50] loss : 0.650813 acc: 0.687500\n",
      "[   50] loss : 0.634745 acc: 0.750000\n",
      "[   50] loss : 0.648313 acc: 0.687500\n",
      "[   50] loss : 0.585271 acc: 0.812500\n",
      "[   50] loss : 0.639467 acc: 0.687500\n",
      "[   50] loss : 0.610292 acc: 0.750000\n",
      "[   50] loss : 0.598735 acc: 0.843750\n",
      "[   50] loss : 0.575080 acc: 0.812500\n",
      "[   50] loss : 0.528005 acc: 0.875000\n",
      "[   50] loss : 0.533495 acc: 0.906250\n",
      "[   50] loss : 0.578601 acc: 0.812500\n",
      "[   50] loss : 0.567817 acc: 0.812500\n"
     ]
    },
    {
     "name": "stderr",
     "output_type": "stream",
     "text": [
      "`Trainer.fit` stopped: `max_epochs=20` reached.\n",
      "LOCAL_RANK: 0 - CUDA_VISIBLE_DEVICES: [0]\n"
     ]
    },
    {
     "name": "stdout",
     "output_type": "stream",
     "text": [
      "----------------------------------------------------------------------------------------------------\n",
      "Testing model..\n"
     ]
    },
    {
     "data": {
      "application/vnd.jupyter.widget-view+json": {
       "model_id": "028c584eabed4313a537b1fef37a1680",
       "version_major": 2,
       "version_minor": 0
      },
      "text/plain": [
       "Testing: 0it [00:00, ?it/s]"
      ]
     },
     "metadata": {},
     "output_type": "display_data"
    },
    {
     "name": "stdout",
     "output_type": "stream",
     "text": [
      "[10] loss : 0.609188 acc: 0.781250\n",
      "[20] loss : 0.555664 acc: 0.875000\n",
      "[30] loss : 0.593661 acc: 0.718750\n",
      "[40] loss : 0.587174 acc: 0.812500\n",
      "[50] loss : 0.604329 acc: 0.812500\n",
      "[60] loss : 0.626363 acc: 0.718750\n",
      "[70] loss : 0.594686 acc: 0.843750\n",
      "[80] loss : 0.597552 acc: 0.750000\n",
      "[90] loss : 0.499286 acc: 0.875000\n",
      "[100] loss : 0.581121 acc: 0.812500\n",
      "[110] loss : 0.590039 acc: 0.812500\n",
      "[120] loss : 0.509904 acc: 0.875000\n",
      "[130] loss : 0.690004 acc: 0.593750\n"
     ]
    },
    {
     "data": {
      "text/html": [
       "<pre style=\"white-space:pre;overflow-x:auto;line-height:normal;font-family:Menlo,'DejaVu Sans Mono',consolas,'Courier New',monospace\">┏━━━━━━━━━━━━━━━━━━━━━━━━━━━┳━━━━━━━━━━━━━━━━━━━━━━━━━━━┓\n",
       "┃<span style=\"font-weight: bold\">        Test metric        </span>┃<span style=\"font-weight: bold\">       DataLoader 0        </span>┃\n",
       "┡━━━━━━━━━━━━━━━━━━━━━━━━━━━╇━━━━━━━━━━━━━━━━━━━━━━━━━━━┩\n",
       "│<span style=\"color: #008080; text-decoration-color: #008080\">         test_loss         </span>│<span style=\"color: #800080; text-decoration-color: #800080\">    0.5877138376235962     </span>│\n",
       "└───────────────────────────┴───────────────────────────┘\n",
       "</pre>\n"
      ],
      "text/plain": [
       "┏━━━━━━━━━━━━━━━━━━━━━━━━━━━┳━━━━━━━━━━━━━━━━━━━━━━━━━━━┓\n",
       "┃\u001b[1m \u001b[0m\u001b[1m       Test metric       \u001b[0m\u001b[1m \u001b[0m┃\u001b[1m \u001b[0m\u001b[1m      DataLoader 0       \u001b[0m\u001b[1m \u001b[0m┃\n",
       "┡━━━━━━━━━━━━━━━━━━━━━━━━━━━╇━━━━━━━━━━━━━━━━━━━━━━━━━━━┩\n",
       "│\u001b[36m \u001b[0m\u001b[36m        test_loss        \u001b[0m\u001b[36m \u001b[0m│\u001b[35m \u001b[0m\u001b[35m   0.5877138376235962    \u001b[0m\u001b[35m \u001b[0m│\n",
       "└───────────────────────────┴───────────────────────────┘\n"
      ]
     },
     "metadata": {},
     "output_type": "display_data"
    },
    {
     "name": "stderr",
     "output_type": "stream",
     "text": [
      "GPU available: True (cuda), used: True\n",
      "TPU available: False, using: 0 TPU cores\n",
      "IPU available: False, using: 0 IPUs\n",
      "HPU available: False, using: 0 HPUs\n",
      "LOCAL_RANK: 0 - CUDA_VISIBLE_DEVICES: [0]\n",
      "\n",
      "  | Name  | Type           | Params\n",
      "-----------------------------------------\n",
      "0 | model | HybridDenseNet | 33.8 K\n",
      "-----------------------------------------\n",
      "33.8 K    Trainable params\n",
      "0         Non-trainable params\n",
      "33.8 K    Total params\n",
      "0.135     Total estimated model params size (MB)\n"
     ]
    },
    {
     "name": "stdout",
     "output_type": "stream",
     "text": [
      "Cardinality: 4, Growth Rate: 4, Bottleneck: 4\n",
      "====================================================================================================\n"
     ]
    },
    {
     "data": {
      "application/vnd.jupyter.widget-view+json": {
       "model_id": "34c398ad2e7e4c5aabd8499879771656",
       "version_major": 2,
       "version_minor": 0
      },
      "text/plain": [
       "Training: 0it [00:00, ?it/s]"
      ]
     },
     "metadata": {},
     "output_type": "display_data"
    },
    {
     "name": "stdout",
     "output_type": "stream",
     "text": [
      "[   50] loss : 0.659669 acc: 0.593750\n",
      "[   50] loss : 0.678360 acc: 0.625000\n",
      "[   50] loss : 0.677510 acc: 0.687500\n",
      "[   50] loss : 0.595030 acc: 0.812500\n",
      "[   50] loss : 0.623070 acc: 0.750000\n",
      "[   50] loss : 0.625996 acc: 0.687500\n",
      "[   50] loss : 0.612202 acc: 0.750000\n",
      "[   50] loss : 0.569493 acc: 0.843750\n",
      "[   50] loss : 0.537223 acc: 0.906250\n",
      "[   50] loss : 0.575923 acc: 0.812500\n",
      "[   50] loss : 0.539489 acc: 0.937500\n",
      "[   50] loss : 0.519828 acc: 0.875000\n",
      "[   50] loss : 0.581008 acc: 0.812500\n",
      "[   50] loss : 0.480270 acc: 0.906250\n",
      "[   50] loss : 0.534931 acc: 0.843750\n",
      "[   50] loss : 0.482824 acc: 0.906250\n",
      "[   50] loss : 0.503338 acc: 0.812500\n",
      "[   50] loss : 0.428371 acc: 0.875000\n",
      "[   50] loss : 0.427299 acc: 0.906250\n",
      "[   50] loss : 0.388444 acc: 0.968750\n"
     ]
    },
    {
     "name": "stderr",
     "output_type": "stream",
     "text": [
      "`Trainer.fit` stopped: `max_epochs=20` reached.\n",
      "LOCAL_RANK: 0 - CUDA_VISIBLE_DEVICES: [0]\n"
     ]
    },
    {
     "name": "stdout",
     "output_type": "stream",
     "text": [
      "----------------------------------------------------------------------------------------------------\n",
      "Testing model..\n"
     ]
    },
    {
     "data": {
      "application/vnd.jupyter.widget-view+json": {
       "model_id": "9233ff2d7bc54832a6c7320cdee7f2dc",
       "version_major": 2,
       "version_minor": 0
      },
      "text/plain": [
       "Testing: 0it [00:00, ?it/s]"
      ]
     },
     "metadata": {},
     "output_type": "display_data"
    },
    {
     "name": "stdout",
     "output_type": "stream",
     "text": [
      "[10] loss : 0.450935 acc: 0.906250\n",
      "[20] loss : 0.476582 acc: 0.843750\n",
      "[30] loss : 0.391391 acc: 0.906250\n",
      "[40] loss : 0.461390 acc: 0.812500\n",
      "[50] loss : 0.336901 acc: 1.000000\n",
      "[60] loss : 0.384104 acc: 0.937500\n",
      "[70] loss : 0.421540 acc: 0.843750\n",
      "[80] loss : 0.369692 acc: 0.968750\n",
      "[90] loss : 0.377012 acc: 0.937500\n",
      "[100] loss : 0.420084 acc: 0.843750\n",
      "[110] loss : 0.453730 acc: 0.812500\n",
      "[120] loss : 0.471318 acc: 0.781250\n",
      "[130] loss : 0.400159 acc: 0.968750\n"
     ]
    },
    {
     "data": {
      "text/html": [
       "<pre style=\"white-space:pre;overflow-x:auto;line-height:normal;font-family:Menlo,'DejaVu Sans Mono',consolas,'Courier New',monospace\">┏━━━━━━━━━━━━━━━━━━━━━━━━━━━┳━━━━━━━━━━━━━━━━━━━━━━━━━━━┓\n",
       "┃<span style=\"font-weight: bold\">        Test metric        </span>┃<span style=\"font-weight: bold\">       DataLoader 0        </span>┃\n",
       "┡━━━━━━━━━━━━━━━━━━━━━━━━━━━╇━━━━━━━━━━━━━━━━━━━━━━━━━━━┩\n",
       "│<span style=\"color: #008080; text-decoration-color: #008080\">         test_loss         </span>│<span style=\"color: #800080; text-decoration-color: #800080\">    0.42230406403541565    </span>│\n",
       "└───────────────────────────┴───────────────────────────┘\n",
       "</pre>\n"
      ],
      "text/plain": [
       "┏━━━━━━━━━━━━━━━━━━━━━━━━━━━┳━━━━━━━━━━━━━━━━━━━━━━━━━━━┓\n",
       "┃\u001b[1m \u001b[0m\u001b[1m       Test metric       \u001b[0m\u001b[1m \u001b[0m┃\u001b[1m \u001b[0m\u001b[1m      DataLoader 0       \u001b[0m\u001b[1m \u001b[0m┃\n",
       "┡━━━━━━━━━━━━━━━━━━━━━━━━━━━╇━━━━━━━━━━━━━━━━━━━━━━━━━━━┩\n",
       "│\u001b[36m \u001b[0m\u001b[36m        test_loss        \u001b[0m\u001b[36m \u001b[0m│\u001b[35m \u001b[0m\u001b[35m   0.42230406403541565   \u001b[0m\u001b[35m \u001b[0m│\n",
       "└───────────────────────────┴───────────────────────────┘\n"
      ]
     },
     "metadata": {},
     "output_type": "display_data"
    },
    {
     "name": "stdout",
     "output_type": "stream",
     "text": [
      "Cardinality: 4, Growth Rate: 4, Bottleneck: 8\n",
      "====================================================================================================\n"
     ]
    },
    {
     "name": "stderr",
     "output_type": "stream",
     "text": [
      "GPU available: True (cuda), used: True\n",
      "TPU available: False, using: 0 TPU cores\n",
      "IPU available: False, using: 0 IPUs\n",
      "HPU available: False, using: 0 HPUs\n",
      "LOCAL_RANK: 0 - CUDA_VISIBLE_DEVICES: [0]\n",
      "\n",
      "  | Name  | Type           | Params\n",
      "-----------------------------------------\n",
      "0 | model | HybridDenseNet | 123 K \n",
      "-----------------------------------------\n",
      "123 K     Trainable params\n",
      "0         Non-trainable params\n",
      "123 K     Total params\n",
      "0.496     Total estimated model params size (MB)\n"
     ]
    },
    {
     "data": {
      "application/vnd.jupyter.widget-view+json": {
       "model_id": "a70c4de902a24dd3bcb23fd46d7cd01f",
       "version_major": 2,
       "version_minor": 0
      },
      "text/plain": [
       "Training: 0it [00:00, ?it/s]"
      ]
     },
     "metadata": {},
     "output_type": "display_data"
    },
    {
     "name": "stdout",
     "output_type": "stream",
     "text": [
      "[   50] loss : 0.669390 acc: 0.562500\n",
      "[   50] loss : 0.655686 acc: 0.531250\n",
      "[   50] loss : 0.636793 acc: 0.750000\n",
      "[   50] loss : 0.570831 acc: 0.781250\n",
      "[   50] loss : 0.568812 acc: 0.812500\n",
      "[   50] loss : 0.523971 acc: 0.906250\n",
      "[   50] loss : 0.472135 acc: 0.875000\n",
      "[   50] loss : 0.447062 acc: 0.906250\n",
      "[   50] loss : 0.468149 acc: 0.843750\n",
      "[   50] loss : 0.476613 acc: 0.781250\n",
      "[   50] loss : 0.392854 acc: 0.906250\n",
      "[   50] loss : 0.352944 acc: 0.906250\n",
      "[   50] loss : 0.326640 acc: 0.906250\n",
      "[   50] loss : 0.348942 acc: 0.906250\n",
      "[   50] loss : 0.322951 acc: 0.843750\n",
      "[   50] loss : 0.300523 acc: 0.875000\n",
      "[   50] loss : 0.283286 acc: 0.843750\n",
      "[   50] loss : 0.240239 acc: 0.937500\n",
      "[   50] loss : 0.315601 acc: 0.937500\n",
      "[   50] loss : 0.198970 acc: 0.937500\n"
     ]
    },
    {
     "name": "stderr",
     "output_type": "stream",
     "text": [
      "`Trainer.fit` stopped: `max_epochs=20` reached.\n",
      "LOCAL_RANK: 0 - CUDA_VISIBLE_DEVICES: [0]\n"
     ]
    },
    {
     "name": "stdout",
     "output_type": "stream",
     "text": [
      "----------------------------------------------------------------------------------------------------\n",
      "Testing model..\n"
     ]
    },
    {
     "data": {
      "application/vnd.jupyter.widget-view+json": {
       "model_id": "ae35d9538ad54ece842329efca33968f",
       "version_major": 2,
       "version_minor": 0
      },
      "text/plain": [
       "Testing: 0it [00:00, ?it/s]"
      ]
     },
     "metadata": {},
     "output_type": "display_data"
    },
    {
     "name": "stdout",
     "output_type": "stream",
     "text": [
      "[10] loss : 0.280237 acc: 0.906250\n",
      "[20] loss : 0.551266 acc: 0.781250\n",
      "[30] loss : 0.327794 acc: 0.875000\n",
      "[40] loss : 0.420743 acc: 0.843750\n",
      "[50] loss : 0.431829 acc: 0.812500\n",
      "[60] loss : 0.338555 acc: 0.875000\n",
      "[70] loss : 0.206176 acc: 0.968750\n",
      "[80] loss : 0.243870 acc: 0.937500\n",
      "[90] loss : 0.548227 acc: 0.781250\n",
      "[100] loss : 0.281079 acc: 0.937500\n",
      "[110] loss : 0.502574 acc: 0.781250\n",
      "[120] loss : 0.443664 acc: 0.843750\n",
      "[130] loss : 0.414402 acc: 0.812500\n"
     ]
    },
    {
     "data": {
      "text/html": [
       "<pre style=\"white-space:pre;overflow-x:auto;line-height:normal;font-family:Menlo,'DejaVu Sans Mono',consolas,'Courier New',monospace\">┏━━━━━━━━━━━━━━━━━━━━━━━━━━━┳━━━━━━━━━━━━━━━━━━━━━━━━━━━┓\n",
       "┃<span style=\"font-weight: bold\">        Test metric        </span>┃<span style=\"font-weight: bold\">       DataLoader 0        </span>┃\n",
       "┡━━━━━━━━━━━━━━━━━━━━━━━━━━━╇━━━━━━━━━━━━━━━━━━━━━━━━━━━┩\n",
       "│<span style=\"color: #008080; text-decoration-color: #008080\">         test_loss         </span>│<span style=\"color: #800080; text-decoration-color: #800080\">    0.38525155186653137    </span>│\n",
       "└───────────────────────────┴───────────────────────────┘\n",
       "</pre>\n"
      ],
      "text/plain": [
       "┏━━━━━━━━━━━━━━━━━━━━━━━━━━━┳━━━━━━━━━━━━━━━━━━━━━━━━━━━┓\n",
       "┃\u001b[1m \u001b[0m\u001b[1m       Test metric       \u001b[0m\u001b[1m \u001b[0m┃\u001b[1m \u001b[0m\u001b[1m      DataLoader 0       \u001b[0m\u001b[1m \u001b[0m┃\n",
       "┡━━━━━━━━━━━━━━━━━━━━━━━━━━━╇━━━━━━━━━━━━━━━━━━━━━━━━━━━┩\n",
       "│\u001b[36m \u001b[0m\u001b[36m        test_loss        \u001b[0m\u001b[36m \u001b[0m│\u001b[35m \u001b[0m\u001b[35m   0.38525155186653137   \u001b[0m\u001b[35m \u001b[0m│\n",
       "└───────────────────────────┴───────────────────────────┘\n"
      ]
     },
     "metadata": {},
     "output_type": "display_data"
    },
    {
     "name": "stderr",
     "output_type": "stream",
     "text": [
      "GPU available: True (cuda), used: True\n",
      "TPU available: False, using: 0 TPU cores\n",
      "IPU available: False, using: 0 IPUs\n",
      "HPU available: False, using: 0 HPUs\n",
      "LOCAL_RANK: 0 - CUDA_VISIBLE_DEVICES: [0]\n",
      "\n",
      "  | Name  | Type           | Params\n",
      "-----------------------------------------\n",
      "0 | model | HybridDenseNet | 612 K \n",
      "-----------------------------------------\n",
      "612 K     Trainable params\n",
      "0         Non-trainable params\n",
      "612 K     Total params\n",
      "2.452     Total estimated model params size (MB)\n"
     ]
    },
    {
     "name": "stdout",
     "output_type": "stream",
     "text": [
      "Cardinality: 4, Growth Rate: 4, Bottleneck: 16\n",
      "====================================================================================================\n"
     ]
    },
    {
     "data": {
      "application/vnd.jupyter.widget-view+json": {
       "model_id": "132ab3ac5ffd42bf82c2e6e1b635e43e",
       "version_major": 2,
       "version_minor": 0
      },
      "text/plain": [
       "Training: 0it [00:00, ?it/s]"
      ]
     },
     "metadata": {},
     "output_type": "display_data"
    },
    {
     "name": "stderr",
     "output_type": "stream",
     "text": [
      "GPU available: True (cuda), used: True\n",
      "TPU available: False, using: 0 TPU cores\n",
      "IPU available: False, using: 0 IPUs\n",
      "HPU available: False, using: 0 HPUs\n"
     ]
    },
    {
     "name": "stdout",
     "output_type": "stream",
     "text": [
      "Cardinality: 4, Growth Rate: 4, Bottleneck: 16\n",
      "CUDA ERROR\n",
      "Cardinality: 4, Growth Rate: 4, Bottleneck: 32\n",
      "====================================================================================================\n"
     ]
    },
    {
     "name": "stderr",
     "output_type": "stream",
     "text": [
      "LOCAL_RANK: 0 - CUDA_VISIBLE_DEVICES: [0]\n",
      "\n",
      "  | Name  | Type           | Params\n",
      "-----------------------------------------\n",
      "0 | model | HybridDenseNet | 3.6 M \n",
      "-----------------------------------------\n",
      "3.6 M     Trainable params\n",
      "0         Non-trainable params\n",
      "3.6 M     Total params\n",
      "14.400    Total estimated model params size (MB)\n"
     ]
    },
    {
     "data": {
      "application/vnd.jupyter.widget-view+json": {
       "model_id": "3ee96019f2d549d5868bb45655dce0e0",
       "version_major": 2,
       "version_minor": 0
      },
      "text/plain": [
       "Training: 0it [00:00, ?it/s]"
      ]
     },
     "metadata": {},
     "output_type": "display_data"
    },
    {
     "name": "stderr",
     "output_type": "stream",
     "text": [
      "GPU available: True (cuda), used: True\n",
      "TPU available: False, using: 0 TPU cores\n",
      "IPU available: False, using: 0 IPUs\n",
      "HPU available: False, using: 0 HPUs\n",
      "LOCAL_RANK: 0 - CUDA_VISIBLE_DEVICES: [0]\n"
     ]
    },
    {
     "name": "stdout",
     "output_type": "stream",
     "text": [
      "Cardinality: 4, Growth Rate: 4, Bottleneck: 32\n",
      "CUDA ERROR\n",
      "Cardinality: 4, Growth Rate: 8, Bottleneck: 2\n",
      "====================================================================================================\n"
     ]
    },
    {
     "name": "stderr",
     "output_type": "stream",
     "text": [
      "\n",
      "  | Name  | Type           | Params\n",
      "-----------------------------------------\n",
      "0 | model | HybridDenseNet | 20.6 K\n",
      "-----------------------------------------\n",
      "20.6 K    Trainable params\n",
      "0         Non-trainable params\n",
      "20.6 K    Total params\n",
      "0.082     Total estimated model params size (MB)\n"
     ]
    },
    {
     "data": {
      "application/vnd.jupyter.widget-view+json": {
       "model_id": "3f5a02a4f0274ef8a892d030550e2ae2",
       "version_major": 2,
       "version_minor": 0
      },
      "text/plain": [
       "Training: 0it [00:00, ?it/s]"
      ]
     },
     "metadata": {},
     "output_type": "display_data"
    },
    {
     "name": "stdout",
     "output_type": "stream",
     "text": [
      "[   50] loss : 0.701248 acc: 0.468750\n",
      "[   50] loss : 0.694010 acc: 0.468750\n",
      "[   50] loss : 0.699627 acc: 0.593750\n",
      "[   50] loss : 0.663530 acc: 0.656250\n",
      "[   50] loss : 0.672941 acc: 0.593750\n",
      "[   50] loss : 0.614608 acc: 0.750000\n",
      "[   50] loss : 0.656413 acc: 0.718750\n",
      "[   50] loss : 0.615762 acc: 0.843750\n",
      "[   50] loss : 0.601609 acc: 0.812500\n",
      "[   50] loss : 0.651630 acc: 0.718750\n",
      "[   50] loss : 0.632277 acc: 0.781250\n",
      "[   50] loss : 0.623906 acc: 0.750000\n",
      "[   50] loss : 0.603506 acc: 0.750000\n",
      "[   50] loss : 0.587888 acc: 0.906250\n",
      "[   50] loss : 0.582972 acc: 0.812500\n",
      "[   50] loss : 0.579990 acc: 0.750000\n",
      "[   50] loss : 0.614151 acc: 0.781250\n",
      "[   50] loss : 0.530707 acc: 0.906250\n",
      "[   50] loss : 0.556485 acc: 0.875000\n",
      "[   50] loss : 0.598900 acc: 0.781250\n"
     ]
    },
    {
     "name": "stderr",
     "output_type": "stream",
     "text": [
      "`Trainer.fit` stopped: `max_epochs=20` reached.\n",
      "LOCAL_RANK: 0 - CUDA_VISIBLE_DEVICES: [0]\n"
     ]
    },
    {
     "name": "stdout",
     "output_type": "stream",
     "text": [
      "----------------------------------------------------------------------------------------------------\n",
      "Testing model..\n"
     ]
    },
    {
     "data": {
      "application/vnd.jupyter.widget-view+json": {
       "model_id": "7e4f7547d0d946cea3798879ea350a1a",
       "version_major": 2,
       "version_minor": 0
      },
      "text/plain": [
       "Testing: 0it [00:00, ?it/s]"
      ]
     },
     "metadata": {},
     "output_type": "display_data"
    },
    {
     "name": "stdout",
     "output_type": "stream",
     "text": [
      "[10] loss : 0.608835 acc: 0.781250\n",
      "[20] loss : 0.709387 acc: 0.687500\n",
      "[30] loss : 0.572626 acc: 0.781250\n",
      "[40] loss : 0.606128 acc: 0.750000\n",
      "[50] loss : 0.519722 acc: 0.718750\n",
      "[60] loss : 0.620599 acc: 0.656250\n",
      "[70] loss : 0.624066 acc: 0.500000\n",
      "[80] loss : 0.580353 acc: 0.750000\n",
      "[90] loss : 0.753296 acc: 0.625000\n",
      "[100] loss : 0.681370 acc: 0.593750\n",
      "[110] loss : 0.616540 acc: 0.687500\n",
      "[120] loss : 0.622780 acc: 0.656250\n",
      "[130] loss : 0.553643 acc: 0.781250\n"
     ]
    },
    {
     "data": {
      "text/html": [
       "<pre style=\"white-space:pre;overflow-x:auto;line-height:normal;font-family:Menlo,'DejaVu Sans Mono',consolas,'Courier New',monospace\">┏━━━━━━━━━━━━━━━━━━━━━━━━━━━┳━━━━━━━━━━━━━━━━━━━━━━━━━━━┓\n",
       "┃<span style=\"font-weight: bold\">        Test metric        </span>┃<span style=\"font-weight: bold\">       DataLoader 0        </span>┃\n",
       "┡━━━━━━━━━━━━━━━━━━━━━━━━━━━╇━━━━━━━━━━━━━━━━━━━━━━━━━━━┩\n",
       "│<span style=\"color: #008080; text-decoration-color: #008080\">         test_loss         </span>│<span style=\"color: #800080; text-decoration-color: #800080\">    0.6396410465240479     </span>│\n",
       "└───────────────────────────┴───────────────────────────┘\n",
       "</pre>\n"
      ],
      "text/plain": [
       "┏━━━━━━━━━━━━━━━━━━━━━━━━━━━┳━━━━━━━━━━━━━━━━━━━━━━━━━━━┓\n",
       "┃\u001b[1m \u001b[0m\u001b[1m       Test metric       \u001b[0m\u001b[1m \u001b[0m┃\u001b[1m \u001b[0m\u001b[1m      DataLoader 0       \u001b[0m\u001b[1m \u001b[0m┃\n",
       "┡━━━━━━━━━━━━━━━━━━━━━━━━━━━╇━━━━━━━━━━━━━━━━━━━━━━━━━━━┩\n",
       "│\u001b[36m \u001b[0m\u001b[36m        test_loss        \u001b[0m\u001b[36m \u001b[0m│\u001b[35m \u001b[0m\u001b[35m   0.6396410465240479    \u001b[0m\u001b[35m \u001b[0m│\n",
       "└───────────────────────────┴───────────────────────────┘\n"
      ]
     },
     "metadata": {},
     "output_type": "display_data"
    },
    {
     "name": "stderr",
     "output_type": "stream",
     "text": [
      "GPU available: True (cuda), used: True\n",
      "TPU available: False, using: 0 TPU cores\n",
      "IPU available: False, using: 0 IPUs\n",
      "HPU available: False, using: 0 HPUs\n",
      "LOCAL_RANK: 0 - CUDA_VISIBLE_DEVICES: [0]\n",
      "\n",
      "  | Name  | Type           | Params\n",
      "-----------------------------------------\n",
      "0 | model | HybridDenseNet | 57.6 K\n",
      "-----------------------------------------\n",
      "57.6 K    Trainable params\n",
      "0         Non-trainable params\n",
      "57.6 K    Total params\n",
      "0.230     Total estimated model params size (MB)\n"
     ]
    },
    {
     "name": "stdout",
     "output_type": "stream",
     "text": [
      "Cardinality: 4, Growth Rate: 8, Bottleneck: 4\n",
      "====================================================================================================\n"
     ]
    },
    {
     "data": {
      "application/vnd.jupyter.widget-view+json": {
       "model_id": "4556fc7bb80e4994864681ba18df0ec3",
       "version_major": 2,
       "version_minor": 0
      },
      "text/plain": [
       "Training: 0it [00:00, ?it/s]"
      ]
     },
     "metadata": {},
     "output_type": "display_data"
    },
    {
     "name": "stdout",
     "output_type": "stream",
     "text": [
      "[   50] loss : 0.672584 acc: 0.500000\n",
      "[   50] loss : 0.651766 acc: 0.593750\n",
      "[   50] loss : 0.640643 acc: 0.750000\n",
      "[   50] loss : 0.628957 acc: 0.687500\n",
      "[   50] loss : 0.606482 acc: 0.843750\n",
      "[   50] loss : 0.608480 acc: 0.781250\n",
      "[   50] loss : 0.584599 acc: 0.843750\n",
      "[   50] loss : 0.597206 acc: 0.750000\n",
      "[   50] loss : 0.533104 acc: 0.843750\n",
      "[   50] loss : 0.604160 acc: 0.750000\n",
      "[   50] loss : 0.536361 acc: 0.843750\n",
      "[   50] loss : 0.571741 acc: 0.718750\n",
      "[   50] loss : 0.467078 acc: 0.906250\n",
      "[   50] loss : 0.485064 acc: 0.875000\n",
      "[   50] loss : 0.580308 acc: 0.781250\n",
      "[   50] loss : 0.447145 acc: 0.906250\n",
      "[   50] loss : 0.454167 acc: 0.875000\n",
      "[   50] loss : 0.446614 acc: 0.875000\n",
      "[   50] loss : 0.397196 acc: 0.875000\n",
      "[   50] loss : 0.490917 acc: 0.812500\n"
     ]
    },
    {
     "name": "stderr",
     "output_type": "stream",
     "text": [
      "`Trainer.fit` stopped: `max_epochs=20` reached.\n",
      "LOCAL_RANK: 0 - CUDA_VISIBLE_DEVICES: [0]\n"
     ]
    },
    {
     "name": "stdout",
     "output_type": "stream",
     "text": [
      "----------------------------------------------------------------------------------------------------\n",
      "Testing model..\n"
     ]
    },
    {
     "data": {
      "application/vnd.jupyter.widget-view+json": {
       "model_id": "4532fcc521184767af2e1a2d09928d95",
       "version_major": 2,
       "version_minor": 0
      },
      "text/plain": [
       "Testing: 0it [00:00, ?it/s]"
      ]
     },
     "metadata": {},
     "output_type": "display_data"
    },
    {
     "name": "stdout",
     "output_type": "stream",
     "text": [
      "[10] loss : 0.614394 acc: 0.750000\n",
      "[20] loss : 0.451132 acc: 0.812500\n",
      "[30] loss : 0.508888 acc: 0.781250\n",
      "[40] loss : 0.481836 acc: 0.812500\n",
      "[50] loss : 0.346851 acc: 0.968750\n",
      "[60] loss : 0.376206 acc: 0.937500\n",
      "[70] loss : 0.547919 acc: 0.750000\n",
      "[80] loss : 0.501442 acc: 0.812500\n",
      "[90] loss : 0.453439 acc: 0.875000\n",
      "[100] loss : 0.377071 acc: 0.937500\n",
      "[110] loss : 0.506348 acc: 0.812500\n",
      "[120] loss : 0.445169 acc: 0.875000\n",
      "[130] loss : 0.533211 acc: 0.781250\n"
     ]
    },
    {
     "data": {
      "text/html": [
       "<pre style=\"white-space:pre;overflow-x:auto;line-height:normal;font-family:Menlo,'DejaVu Sans Mono',consolas,'Courier New',monospace\">┏━━━━━━━━━━━━━━━━━━━━━━━━━━━┳━━━━━━━━━━━━━━━━━━━━━━━━━━━┓\n",
       "┃<span style=\"font-weight: bold\">        Test metric        </span>┃<span style=\"font-weight: bold\">       DataLoader 0        </span>┃\n",
       "┡━━━━━━━━━━━━━━━━━━━━━━━━━━━╇━━━━━━━━━━━━━━━━━━━━━━━━━━━┩\n",
       "│<span style=\"color: #008080; text-decoration-color: #008080\">         test_loss         </span>│<span style=\"color: #800080; text-decoration-color: #800080\">    0.4795796573162079     </span>│\n",
       "└───────────────────────────┴───────────────────────────┘\n",
       "</pre>\n"
      ],
      "text/plain": [
       "┏━━━━━━━━━━━━━━━━━━━━━━━━━━━┳━━━━━━━━━━━━━━━━━━━━━━━━━━━┓\n",
       "┃\u001b[1m \u001b[0m\u001b[1m       Test metric       \u001b[0m\u001b[1m \u001b[0m┃\u001b[1m \u001b[0m\u001b[1m      DataLoader 0       \u001b[0m\u001b[1m \u001b[0m┃\n",
       "┡━━━━━━━━━━━━━━━━━━━━━━━━━━━╇━━━━━━━━━━━━━━━━━━━━━━━━━━━┩\n",
       "│\u001b[36m \u001b[0m\u001b[36m        test_loss        \u001b[0m\u001b[36m \u001b[0m│\u001b[35m \u001b[0m\u001b[35m   0.4795796573162079    \u001b[0m\u001b[35m \u001b[0m│\n",
       "└───────────────────────────┴───────────────────────────┘\n"
      ]
     },
     "metadata": {},
     "output_type": "display_data"
    },
    {
     "name": "stderr",
     "output_type": "stream",
     "text": [
      "GPU available: True (cuda), used: True\n",
      "TPU available: False, using: 0 TPU cores\n",
      "IPU available: False, using: 0 IPUs\n",
      "HPU available: False, using: 0 HPUs\n",
      "LOCAL_RANK: 0 - CUDA_VISIBLE_DEVICES: [0]\n",
      "\n",
      "  | Name  | Type           | Params\n",
      "-----------------------------------------\n",
      "0 | model | HybridDenseNet | 237 K \n",
      "-----------------------------------------\n",
      "237 K     Trainable params\n",
      "0         Non-trainable params\n",
      "237 K     Total params\n",
      "0.950     Total estimated model params size (MB)\n"
     ]
    },
    {
     "name": "stdout",
     "output_type": "stream",
     "text": [
      "Cardinality: 4, Growth Rate: 8, Bottleneck: 8\n",
      "====================================================================================================\n"
     ]
    },
    {
     "data": {
      "application/vnd.jupyter.widget-view+json": {
       "model_id": "e19f6fda96e0483593979d7f5a92b415",
       "version_major": 2,
       "version_minor": 0
      },
      "text/plain": [
       "Training: 0it [00:00, ?it/s]"
      ]
     },
     "metadata": {},
     "output_type": "display_data"
    },
    {
     "name": "stdout",
     "output_type": "stream",
     "text": [
      "[   50] loss : 0.657576 acc: 0.687500\n",
      "[   50] loss : 0.613246 acc: 0.750000\n",
      "[   50] loss : 0.556902 acc: 0.843750\n",
      "[   50] loss : 0.532520 acc: 0.812500\n",
      "[   50] loss : 0.469241 acc: 0.906250\n",
      "[   50] loss : 0.442217 acc: 0.968750\n",
      "[   50] loss : 0.423767 acc: 0.937500\n",
      "[   50] loss : 0.413293 acc: 0.843750\n",
      "[   50] loss : 0.417290 acc: 0.875000\n",
      "[   50] loss : 0.404652 acc: 0.843750\n",
      "[   50] loss : 0.245247 acc: 1.000000\n",
      "[   50] loss : 0.279178 acc: 1.000000\n",
      "[   50] loss : 0.345558 acc: 0.875000\n",
      "[   50] loss : 0.259245 acc: 0.937500\n",
      "[   50] loss : 0.231425 acc: 0.968750\n",
      "[   50] loss : 0.180313 acc: 1.000000\n",
      "[   50] loss : 0.298845 acc: 0.937500\n",
      "[   50] loss : 0.282192 acc: 0.906250\n",
      "[   50] loss : 0.189893 acc: 0.937500\n",
      "[   50] loss : 0.258731 acc: 0.875000\n"
     ]
    },
    {
     "name": "stderr",
     "output_type": "stream",
     "text": [
      "`Trainer.fit` stopped: `max_epochs=20` reached.\n",
      "LOCAL_RANK: 0 - CUDA_VISIBLE_DEVICES: [0]\n"
     ]
    },
    {
     "name": "stdout",
     "output_type": "stream",
     "text": [
      "----------------------------------------------------------------------------------------------------\n",
      "Testing model..\n"
     ]
    },
    {
     "data": {
      "application/vnd.jupyter.widget-view+json": {
       "model_id": "d206b3a57b8142ad83a9ef3dd310f5c3",
       "version_major": 2,
       "version_minor": 0
      },
      "text/plain": [
       "Testing: 0it [00:00, ?it/s]"
      ]
     },
     "metadata": {},
     "output_type": "display_data"
    },
    {
     "name": "stdout",
     "output_type": "stream",
     "text": [
      "[10] loss : 0.359328 acc: 0.875000\n",
      "[20] loss : 0.181445 acc: 1.000000\n",
      "[30] loss : 0.199224 acc: 0.937500\n",
      "[40] loss : 0.215509 acc: 0.937500\n",
      "[50] loss : 0.604024 acc: 0.968750\n",
      "[60] loss : 0.210071 acc: 0.968750\n",
      "[70] loss : 0.173814 acc: 1.000000\n",
      "[80] loss : 0.223300 acc: 0.875000\n",
      "[90] loss : 0.232721 acc: 0.937500\n",
      "[100] loss : 0.263807 acc: 0.906250\n",
      "[110] loss : 0.250046 acc: 0.937500\n",
      "[120] loss : 0.204836 acc: 0.906250\n",
      "[130] loss : 0.219762 acc: 0.937500\n"
     ]
    },
    {
     "data": {
      "text/html": [
       "<pre style=\"white-space:pre;overflow-x:auto;line-height:normal;font-family:Menlo,'DejaVu Sans Mono',consolas,'Courier New',monospace\">┏━━━━━━━━━━━━━━━━━━━━━━━━━━━┳━━━━━━━━━━━━━━━━━━━━━━━━━━━┓\n",
       "┃<span style=\"font-weight: bold\">        Test metric        </span>┃<span style=\"font-weight: bold\">       DataLoader 0        </span>┃\n",
       "┡━━━━━━━━━━━━━━━━━━━━━━━━━━━╇━━━━━━━━━━━━━━━━━━━━━━━━━━━┩\n",
       "│<span style=\"color: #008080; text-decoration-color: #008080\">         test_loss         </span>│<span style=\"color: #800080; text-decoration-color: #800080\">    0.22751034796237946    </span>│\n",
       "└───────────────────────────┴───────────────────────────┘\n",
       "</pre>\n"
      ],
      "text/plain": [
       "┏━━━━━━━━━━━━━━━━━━━━━━━━━━━┳━━━━━━━━━━━━━━━━━━━━━━━━━━━┓\n",
       "┃\u001b[1m \u001b[0m\u001b[1m       Test metric       \u001b[0m\u001b[1m \u001b[0m┃\u001b[1m \u001b[0m\u001b[1m      DataLoader 0       \u001b[0m\u001b[1m \u001b[0m┃\n",
       "┡━━━━━━━━━━━━━━━━━━━━━━━━━━━╇━━━━━━━━━━━━━━━━━━━━━━━━━━━┩\n",
       "│\u001b[36m \u001b[0m\u001b[36m        test_loss        \u001b[0m\u001b[36m \u001b[0m│\u001b[35m \u001b[0m\u001b[35m   0.22751034796237946   \u001b[0m\u001b[35m \u001b[0m│\n",
       "└───────────────────────────┴───────────────────────────┘\n"
      ]
     },
     "metadata": {},
     "output_type": "display_data"
    },
    {
     "name": "stderr",
     "output_type": "stream",
     "text": [
      "GPU available: True (cuda), used: True\n",
      "TPU available: False, using: 0 TPU cores\n",
      "IPU available: False, using: 0 IPUs\n",
      "HPU available: False, using: 0 HPUs\n",
      "LOCAL_RANK: 0 - CUDA_VISIBLE_DEVICES: [0]\n",
      "\n",
      "  | Name  | Type           | Params\n",
      "-----------------------------------------\n",
      "0 | model | HybridDenseNet | 1.2 M \n",
      "-----------------------------------------\n",
      "1.2 M     Trainable params\n",
      "0         Non-trainable params\n",
      "1.2 M     Total params\n",
      "4.860     Total estimated model params size (MB)\n"
     ]
    },
    {
     "name": "stdout",
     "output_type": "stream",
     "text": [
      "Cardinality: 4, Growth Rate: 8, Bottleneck: 16\n",
      "====================================================================================================\n"
     ]
    },
    {
     "data": {
      "application/vnd.jupyter.widget-view+json": {
       "model_id": "26eb5fa301374adcb21e16dd5964caa3",
       "version_major": 2,
       "version_minor": 0
      },
      "text/plain": [
       "Training: 0it [00:00, ?it/s]"
      ]
     },
     "metadata": {},
     "output_type": "display_data"
    },
    {
     "name": "stderr",
     "output_type": "stream",
     "text": [
      "GPU available: True (cuda), used: True\n",
      "TPU available: False, using: 0 TPU cores\n",
      "IPU available: False, using: 0 IPUs\n",
      "HPU available: False, using: 0 HPUs\n"
     ]
    },
    {
     "name": "stdout",
     "output_type": "stream",
     "text": [
      "Cardinality: 4, Growth Rate: 8, Bottleneck: 16\n",
      "CUDA ERROR\n",
      "Cardinality: 4, Growth Rate: 8, Bottleneck: 32\n",
      "====================================================================================================\n"
     ]
    },
    {
     "name": "stderr",
     "output_type": "stream",
     "text": [
      "LOCAL_RANK: 0 - CUDA_VISIBLE_DEVICES: [0]\n",
      "\n",
      "  | Name  | Type           | Params\n",
      "-----------------------------------------\n",
      "0 | model | HybridDenseNet | 7.2 M \n",
      "-----------------------------------------\n",
      "7.2 M     Trainable params\n",
      "0         Non-trainable params\n",
      "7.2 M     Total params\n",
      "28.753    Total estimated model params size (MB)\n"
     ]
    },
    {
     "data": {
      "application/vnd.jupyter.widget-view+json": {
       "model_id": "a1e534eb264c46f8afe48266364c95a3",
       "version_major": 2,
       "version_minor": 0
      },
      "text/plain": [
       "Training: 0it [00:00, ?it/s]"
      ]
     },
     "metadata": {},
     "output_type": "display_data"
    },
    {
     "name": "stdout",
     "output_type": "stream",
     "text": [
      "Cardinality: 4, Growth Rate: 8, Bottleneck: 32\n",
      "CUDA ERROR\n",
      "Cardinality: 4, Growth Rate: 16, Bottleneck: 2\n",
      "====================================================================================================\n"
     ]
    },
    {
     "name": "stderr",
     "output_type": "stream",
     "text": [
      "GPU available: True (cuda), used: True\n",
      "TPU available: False, using: 0 TPU cores\n",
      "IPU available: False, using: 0 IPUs\n",
      "HPU available: False, using: 0 HPUs\n",
      "LOCAL_RANK: 0 - CUDA_VISIBLE_DEVICES: [0]\n",
      "\n",
      "  | Name  | Type           | Params\n",
      "-----------------------------------------\n",
      "0 | model | HybridDenseNet | 31.3 K\n",
      "-----------------------------------------\n",
      "31.3 K    Trainable params\n",
      "0         Non-trainable params\n",
      "31.3 K    Total params\n",
      "0.125     Total estimated model params size (MB)\n"
     ]
    },
    {
     "data": {
      "application/vnd.jupyter.widget-view+json": {
       "model_id": "8ddeed67e6264b6881702b5abb220dce",
       "version_major": 2,
       "version_minor": 0
      },
      "text/plain": [
       "Training: 0it [00:00, ?it/s]"
      ]
     },
     "metadata": {},
     "output_type": "display_data"
    },
    {
     "name": "stdout",
     "output_type": "stream",
     "text": [
      "[   50] loss : 0.684205 acc: 0.562500\n",
      "[   50] loss : 0.639709 acc: 0.781250\n",
      "[   50] loss : 0.661169 acc: 0.656250\n",
      "[   50] loss : 0.657271 acc: 0.656250\n",
      "[   50] loss : 0.629421 acc: 0.812500\n",
      "[   50] loss : 0.628941 acc: 0.750000\n",
      "[   50] loss : 0.598465 acc: 0.906250\n",
      "[   50] loss : 0.629440 acc: 0.781250\n",
      "[   50] loss : 0.602660 acc: 0.875000\n",
      "[   50] loss : 0.603939 acc: 0.781250\n",
      "[   50] loss : 0.587675 acc: 0.843750\n",
      "[   50] loss : 0.578341 acc: 0.906250\n",
      "[   50] loss : 0.609905 acc: 0.750000\n",
      "[   50] loss : 0.549648 acc: 0.906250\n",
      "[   50] loss : 0.540288 acc: 0.937500\n",
      "[   50] loss : 0.531949 acc: 0.937500\n",
      "[   50] loss : 0.544998 acc: 0.906250\n",
      "[   50] loss : 0.533059 acc: 0.937500\n",
      "[   50] loss : 0.579867 acc: 0.750000\n",
      "[   50] loss : 0.452817 acc: 0.906250\n"
     ]
    },
    {
     "name": "stderr",
     "output_type": "stream",
     "text": [
      "`Trainer.fit` stopped: `max_epochs=20` reached.\n",
      "LOCAL_RANK: 0 - CUDA_VISIBLE_DEVICES: [0]\n"
     ]
    },
    {
     "name": "stdout",
     "output_type": "stream",
     "text": [
      "----------------------------------------------------------------------------------------------------\n",
      "Testing model..\n"
     ]
    },
    {
     "data": {
      "application/vnd.jupyter.widget-view+json": {
       "model_id": "63b4fce5bd1e4b54bdaa0ab9308fe1b7",
       "version_major": 2,
       "version_minor": 0
      },
      "text/plain": [
       "Testing: 0it [00:00, ?it/s]"
      ]
     },
     "metadata": {},
     "output_type": "display_data"
    },
    {
     "name": "stdout",
     "output_type": "stream",
     "text": [
      "[10] loss : 0.689284 acc: 0.750000\n",
      "[20] loss : 0.494700 acc: 0.906250\n",
      "[30] loss : 0.550548 acc: 0.812500\n",
      "[40] loss : 0.540147 acc: 0.843750\n",
      "[50] loss : 0.564736 acc: 0.812500\n",
      "[60] loss : 0.488008 acc: 0.843750\n",
      "[70] loss : 0.529796 acc: 0.843750\n",
      "[80] loss : 0.504375 acc: 0.843750\n",
      "[90] loss : 0.525418 acc: 0.875000\n",
      "[100] loss : 0.602136 acc: 0.750000\n",
      "[110] loss : 0.568795 acc: 0.875000\n",
      "[120] loss : 0.481964 acc: 0.875000\n",
      "[130] loss : 0.525096 acc: 0.843750\n"
     ]
    },
    {
     "data": {
      "text/html": [
       "<pre style=\"white-space:pre;overflow-x:auto;line-height:normal;font-family:Menlo,'DejaVu Sans Mono',consolas,'Courier New',monospace\">┏━━━━━━━━━━━━━━━━━━━━━━━━━━━┳━━━━━━━━━━━━━━━━━━━━━━━━━━━┓\n",
       "┃<span style=\"font-weight: bold\">        Test metric        </span>┃<span style=\"font-weight: bold\">       DataLoader 0        </span>┃\n",
       "┡━━━━━━━━━━━━━━━━━━━━━━━━━━━╇━━━━━━━━━━━━━━━━━━━━━━━━━━━┩\n",
       "│<span style=\"color: #008080; text-decoration-color: #008080\">         test_loss         </span>│<span style=\"color: #800080; text-decoration-color: #800080\">    0.5540746450424194     </span>│\n",
       "└───────────────────────────┴───────────────────────────┘\n",
       "</pre>\n"
      ],
      "text/plain": [
       "┏━━━━━━━━━━━━━━━━━━━━━━━━━━━┳━━━━━━━━━━━━━━━━━━━━━━━━━━━┓\n",
       "┃\u001b[1m \u001b[0m\u001b[1m       Test metric       \u001b[0m\u001b[1m \u001b[0m┃\u001b[1m \u001b[0m\u001b[1m      DataLoader 0       \u001b[0m\u001b[1m \u001b[0m┃\n",
       "┡━━━━━━━━━━━━━━━━━━━━━━━━━━━╇━━━━━━━━━━━━━━━━━━━━━━━━━━━┩\n",
       "│\u001b[36m \u001b[0m\u001b[36m        test_loss        \u001b[0m\u001b[36m \u001b[0m│\u001b[35m \u001b[0m\u001b[35m   0.5540746450424194    \u001b[0m\u001b[35m \u001b[0m│\n",
       "└───────────────────────────┴───────────────────────────┘\n"
      ]
     },
     "metadata": {},
     "output_type": "display_data"
    },
    {
     "name": "stderr",
     "output_type": "stream",
     "text": [
      "GPU available: True (cuda), used: True\n",
      "TPU available: False, using: 0 TPU cores\n",
      "IPU available: False, using: 0 IPUs\n",
      "HPU available: False, using: 0 HPUs\n",
      "LOCAL_RANK: 0 - CUDA_VISIBLE_DEVICES: [0]\n",
      "\n",
      "  | Name  | Type           | Params\n",
      "-----------------------------------------\n",
      "0 | model | HybridDenseNet | 105 K \n",
      "-----------------------------------------\n",
      "105 K     Trainable params\n",
      "0         Non-trainable params\n",
      "105 K     Total params\n",
      "0.421     Total estimated model params size (MB)\n"
     ]
    },
    {
     "name": "stdout",
     "output_type": "stream",
     "text": [
      "Cardinality: 4, Growth Rate: 16, Bottleneck: 4\n",
      "====================================================================================================\n"
     ]
    },
    {
     "data": {
      "application/vnd.jupyter.widget-view+json": {
       "model_id": "bde5b9d332b845ee88e182f76683891e",
       "version_major": 2,
       "version_minor": 0
      },
      "text/plain": [
       "Training: 0it [00:00, ?it/s]"
      ]
     },
     "metadata": {},
     "output_type": "display_data"
    },
    {
     "name": "stdout",
     "output_type": "stream",
     "text": [
      "[   50] loss : 0.710600 acc: 0.375000\n",
      "[   50] loss : 0.632098 acc: 0.812500\n",
      "[   50] loss : 0.606897 acc: 0.781250\n",
      "[   50] loss : 0.593110 acc: 0.875000\n",
      "[   50] loss : 0.656947 acc: 0.781250\n",
      "[   50] loss : 0.562722 acc: 0.875000\n",
      "[   50] loss : 0.513235 acc: 0.875000\n",
      "[   50] loss : 0.504902 acc: 0.875000\n",
      "[   50] loss : 0.517323 acc: 0.843750\n",
      "[   50] loss : 0.501572 acc: 0.875000\n",
      "[   50] loss : 0.424851 acc: 0.937500\n",
      "[   50] loss : 0.446736 acc: 0.906250\n",
      "[   50] loss : 0.442277 acc: 0.875000\n",
      "[   50] loss : 0.409088 acc: 0.875000\n",
      "[   50] loss : 0.407821 acc: 0.968750\n",
      "[   50] loss : 0.480326 acc: 0.781250\n",
      "[   50] loss : 0.358579 acc: 0.875000\n",
      "[   50] loss : 0.347744 acc: 0.906250\n",
      "[   50] loss : 0.401185 acc: 0.875000\n",
      "[   50] loss : 0.311479 acc: 0.906250\n"
     ]
    },
    {
     "name": "stderr",
     "output_type": "stream",
     "text": [
      "`Trainer.fit` stopped: `max_epochs=20` reached.\n",
      "LOCAL_RANK: 0 - CUDA_VISIBLE_DEVICES: [0]\n"
     ]
    },
    {
     "name": "stdout",
     "output_type": "stream",
     "text": [
      "----------------------------------------------------------------------------------------------------\n",
      "Testing model..\n"
     ]
    },
    {
     "data": {
      "application/vnd.jupyter.widget-view+json": {
       "model_id": "c9f60ed8c57943b29ba481bd17ce2a1c",
       "version_major": 2,
       "version_minor": 0
      },
      "text/plain": [
       "Testing: 0it [00:00, ?it/s]"
      ]
     },
     "metadata": {},
     "output_type": "display_data"
    },
    {
     "name": "stdout",
     "output_type": "stream",
     "text": [
      "[10] loss : 0.316649 acc: 0.968750\n",
      "[20] loss : 0.308001 acc: 0.875000\n",
      "[30] loss : 0.322272 acc: 0.937500\n",
      "[40] loss : 0.344519 acc: 0.875000\n",
      "[50] loss : 0.324448 acc: 0.875000\n",
      "[60] loss : 0.291709 acc: 0.968750\n",
      "[70] loss : 0.334710 acc: 0.906250\n",
      "[80] loss : 0.400572 acc: 0.812500\n",
      "[90] loss : 0.375385 acc: 0.875000\n",
      "[100] loss : 0.367661 acc: 0.875000\n",
      "[110] loss : 0.327038 acc: 0.906250\n",
      "[120] loss : 0.342457 acc: 0.906250\n",
      "[130] loss : 0.432121 acc: 0.781250\n"
     ]
    },
    {
     "data": {
      "text/html": [
       "<pre style=\"white-space:pre;overflow-x:auto;line-height:normal;font-family:Menlo,'DejaVu Sans Mono',consolas,'Courier New',monospace\">┏━━━━━━━━━━━━━━━━━━━━━━━━━━━┳━━━━━━━━━━━━━━━━━━━━━━━━━━━┓\n",
       "┃<span style=\"font-weight: bold\">        Test metric        </span>┃<span style=\"font-weight: bold\">       DataLoader 0        </span>┃\n",
       "┡━━━━━━━━━━━━━━━━━━━━━━━━━━━╇━━━━━━━━━━━━━━━━━━━━━━━━━━━┩\n",
       "│<span style=\"color: #008080; text-decoration-color: #008080\">         test_loss         </span>│<span style=\"color: #800080; text-decoration-color: #800080\">    0.3357180953025818     </span>│\n",
       "└───────────────────────────┴───────────────────────────┘\n",
       "</pre>\n"
      ],
      "text/plain": [
       "┏━━━━━━━━━━━━━━━━━━━━━━━━━━━┳━━━━━━━━━━━━━━━━━━━━━━━━━━━┓\n",
       "┃\u001b[1m \u001b[0m\u001b[1m       Test metric       \u001b[0m\u001b[1m \u001b[0m┃\u001b[1m \u001b[0m\u001b[1m      DataLoader 0       \u001b[0m\u001b[1m \u001b[0m┃\n",
       "┡━━━━━━━━━━━━━━━━━━━━━━━━━━━╇━━━━━━━━━━━━━━━━━━━━━━━━━━━┩\n",
       "│\u001b[36m \u001b[0m\u001b[36m        test_loss        \u001b[0m\u001b[36m \u001b[0m│\u001b[35m \u001b[0m\u001b[35m   0.3357180953025818    \u001b[0m\u001b[35m \u001b[0m│\n",
       "└───────────────────────────┴───────────────────────────┘\n"
      ]
     },
     "metadata": {},
     "output_type": "display_data"
    },
    {
     "name": "stderr",
     "output_type": "stream",
     "text": [
      "GPU available: True (cuda), used: True\n",
      "TPU available: False, using: 0 TPU cores\n",
      "IPU available: False, using: 0 IPUs\n",
      "HPU available: False, using: 0 HPUs\n",
      "LOCAL_RANK: 0 - CUDA_VISIBLE_DEVICES: [0]\n",
      "\n",
      "  | Name  | Type           | Params\n",
      "-----------------------------------------\n",
      "0 | model | HybridDenseNet | 464 K \n",
      "-----------------------------------------\n",
      "464 K     Trainable params\n",
      "0         Non-trainable params\n",
      "464 K     Total params\n",
      "1.860     Total estimated model params size (MB)\n"
     ]
    },
    {
     "name": "stdout",
     "output_type": "stream",
     "text": [
      "Cardinality: 4, Growth Rate: 16, Bottleneck: 8\n",
      "====================================================================================================\n"
     ]
    },
    {
     "data": {
      "application/vnd.jupyter.widget-view+json": {
       "model_id": "f1a4d5d1fcfe4af2ae3c7e50b2c983d3",
       "version_major": 2,
       "version_minor": 0
      },
      "text/plain": [
       "Training: 0it [00:00, ?it/s]"
      ]
     },
     "metadata": {},
     "output_type": "display_data"
    },
    {
     "name": "stderr",
     "output_type": "stream",
     "text": [
      "GPU available: True (cuda), used: True\n",
      "TPU available: False, using: 0 TPU cores\n",
      "IPU available: False, using: 0 IPUs\n",
      "HPU available: False, using: 0 HPUs\n"
     ]
    },
    {
     "name": "stdout",
     "output_type": "stream",
     "text": [
      "Cardinality: 4, Growth Rate: 16, Bottleneck: 8\n",
      "CUDA ERROR\n",
      "Cardinality: 4, Growth Rate: 16, Bottleneck: 16\n",
      "====================================================================================================\n"
     ]
    },
    {
     "name": "stderr",
     "output_type": "stream",
     "text": [
      "LOCAL_RANK: 0 - CUDA_VISIBLE_DEVICES: [0]\n",
      "\n",
      "  | Name  | Type           | Params\n",
      "-----------------------------------------\n",
      "0 | model | HybridDenseNet | 2.4 M \n",
      "-----------------------------------------\n",
      "2.4 M     Trainable params\n",
      "0         Non-trainable params\n",
      "2.4 M     Total params\n",
      "9.677     Total estimated model params size (MB)\n"
     ]
    },
    {
     "data": {
      "application/vnd.jupyter.widget-view+json": {
       "model_id": "61ad9948bf474d5aac332dd0cb8c7d81",
       "version_major": 2,
       "version_minor": 0
      },
      "text/plain": [
       "Training: 0it [00:00, ?it/s]"
      ]
     },
     "metadata": {},
     "output_type": "display_data"
    },
    {
     "name": "stderr",
     "output_type": "stream",
     "text": [
      "GPU available: True (cuda), used: True\n",
      "TPU available: False, using: 0 TPU cores\n",
      "IPU available: False, using: 0 IPUs\n",
      "HPU available: False, using: 0 HPUs\n"
     ]
    },
    {
     "name": "stdout",
     "output_type": "stream",
     "text": [
      "Cardinality: 4, Growth Rate: 16, Bottleneck: 16\n",
      "CUDA ERROR\n",
      "Cardinality: 4, Growth Rate: 16, Bottleneck: 32\n",
      "====================================================================================================\n"
     ]
    },
    {
     "name": "stderr",
     "output_type": "stream",
     "text": [
      "LOCAL_RANK: 0 - CUDA_VISIBLE_DEVICES: [0]\n",
      "\n",
      "  | Name  | Type           | Params\n",
      "-----------------------------------------\n",
      "0 | model | HybridDenseNet | 14.4 M\n",
      "-----------------------------------------\n",
      "14.4 M    Trainable params\n",
      "0         Non-trainable params\n",
      "14.4 M    Total params\n",
      "57.457    Total estimated model params size (MB)\n"
     ]
    },
    {
     "data": {
      "application/vnd.jupyter.widget-view+json": {
       "model_id": "f7f12c03f1e7412ba4094b612f9413ef",
       "version_major": 2,
       "version_minor": 0
      },
      "text/plain": [
       "Training: 0it [00:00, ?it/s]"
      ]
     },
     "metadata": {},
     "output_type": "display_data"
    },
    {
     "name": "stderr",
     "output_type": "stream",
     "text": [
      "GPU available: True (cuda), used: True\n",
      "TPU available: False, using: 0 TPU cores\n",
      "IPU available: False, using: 0 IPUs\n",
      "HPU available: False, using: 0 HPUs\n",
      "LOCAL_RANK: 0 - CUDA_VISIBLE_DEVICES: [0]\n",
      "\n",
      "  | Name  | Type           | Params\n",
      "-----------------------------------------\n",
      "0 | model | HybridDenseNet | 52.8 K\n",
      "-----------------------------------------\n",
      "52.8 K    Trainable params\n",
      "0         Non-trainable params\n",
      "52.8 K    Total params\n",
      "0.211     Total estimated model params size (MB)\n"
     ]
    },
    {
     "name": "stdout",
     "output_type": "stream",
     "text": [
      "Cardinality: 4, Growth Rate: 16, Bottleneck: 32\n",
      "CUDA ERROR\n",
      "Cardinality: 4, Growth Rate: 32, Bottleneck: 2\n",
      "====================================================================================================\n"
     ]
    },
    {
     "data": {
      "application/vnd.jupyter.widget-view+json": {
       "model_id": "abd1bb45a5784d60b83da7a44539f028",
       "version_major": 2,
       "version_minor": 0
      },
      "text/plain": [
       "Training: 0it [00:00, ?it/s]"
      ]
     },
     "metadata": {},
     "output_type": "display_data"
    },
    {
     "name": "stdout",
     "output_type": "stream",
     "text": [
      "[   50] loss : 0.687347 acc: 0.562500\n",
      "[   50] loss : 0.698705 acc: 0.406250\n",
      "[   50] loss : 0.656076 acc: 0.625000\n",
      "[   50] loss : 0.662035 acc: 0.562500\n",
      "[   50] loss : 0.630119 acc: 0.750000\n",
      "[   50] loss : 0.645142 acc: 0.656250\n",
      "[   50] loss : 0.629630 acc: 0.781250\n",
      "[   50] loss : 0.650755 acc: 0.562500\n",
      "[   50] loss : 0.613393 acc: 0.750000\n",
      "[   50] loss : 0.602019 acc: 0.750000\n",
      "[   50] loss : 0.591679 acc: 0.812500\n",
      "[   50] loss : 0.561990 acc: 0.875000\n",
      "[   50] loss : 0.608577 acc: 0.750000\n",
      "[   50] loss : 0.561950 acc: 0.781250\n",
      "[   50] loss : 0.593051 acc: 0.750000\n",
      "[   50] loss : 0.518572 acc: 0.906250\n",
      "[   50] loss : 0.467433 acc: 0.906250\n",
      "[   50] loss : 0.499293 acc: 0.937500\n",
      "[   50] loss : 0.503193 acc: 0.906250\n",
      "[   50] loss : 0.502437 acc: 0.843750\n"
     ]
    },
    {
     "name": "stderr",
     "output_type": "stream",
     "text": [
      "`Trainer.fit` stopped: `max_epochs=20` reached.\n",
      "LOCAL_RANK: 0 - CUDA_VISIBLE_DEVICES: [0]\n"
     ]
    },
    {
     "name": "stdout",
     "output_type": "stream",
     "text": [
      "----------------------------------------------------------------------------------------------------\n",
      "Testing model..\n"
     ]
    },
    {
     "data": {
      "application/vnd.jupyter.widget-view+json": {
       "model_id": "95dcc2b36189461f91399ce91be3115a",
       "version_major": 2,
       "version_minor": 0
      },
      "text/plain": [
       "Testing: 0it [00:00, ?it/s]"
      ]
     },
     "metadata": {},
     "output_type": "display_data"
    },
    {
     "name": "stdout",
     "output_type": "stream",
     "text": [
      "[10] loss : 0.533197 acc: 0.812500\n",
      "[20] loss : 0.547346 acc: 0.812500\n",
      "[30] loss : 0.510375 acc: 0.875000\n",
      "[40] loss : 0.508798 acc: 0.875000\n",
      "[50] loss : 0.526667 acc: 0.875000\n",
      "[60] loss : 0.497724 acc: 0.906250\n",
      "[70] loss : 0.515798 acc: 0.906250\n",
      "[80] loss : 0.478639 acc: 0.906250\n",
      "[90] loss : 0.508385 acc: 0.875000\n",
      "[100] loss : 0.529200 acc: 0.906250\n",
      "[110] loss : 0.497450 acc: 0.812500\n",
      "[120] loss : 0.518938 acc: 0.718750\n",
      "[130] loss : 0.546348 acc: 0.812500\n"
     ]
    },
    {
     "data": {
      "text/html": [
       "<pre style=\"white-space:pre;overflow-x:auto;line-height:normal;font-family:Menlo,'DejaVu Sans Mono',consolas,'Courier New',monospace\">┏━━━━━━━━━━━━━━━━━━━━━━━━━━━┳━━━━━━━━━━━━━━━━━━━━━━━━━━━┓\n",
       "┃<span style=\"font-weight: bold\">        Test metric        </span>┃<span style=\"font-weight: bold\">       DataLoader 0        </span>┃\n",
       "┡━━━━━━━━━━━━━━━━━━━━━━━━━━━╇━━━━━━━━━━━━━━━━━━━━━━━━━━━┩\n",
       "│<span style=\"color: #008080; text-decoration-color: #008080\">         test_loss         </span>│<span style=\"color: #800080; text-decoration-color: #800080\">     0.522686779499054     </span>│\n",
       "└───────────────────────────┴───────────────────────────┘\n",
       "</pre>\n"
      ],
      "text/plain": [
       "┏━━━━━━━━━━━━━━━━━━━━━━━━━━━┳━━━━━━━━━━━━━━━━━━━━━━━━━━━┓\n",
       "┃\u001b[1m \u001b[0m\u001b[1m       Test metric       \u001b[0m\u001b[1m \u001b[0m┃\u001b[1m \u001b[0m\u001b[1m      DataLoader 0       \u001b[0m\u001b[1m \u001b[0m┃\n",
       "┡━━━━━━━━━━━━━━━━━━━━━━━━━━━╇━━━━━━━━━━━━━━━━━━━━━━━━━━━┩\n",
       "│\u001b[36m \u001b[0m\u001b[36m        test_loss        \u001b[0m\u001b[36m \u001b[0m│\u001b[35m \u001b[0m\u001b[35m    0.522686779499054    \u001b[0m\u001b[35m \u001b[0m│\n",
       "└───────────────────────────┴───────────────────────────┘\n"
      ]
     },
     "metadata": {},
     "output_type": "display_data"
    },
    {
     "name": "stderr",
     "output_type": "stream",
     "text": [
      "GPU available: True (cuda), used: True\n",
      "TPU available: False, using: 0 TPU cores\n",
      "IPU available: False, using: 0 IPUs\n",
      "HPU available: False, using: 0 HPUs\n",
      "LOCAL_RANK: 0 - CUDA_VISIBLE_DEVICES: [0]\n",
      "\n",
      "  | Name  | Type           | Params\n",
      "-----------------------------------------\n",
      "0 | model | HybridDenseNet | 200 K \n",
      "-----------------------------------------\n",
      "200 K     Trainable params\n",
      "0         Non-trainable params\n",
      "200 K     Total params\n",
      "0.802     Total estimated model params size (MB)\n"
     ]
    },
    {
     "name": "stdout",
     "output_type": "stream",
     "text": [
      "Cardinality: 4, Growth Rate: 32, Bottleneck: 4\n",
      "====================================================================================================\n"
     ]
    },
    {
     "data": {
      "application/vnd.jupyter.widget-view+json": {
       "model_id": "98019b3c549b49d3b93a8808e67b4fc4",
       "version_major": 2,
       "version_minor": 0
      },
      "text/plain": [
       "Training: 0it [00:00, ?it/s]"
      ]
     },
     "metadata": {},
     "output_type": "display_data"
    },
    {
     "name": "stdout",
     "output_type": "stream",
     "text": [
      "[   50] loss : 0.613957 acc: 0.656250\n",
      "[   50] loss : 0.601733 acc: 0.781250\n",
      "[   50] loss : 0.581548 acc: 0.843750\n",
      "[   50] loss : 0.565598 acc: 0.750000\n",
      "[   50] loss : 0.584341 acc: 0.718750\n",
      "[   50] loss : 0.566864 acc: 0.812500\n",
      "[   50] loss : 0.513897 acc: 0.937500\n",
      "[   50] loss : 0.498600 acc: 0.843750\n",
      "[   50] loss : 0.436576 acc: 0.937500\n",
      "[   50] loss : 0.450048 acc: 0.937500\n",
      "[   50] loss : 0.453058 acc: 0.937500\n",
      "[   50] loss : 0.425704 acc: 0.937500\n",
      "[   50] loss : 0.439415 acc: 0.843750\n",
      "[   50] loss : 0.397268 acc: 0.875000\n",
      "[   50] loss : 0.351607 acc: 0.937500\n",
      "[   50] loss : 0.374035 acc: 0.875000\n",
      "[   50] loss : 0.326450 acc: 0.937500\n",
      "[   50] loss : 0.366819 acc: 0.937500\n",
      "[   50] loss : 0.304984 acc: 0.937500\n"
     ]
    }
   ],
   "source": [
    "losses = {}\n",
    "acc = {}\n",
    "bottle_necks = [2, 4, 8, 16, 32]\n",
    "cardinalities = [2, 4, 8]\n",
    "growth_rates = [2, 4, 8, 16, 32]\n",
    "for j in cardinalities: \n",
    "    for i in bottle_necks:\n",
    "        for k in growth_rates: \n",
    "            try: \n",
    "                print(\"Cardinality: {}, Growth Rate: {}, Bottleneck: {}\". format(j, i, k))\n",
    "                print(\"=\" * 100)\n",
    "                trainer = pl.Trainer(accelerator = 'gpu', devices = 1, max_epochs = 20)\n",
    "                net = HybridDenseNet(growth_rate=j, cardinality=k, bottleneck_width=i, num_classes=1)\n",
    "                lightning_model = HybridDenseNetLightning(net)\n",
    "                trainer.fit(lightning_model, train_data)\n",
    "                print(\"-\" * 100)\n",
    "                print('Testing model..')\n",
    "                trainer.test(model = lightning_model, dataloaders=test_data)\n",
    "                losses.update({\"C {}, BN: {}, GR: {}\".format(j, i, k) : lightning_model.test_loss})\n",
    "                acc.update({\"C {}, BN: {}, GR: {}\".format(j, i, k): lightning_model.test_acc})\n",
    "            except:\n",
    "                print(\"Cardinality: {}, Growth Rate: {}, Bottleneck: {}\". format(j, i, k))\n",
    "                print(\"CUDA ERROR\")"
   ]
  },
  {
   "cell_type": "code",
   "execution_count": null,
   "id": "57d3c472-1c63-45b2-a604-71c5788a9fe4",
   "metadata": {},
   "outputs": [],
   "source": [
    "loss = pd.DataFrame(losses)\n",
    "sns.set(rc={'figure.figsize':(90,4)})\n",
    "loss.boxplot()\n",
    "plt.xlabel(\"Growth Rate, BottleNeck, Cardinality\")\n",
    "plt.ylabel(\"Loss MSE\")\n",
    "plt.savefig(\"Tunning GrowthRate, BottleNeck, Cardinality_3_loss.jpg\")"
   ]
  },
  {
   "cell_type": "code",
   "execution_count": null,
   "id": "aee85e04-9335-449a-9742-d10e70638f2a",
   "metadata": {},
   "outputs": [],
   "source": [
    "accs = pd.DataFrame(acc)\n",
    "sns.set(rc={'figure.figsize':(90,8)})\n",
    "plt.xlabel(\"Growth Rate, BottleNeck, Cardinality\")\n",
    "plt.ylabel(\"Accuracy Softmax accuracy\")\n",
    "accs.boxplot()\n",
    "plt.savefig(\"Tunning GrowthRate, BottleNeck, Cardinality_3_acc.jpg\")"
   ]
  },
  {
   "cell_type": "code",
   "execution_count": null,
   "id": "919b99b7-2608-41bc-8520-371bc51dc19e",
   "metadata": {},
   "outputs": [],
   "source": [
    "trainer = pl.Trainer(accelerator= 'gpu', devices=1, max_epochs=50)"
   ]
  },
  {
   "cell_type": "code",
   "execution_count": 10,
   "id": "fbfdbdc3-901a-4589-b3fe-88f9b34bebe0",
   "metadata": {},
   "outputs": [],
   "source": [
    "losses = {}\n",
    "acc = {}"
   ]
  },
  {
   "cell_type": "code",
   "execution_count": 11,
   "id": "8bb98460-9774-4126-9b61-60929eaa0b0d",
   "metadata": {
    "tags": []
   },
   "outputs": [],
   "source": [
    "net = HybridDenseNet(growth_rate=2, cardinality=1, bottleneck_width=2, num_classes=1)\n",
    "lightning_model = HybridDenseNetLightning(net)"
   ]
  },
  {
   "cell_type": "code",
   "execution_count": 12,
   "id": "bc639b10-0774-4b42-97e1-fb8ad0d53ae0",
   "metadata": {
    "scrolled": true,
    "tags": []
   },
   "outputs": [
    {
     "name": "stderr",
     "output_type": "stream",
     "text": [
      "You are using a CUDA device ('NVIDIA RTX A4000') that has Tensor Cores. To properly utilize them, you should set `torch.set_float32_matmul_precision('medium' | 'high')` which will trade-off precision for performance. For more details, read https://pytorch.org/docs/stable/generated/torch.set_float32_matmul_precision.html#torch.set_float32_matmul_precision\n"
     ]
    },
    {
     "name": "stdout",
     "output_type": "stream",
     "text": [
      "[   50] loss : 0.692383 acc: 0.531250\n",
      "[   50] loss : 0.690009 acc: 0.593750\n",
      "[   50] loss : 0.670653 acc: 0.656250\n",
      "[   50] loss : 0.691735 acc: 0.531250\n",
      "[   50] loss : 0.703833 acc: 0.562500\n",
      "[   50] loss : 0.659340 acc: 0.562500\n",
      "[   50] loss : 0.671025 acc: 0.562500\n",
      "[   50] loss : 0.682360 acc: 0.500000\n",
      "[   50] loss : 0.675292 acc: 0.562500\n",
      "[   50] loss : 0.666571 acc: 0.562500\n",
      "[   50] loss : 0.698495 acc: 0.437500\n",
      "[   50] loss : 0.673079 acc: 0.656250\n",
      "[   50] loss : 0.653233 acc: 0.781250\n",
      "[   50] loss : 0.645849 acc: 0.718750\n",
      "[   50] loss : 0.650656 acc: 0.625000\n",
      "[   50] loss : 0.686938 acc: 0.531250\n",
      "[   50] loss : 0.699837 acc: 0.500000\n",
      "[   50] loss : 0.689368 acc: 0.500000\n",
      "[   50] loss : 0.681984 acc: 0.593750\n",
      "[   50] loss : 0.665615 acc: 0.656250\n",
      "[   50] loss : 0.718836 acc: 0.468750\n",
      "[   50] loss : 0.644231 acc: 0.781250\n",
      "[   50] loss : 0.701291 acc: 0.468750\n",
      "[   50] loss : 0.661228 acc: 0.625000\n",
      "[   50] loss : 0.680344 acc: 0.562500\n",
      "[   50] loss : 0.656763 acc: 0.781250\n",
      "[   50] loss : 0.662451 acc: 0.687500\n",
      "[   50] loss : 0.685441 acc: 0.500000\n",
      "[   50] loss : 0.678507 acc: 0.562500\n",
      "[   50] loss : 0.650728 acc: 0.656250\n",
      "[   50] loss : 0.661838 acc: 0.687500\n",
      "[   50] loss : 0.657686 acc: 0.687500\n",
      "[   50] loss : 0.683977 acc: 0.468750\n",
      "[   50] loss : 0.622969 acc: 0.750000\n",
      "[   50] loss : 0.684902 acc: 0.531250\n",
      "[   50] loss : 0.659541 acc: 0.687500\n",
      "[   50] loss : 0.670779 acc: 0.593750\n",
      "[   50] loss : 0.660633 acc: 0.656250\n",
      "[   50] loss : 0.623743 acc: 0.750000\n",
      "[   50] loss : 0.651214 acc: 0.718750\n",
      "[   50] loss : 0.671761 acc: 0.593750\n",
      "[   50] loss : 0.695252 acc: 0.531250\n",
      "[   50] loss : 0.616239 acc: 0.750000\n",
      "[   50] loss : 0.657199 acc: 0.562500\n"
     ]
    },
    {
     "name": "stderr",
     "output_type": "stream",
     "text": [
      "/usr/local/lib/python3.9/dist-packages/lightning/pytorch/trainer/call.py:53: UserWarning: Detected KeyboardInterrupt, attempting graceful shutdown...\n",
      "  rank_zero_warn(\"Detected KeyboardInterrupt, attempting graceful shutdown...\")\n",
      "LOCAL_RANK: 0 - CUDA_VISIBLE_DEVICES: [0]\n"
     ]
    },
    {
     "name": "stdout",
     "output_type": "stream",
     "text": [
      "Testing model..\n"
     ]
    },
    {
     "name": "stderr",
     "output_type": "stream",
     "text": [
      "/usr/local/lib/python3.9/dist-packages/lightning/pytorch/trainer/connectors/data_connector.py:490: PossibleUserWarning: Your `test_dataloader`'s sampler has shuffling enabled, it is strongly recommended that you turn shuffling off for val/test dataloaders.\n",
      "  rank_zero_warn(\n"
     ]
    },
    {
     "data": {
      "application/vnd.jupyter.widget-view+json": {
       "model_id": "1d4b2654e0f948df866a16550f04d9ab",
       "version_major": 2,
       "version_minor": 0
      },
      "text/plain": [
       "Testing: 0it [00:00, ?it/s]"
      ]
     },
     "metadata": {},
     "output_type": "display_data"
    },
    {
     "name": "stderr",
     "output_type": "stream",
     "text": [
      "/usr/local/lib/python3.9/dist-packages/lightning/pytorch/utilities/data.py:76: UserWarning: Trying to infer the `batch_size` from an ambiguous collection. The batch size we found is 32. To avoid any miscalculations, use `self.log(..., batch_size=batch_size)`.\n",
      "  warning_cache.warn(\n"
     ]
    },
    {
     "name": "stdout",
     "output_type": "stream",
     "text": [
      "[10] loss : 0.683155 acc: 0.531250\n",
      "[20] loss : 0.657615 acc: 0.656250\n",
      "[30] loss : 0.643089 acc: 0.687500\n",
      "[40] loss : 0.633372 acc: 0.781250\n",
      "[50] loss : 0.624742 acc: 0.687500\n",
      "[60] loss : 0.674553 acc: 0.656250\n",
      "[70] loss : 0.642162 acc: 0.687500\n",
      "[80] loss : 0.665960 acc: 0.593750\n",
      "[90] loss : 0.675764 acc: 0.718750\n",
      "[100] loss : 0.607887 acc: 0.812500\n",
      "[110] loss : 0.641238 acc: 0.750000\n",
      "[120] loss : 0.612741 acc: 0.812500\n",
      "[130] loss : 0.670964 acc: 0.531250\n"
     ]
    },
    {
     "name": "stderr",
     "output_type": "stream",
     "text": [
      "/usr/local/lib/python3.9/dist-packages/lightning/pytorch/utilities/data.py:76: UserWarning: Trying to infer the `batch_size` from an ambiguous collection. The batch size we found is 8. To avoid any miscalculations, use `self.log(..., batch_size=batch_size)`.\n",
      "  warning_cache.warn(\n"
     ]
    },
    {
     "data": {
      "text/html": [
       "<pre style=\"white-space:pre;overflow-x:auto;line-height:normal;font-family:Menlo,'DejaVu Sans Mono',consolas,'Courier New',monospace\">┏━━━━━━━━━━━━━━━━━━━━━━━━━━━┳━━━━━━━━━━━━━━━━━━━━━━━━━━━┓\n",
       "┃<span style=\"font-weight: bold\">        Test metric        </span>┃<span style=\"font-weight: bold\">       DataLoader 0        </span>┃\n",
       "┡━━━━━━━━━━━━━━━━━━━━━━━━━━━╇━━━━━━━━━━━━━━━━━━━━━━━━━━━┩\n",
       "│<span style=\"color: #008080; text-decoration-color: #008080\">         test_loss         </span>│<span style=\"color: #800080; text-decoration-color: #800080\">    0.6480082273483276     </span>│\n",
       "└───────────────────────────┴───────────────────────────┘\n",
       "</pre>\n"
      ],
      "text/plain": [
       "┏━━━━━━━━━━━━━━━━━━━━━━━━━━━┳━━━━━━━━━━━━━━━━━━━━━━━━━━━┓\n",
       "┃\u001b[1m \u001b[0m\u001b[1m       Test metric       \u001b[0m\u001b[1m \u001b[0m┃\u001b[1m \u001b[0m\u001b[1m      DataLoader 0       \u001b[0m\u001b[1m \u001b[0m┃\n",
       "┡━━━━━━━━━━━━━━━━━━━━━━━━━━━╇━━━━━━━━━━━━━━━━━━━━━━━━━━━┩\n",
       "│\u001b[36m \u001b[0m\u001b[36m        test_loss        \u001b[0m\u001b[36m \u001b[0m│\u001b[35m \u001b[0m\u001b[35m   0.6480082273483276    \u001b[0m\u001b[35m \u001b[0m│\n",
       "└───────────────────────────┴───────────────────────────┘\n"
      ]
     },
     "metadata": {},
     "output_type": "display_data"
    }
   ],
   "source": [
    "trainer.fit(lightning_model, train_data)\n",
    "print('Testing model..')\n",
    "trainer.test(model = lightning_model, dataloaders=test_data)\n",
    "losses.update({1: lightning_model.test_loss})\n",
    "acc.update({1: lightning_model.test_acc})"
   ]
  },
  {
   "cell_type": "code",
   "execution_count": 14,
   "id": "aa1c30cf-0ab3-4e88-b447-0c493f5bed30",
   "metadata": {
    "tags": []
   },
   "outputs": [],
   "source": [
    "hybrid_w_o_resnet_loss = lightning_model.test_loss\n",
    "hybrid_w_o_resnet_acc = lightning_model.test_acc"
   ]
  },
  {
   "cell_type": "markdown",
   "id": "fa95303e-fa63-4df9-a667-67a25ef4dec1",
   "metadata": {
    "tags": []
   },
   "source": [
    "## Hybrid Model ##"
   ]
  },
  {
   "cell_type": "markdown",
   "id": "ed49dcc2-97fb-4960-a441-fa98d3e5a3e2",
   "metadata": {
    "tags": []
   },
   "source": [
    "### Training Hybrid ###"
   ]
  },
  {
   "cell_type": "markdown",
   "id": "05103acc-0fb0-4113-9ab1-b913cb9ce339",
   "metadata": {
    "tags": []
   },
   "source": [
    "#### w/ Resnet Feature Extraction ####"
   ]
  },
  {
   "cell_type": "code",
   "execution_count": 18,
   "id": "99996d36-671a-4b3e-9a6a-1403abba15db",
   "metadata": {},
   "outputs": [],
   "source": [
    "class HybridDenseNet(nn.Module):\n",
    "    def __init__(self, in_channels, growth_rate, cardinality, bottleneck_width, num_classes=10, resnet = True):\n",
    "        super(HybridDenseNet, self).__init__()        \n",
    "        \n",
    "        \n",
    "        # Define the ResNet-18 feature extractor\n",
    "        resnet18 = models.resnet18(pretrained=True)\n",
    "        # Freeze the ResNet-18 layers so that they are not updated during training\n",
    "        for param in resnet18.parameters():\n",
    "            param.requires_grad = False\n",
    "\n",
    "        #Feature Extractor\n",
    "        self.feature_extraction = nn.Sequential(*list(resnet18.children())[:-2])\n",
    "        \n",
    "        \n",
    "        self.in_channels = in_channels\n",
    "        self.conv = nn.Conv2d(512, self.in_channels, kernel_size=3, stride=1, padding=1)\n",
    "        \n",
    "        self.blocks = nn.ModuleList()\n",
    "        for _ in range(3):  # 3 layers\n",
    "            self.blocks.append(HybridBlock(self.in_channels, growth_rate, cardinality, bottleneck_width))\n",
    "            self.in_channels += growth_rate * cardinality\n",
    "        \n",
    "        \n",
    "        self.bn = nn.BatchNorm2d(self.in_channels)\n",
    "        self.conv1 = nn.Conv2d(self.in_channels, self.in_channels, kernel_size= 4, stride = 1, padding = 1)\n",
    "        self.relu = nn.ReLU(inplace = True)\n",
    "        self.avg_pool = nn.AdaptiveAvgPool2d((1, 1))\n",
    "        \n",
    "        self.fcn = nn.Sequential(\n",
    "            nn.Linear(self.in_channels, 2),\n",
    "        )\n",
    "        \n",
    "    def _make_block(self, growth_rate, cardinality, bottleneck_width):\n",
    "        return HybridBlock(64, growth_rate, cardinality, bottleneck_width)\n",
    "\n",
    "    def forward(self, x):\n",
    "        \n",
    "        features = self.feature_extraction(x)\n",
    "        # print(features.shape)\n",
    "        features = torch.reshape(features, (features.shape[0], 512, 8, 8)) \n",
    "\n",
    "\n",
    "        out = self.conv(features)\n",
    "        # # print(\"After first covolution :\", out.shape)\n",
    "        for block in self.blocks:\n",
    "            out = block(out)\n",
    "            # print(\"After Hybrid block\", out.shape)\n",
    "            # print('-' * 50)\n",
    "        out = self.bn(out)\n",
    "        out = self.relu(out)\n",
    "        # print(out.shape)\n",
    "        out = self.avg_pool(out)\n",
    "        out = out.view(out.size(0), -1)\n",
    "        out = self.fcn(out)\n",
    "            \n",
    "        \n",
    "        return out"
   ]
  },
  {
   "cell_type": "code",
   "execution_count": 19,
   "id": "d3ce2bf5-29c3-4aa0-a8b3-0e451956f485",
   "metadata": {},
   "outputs": [],
   "source": [
    "class HybridDenseNetLightning(pl.LightningModule):\n",
    "    def __init__(self, model, l1_ratio = 0.0, l2_ratio = 0.0):\n",
    "        super().__init__()\n",
    "        self.model = model\n",
    "        self.l1_ratio = l1_ratio\n",
    "        self.l2_ratio = l2_ratio\n",
    "        self.train_loss = []\n",
    "        self.train_acc = []\n",
    "        self.test_loss = []\n",
    "        self.test_acc = []\n",
    "    \n",
    "    def forward(self, x):\n",
    "        return self.model(x)\n",
    "\n",
    "    def training_step(self, batch, batch_idx):\n",
    "        x, y, _ = batch\n",
    "\n",
    "        logits = self(x.float())\n",
    "        \n",
    "        \n",
    "     \n",
    "        predicted_classes = torch.softmax(logits, dim = 1).argmax(dim = 1)\n",
    "        num_correct = (predicted_classes == y).sum()\n",
    "        acc = float(num_correct/len(y))\n",
    "        \n",
    "        y = F.one_hot(y, num_classes = 2)\n",
    "        loss = F.cross_entropy(logits.float(), y.float())\n",
    "        \n",
    "        ##Adding Regulartors\n",
    "        #L1 regularization\n",
    "        loss = loss + self.l1_ratio * sum([p.abs().sum() for p in self.model.parameters()])\n",
    "\n",
    "        #L2 regularization\n",
    "        loss = loss + self.l2_ratio * sum([(p**2).sum() for p in self.model.parameters()])\n",
    "        \n",
    "        if batch_idx % 10 == 9:\n",
    "            self.train_loss.append(loss.item())\n",
    "            self.train_acc.append(acc)\n",
    "\n",
    "        if batch_idx % 50 == 49:\n",
    "                print('[%5d] loss : %.6f acc: %.6f' %(batch_idx + 1, loss.item(), acc))\n",
    "        self.log('train_loss', loss)\n",
    "        return loss\n",
    "    \n",
    "    def test_step(self, batch, batch_idx):\n",
    "        x, y, _ = batch\n",
    "        logits = self(x.float())\n",
    "        \n",
    "        \n",
    "        predicted_classes = torch.softmax(logits, dim = 1).argmax(dim = 1)\n",
    "        num_correct = (predicted_classes == y).sum()\n",
    "        acc = float(num_correct/len(y))\n",
    "        \n",
    "        y = F.one_hot(y, num_classes = 2)\n",
    "        loss = F.cross_entropy(logits.float(), y.float())\n",
    "        \n",
    "        self.test_loss.append(loss.item())\n",
    "        self.test_acc.append(acc)\n",
    "\n",
    "        if batch_idx % 10 == 9:\n",
    "                print('[%d] loss : %.6f acc: %.6f' %(batch_idx + 1, loss.item(), acc))\n",
    "        self.log('test_loss', loss)\n",
    "        \n",
    "        return loss\n",
    "\n",
    "    def configure_optimizers(self):\n",
    "        optimizer = torch.optim.Adam(self.parameters(), lr=1e-5)\n",
    "        return optimizer"
   ]
  },
  {
   "cell_type": "code",
   "execution_count": 20,
   "id": "94de02df-20b1-496d-a5bb-a9568be2fe18",
   "metadata": {},
   "outputs": [
    {
     "name": "stderr",
     "output_type": "stream",
     "text": [
      "/usr/local/lib/python3.9/dist-packages/torchvision/models/_utils.py:208: UserWarning: The parameter 'pretrained' is deprecated since 0.13 and will be removed in 0.15, please use 'weights' instead.\n",
      "  warnings.warn(\n",
      "/usr/local/lib/python3.9/dist-packages/torchvision/models/_utils.py:223: UserWarning: Arguments other than a weight enum or `None` for 'weights' are deprecated since 0.13 and will be removed in 0.15. The current behavior is equivalent to passing `weights=ResNet18_Weights.IMAGENET1K_V1`. You can also use `weights=ResNet18_Weights.DEFAULT` to get the most up-to-date weights.\n",
      "  warnings.warn(msg)\n"
     ]
    }
   ],
   "source": [
    "growth_rate = 4\n",
    "cardinality = 16\n",
    "bottleneck_width = 64\n",
    "num_classes = 2\n",
    "net = HybridDenseNet(growth_rate, cardinality, bottleneck_width, num_classes)"
   ]
  },
  {
   "cell_type": "code",
   "execution_count": 21,
   "id": "9846991f-7f3e-4d41-94f7-3ad58472b701",
   "metadata": {},
   "outputs": [],
   "source": [
    "clf = HybridDenseNetLightning(model = net, l1_ratio = 0.0, l2_ratio = 0.0)"
   ]
  },
  {
   "cell_type": "code",
   "execution_count": 22,
   "id": "b12db3ba-495d-4bec-a7f8-5265f80ea8b4",
   "metadata": {
    "scrolled": true,
    "tags": []
   },
   "outputs": [
    {
     "name": "stderr",
     "output_type": "stream",
     "text": [
      "GPU available: True (cuda), used: True\n",
      "TPU available: False, using: 0 TPU cores\n",
      "IPU available: False, using: 0 IPUs\n",
      "HPU available: False, using: 0 HPUs\n",
      "LOCAL_RANK: 0 - CUDA_VISIBLE_DEVICES: [0]\n",
      "\n",
      "  | Name  | Type           | Params\n",
      "-----------------------------------------\n",
      "0 | model | HybridDenseNet | 203 M \n",
      "-----------------------------------------\n",
      "192 M     Trainable params\n",
      "11.2 M    Non-trainable params\n",
      "203 M     Total params\n",
      "815.374   Total estimated model params size (MB)\n"
     ]
    },
    {
     "data": {
      "application/vnd.jupyter.widget-view+json": {
       "model_id": "c50f77b29575406a83a2ad5df56a7ed1",
       "version_major": 2,
       "version_minor": 0
      },
      "text/plain": [
       "Training: 0it [00:00, ?it/s]"
      ]
     },
     "metadata": {},
     "output_type": "display_data"
    },
    {
     "name": "stdout",
     "output_type": "stream",
     "text": [
      "[   50] loss : 0.412946 acc: 0.875000\n",
      "[   50] loss : 0.178355 acc: 0.968750\n",
      "[   50] loss : 0.270863 acc: 0.906250\n",
      "[   50] loss : 0.394997 acc: 0.812500\n",
      "[   50] loss : 0.184178 acc: 0.968750\n",
      "[   50] loss : 0.146676 acc: 0.968750\n",
      "[   50] loss : 0.167400 acc: 0.968750\n",
      "[   50] loss : 0.355189 acc: 0.875000\n",
      "[   50] loss : 0.145226 acc: 0.906250\n",
      "[   50] loss : 0.168560 acc: 0.937500\n",
      "[   50] loss : 0.076480 acc: 0.968750\n",
      "[   50] loss : 0.212355 acc: 0.937500\n",
      "[   50] loss : 0.086050 acc: 0.937500\n",
      "[   50] loss : 0.112187 acc: 0.937500\n",
      "[   50] loss : 0.066626 acc: 0.968750\n",
      "[   50] loss : 0.042351 acc: 1.000000\n",
      "[   50] loss : 0.048029 acc: 1.000000\n",
      "[   50] loss : 0.135485 acc: 0.937500\n",
      "[   50] loss : 0.090929 acc: 0.968750\n",
      "[   50] loss : 0.088552 acc: 0.937500\n",
      "[   50] loss : 0.036867 acc: 1.000000\n",
      "[   50] loss : 0.026082 acc: 1.000000\n",
      "[   50] loss : 0.057506 acc: 0.968750\n",
      "[   50] loss : 0.116589 acc: 0.937500\n",
      "[   50] loss : 0.130321 acc: 0.937500\n",
      "[   50] loss : 0.254811 acc: 0.906250\n",
      "[   50] loss : 0.039352 acc: 1.000000\n",
      "[   50] loss : 0.072893 acc: 0.968750\n",
      "[   50] loss : 0.004601 acc: 1.000000\n",
      "[   50] loss : 0.011032 acc: 1.000000\n",
      "[   50] loss : 0.015306 acc: 1.000000\n",
      "[   50] loss : 0.094651 acc: 1.000000\n",
      "[   50] loss : 0.017885 acc: 1.000000\n",
      "[   50] loss : 0.158310 acc: 0.937500\n",
      "[   50] loss : 0.004030 acc: 1.000000\n",
      "[   50] loss : 0.058677 acc: 0.937500\n",
      "[   50] loss : 0.090674 acc: 0.968750\n",
      "[   50] loss : 0.016674 acc: 1.000000\n",
      "[   50] loss : 0.007856 acc: 1.000000\n",
      "[   50] loss : 0.085845 acc: 0.968750\n",
      "[   50] loss : 0.108154 acc: 0.968750\n",
      "[   50] loss : 0.009197 acc: 1.000000\n",
      "[   50] loss : 0.006815 acc: 1.000000\n",
      "[   50] loss : 0.004980 acc: 1.000000\n",
      "[   50] loss : 0.034555 acc: 0.968750\n",
      "[   50] loss : 0.008591 acc: 1.000000\n",
      "[   50] loss : 0.007866 acc: 1.000000\n",
      "[   50] loss : 0.005694 acc: 1.000000\n",
      "[   50] loss : 0.019580 acc: 1.000000\n",
      "[   50] loss : 0.019814 acc: 1.000000\n"
     ]
    },
    {
     "name": "stderr",
     "output_type": "stream",
     "text": [
      "`Trainer.fit` stopped: `max_epochs=50` reached.\n"
     ]
    }
   ],
   "source": [
    "trainer = pl.Trainer(max_epochs=50)\n",
    "trainer.fit(model=clf, train_dataloaders=train_data)"
   ]
  },
  {
   "cell_type": "code",
   "execution_count": 23,
   "id": "5979d686-9919-43d2-ac3d-df14407bb077",
   "metadata": {
    "scrolled": true,
    "tags": []
   },
   "outputs": [
    {
     "name": "stdout",
     "output_type": "stream",
     "text": [
      "Testing model..\n"
     ]
    },
    {
     "name": "stderr",
     "output_type": "stream",
     "text": [
      "LOCAL_RANK: 0 - CUDA_VISIBLE_DEVICES: [0]\n"
     ]
    },
    {
     "data": {
      "application/vnd.jupyter.widget-view+json": {
       "model_id": "ea92fd133d4e4878b4af8ecc464c2e63",
       "version_major": 2,
       "version_minor": 0
      },
      "text/plain": [
       "Testing: 0it [00:00, ?it/s]"
      ]
     },
     "metadata": {},
     "output_type": "display_data"
    },
    {
     "name": "stdout",
     "output_type": "stream",
     "text": [
      "[10] loss : 0.196034 acc: 0.968750\n",
      "[20] loss : 0.031776 acc: 0.968750\n",
      "[30] loss : 0.607236 acc: 0.843750\n",
      "[40] loss : 0.511973 acc: 0.843750\n",
      "[50] loss : 0.207564 acc: 0.937500\n",
      "[60] loss : 0.086950 acc: 0.968750\n",
      "[70] loss : 0.005221 acc: 1.000000\n",
      "[80] loss : 0.112072 acc: 0.968750\n",
      "[90] loss : 0.238312 acc: 0.906250\n",
      "[100] loss : 0.271090 acc: 0.906250\n",
      "[110] loss : 0.622309 acc: 0.875000\n",
      "[120] loss : 0.593322 acc: 0.843750\n",
      "[130] loss : 0.060436 acc: 0.968750\n"
     ]
    },
    {
     "data": {
      "text/html": [
       "<pre style=\"white-space:pre;overflow-x:auto;line-height:normal;font-family:Menlo,'DejaVu Sans Mono',consolas,'Courier New',monospace\">┏━━━━━━━━━━━━━━━━━━━━━━━━━━━┳━━━━━━━━━━━━━━━━━━━━━━━━━━━┓\n",
       "┃<span style=\"font-weight: bold\">        Test metric        </span>┃<span style=\"font-weight: bold\">       DataLoader 0        </span>┃\n",
       "┡━━━━━━━━━━━━━━━━━━━━━━━━━━━╇━━━━━━━━━━━━━━━━━━━━━━━━━━━┩\n",
       "│<span style=\"color: #008080; text-decoration-color: #008080\">         test_loss         </span>│<span style=\"color: #800080; text-decoration-color: #800080\">     0.280439168214798     </span>│\n",
       "└───────────────────────────┴───────────────────────────┘\n",
       "</pre>\n"
      ],
      "text/plain": [
       "┏━━━━━━━━━━━━━━━━━━━━━━━━━━━┳━━━━━━━━━━━━━━━━━━━━━━━━━━━┓\n",
       "┃\u001b[1m \u001b[0m\u001b[1m       Test metric       \u001b[0m\u001b[1m \u001b[0m┃\u001b[1m \u001b[0m\u001b[1m      DataLoader 0       \u001b[0m\u001b[1m \u001b[0m┃\n",
       "┡━━━━━━━━━━━━━━━━━━━━━━━━━━━╇━━━━━━━━━━━━━━━━━━━━━━━━━━━┩\n",
       "│\u001b[36m \u001b[0m\u001b[36m        test_loss        \u001b[0m\u001b[36m \u001b[0m│\u001b[35m \u001b[0m\u001b[35m    0.280439168214798    \u001b[0m\u001b[35m \u001b[0m│\n",
       "└───────────────────────────┴───────────────────────────┘\n"
      ]
     },
     "metadata": {},
     "output_type": "display_data"
    },
    {
     "data": {
      "text/plain": [
       "[{'test_loss': 0.280439168214798}]"
      ]
     },
     "execution_count": 23,
     "metadata": {},
     "output_type": "execute_result"
    }
   ],
   "source": [
    "print('Testing model..')\n",
    "trainer.test(model = clf, dataloaders=test_data)"
   ]
  },
  {
   "cell_type": "code",
   "execution_count": 24,
   "id": "6a376760-b356-462b-bf06-f1d7226725ce",
   "metadata": {},
   "outputs": [],
   "source": [
    "hybrid_w_resnet_loss = clf.test_loss\n",
    "hybrid_w_resnet_acc = clf.test_acc"
   ]
  },
  {
   "cell_type": "markdown",
   "id": "912e8207-f4ff-4a91-bae7-8f011f584841",
   "metadata": {
    "tags": []
   },
   "source": [
    "## Cleaned up Code ##"
   ]
  },
  {
   "cell_type": "code",
   "execution_count": 25,
   "id": "33fd7336-2903-4ef2-bbc6-8a83051b562e",
   "metadata": {},
   "outputs": [],
   "source": [
    "device = torch.device('cuda') if torch.cuda.is_available else torch.device('cpu')"
   ]
  },
  {
   "cell_type": "code",
   "execution_count": 26,
   "id": "50c57fc9-b3e5-4b9e-a717-f2a3efedeefb",
   "metadata": {},
   "outputs": [],
   "source": [
    "class Classifier(pl.LightningModule, nn.Module):\n",
    "    def __init__(self, model = 'Efficient', l1_weight = 0.0, l2_weight = 0.0):\n",
    "        super(Classifier, self).__init__()\n",
    "        \n",
    "        self.l1_weight = l1_weight\n",
    "        self.l2_weight = l2_weight\n",
    "        self.t_loss = []\n",
    "        self.t_acc = []\n",
    "        self.model_type = model\n",
    "        \n",
    "        if self.model_type == 'Efficient':\n",
    "            pre_trained_model = models.efficientnet_b0(weights = True)\n",
    "        \n",
    "            self.model = nn.Sequential(\n",
    "                *list(pre_trained_model.children())[0],\n",
    "                nn.Flatten(start_dim=1),\n",
    "                nn.Linear(81920, 512),\n",
    "                nn.ReLU(inplace = True),\n",
    "                nn.Linear(512, 1),\n",
    "                nn.Sigmoid(),\n",
    "            )\n",
    "            \n",
    "        elif self.model_type == 'Dense':\n",
    "            pre_trained_model = models.densenet121(weights = True)\n",
    "        \n",
    "            self.model = nn.Sequential(\n",
    "                *list(pre_trained_model.children())[0],\n",
    "                nn.Flatten(start_dim=1),\n",
    "                nn.Linear(65536, 512),\n",
    "                nn.ReLU(inplace = True),\n",
    "                nn.Linear(512, 1),\n",
    "                nn.Sigmoid(),\n",
    "            )\n",
    "            \n",
    "        \n",
    "        elif self.model_type == 'ResNet':\n",
    "            pre_trained_model = models.resnet18(weights = True)\n",
    "            # print(*list(pre_trained_model.children())[:-2])\n",
    "\n",
    "            self.model = nn.Sequential(\n",
    "                *list(pre_trained_model.children())[:-2],\n",
    "                nn.Flatten(start_dim=1),\n",
    "                nn.Linear(32768, 512),\n",
    "                nn.ReLU(inplace = True),\n",
    "                nn.Linear(512, 1),\n",
    "                nn.Sigmoid(),\n",
    "            )\n",
    "        \n",
    "        elif self.model_type == 'ResNext':\n",
    "            pre_trained_model = models.resnext50_32x4d(weights = True)\n",
    "            # print(*list(pre_trained_model.children())[:-1])\n",
    "\n",
    "            self.model = nn.Sequential(\n",
    "                *list(pre_trained_model.children())[:-1],\n",
    "                nn.Flatten(start_dim=1),\n",
    "                nn.Linear(2048, 512),\n",
    "                nn.ReLU(inplace = True),\n",
    "                nn.Linear(512, 1),\n",
    "                nn.Sigmoid(),\n",
    "            )\n",
    "        \n",
    "        elif self.model_type == 'Wide ResNet':\n",
    "            pre_trained_model = models.wide_resnet50_2(weights = True)\n",
    "            # print(*list(pre_trained_model.children())[:-1])\n",
    "\n",
    "            self.model = nn.Sequential(\n",
    "                *list(pre_trained_model.children())[:-1],\n",
    "                nn.Flatten(start_dim=1),\n",
    "                nn.Linear(2048, 512),\n",
    "                nn.ReLU(inplace = True),\n",
    "                nn.Linear(512, 1),\n",
    "                nn.Sigmoid(),\n",
    "            )\n",
    "            \n",
    "        elif self.model_type == 'VGG':\n",
    "            pretrained_model = models.vgg11_bn(weights = True)\n",
    "            # print(*list(pretrained_model.children())[:-1])\n",
    "            \n",
    "            self.model = nn.Sequential(\n",
    "                *list(pretrained_model.children())[:-1],\n",
    "                nn.Flatten(start_dim=1),\n",
    "                nn.Linear(25088, 512),\n",
    "                nn.ReLU(inplace = True),\n",
    "                nn.Linear(512, 1),\n",
    "                nn.Sigmoid(),\n",
    "            )\n",
    "    \n",
    "    def training_step(self, batch, batch_idx):\n",
    "        # print(batch)\n",
    "        x, y, _ = batch\n",
    "        y_hat = self.model(x.float().to(device))\n",
    "        \n",
    "        y_hat = torch.flatten(y_hat)\n",
    "        # print(y_hat.shape, y)\n",
    "        \n",
    "        loss = F.binary_cross_entropy(y_hat.float(), y.float())\n",
    "        \n",
    "        ##Adding Regulartors\n",
    "        #L1 regularization\n",
    "        loss = loss + self.l1_weight * sum([p.abs().sum() for p in self.parameters()])\n",
    "\n",
    "        #L2 regularization\n",
    "        loss = loss + self.l2_weight * sum([(p**2).sum() for p in self.parameters()])\n",
    "        \n",
    "        \n",
    "        if batch_idx % 50 == 49:\n",
    "            acc = (y_hat.round().to(device) == y.to(device)).float().mean()\n",
    "            print('loss : %.6f, accuracy: %.4f' %(loss, acc))\n",
    "        self.log(\"train_loss\", loss)\n",
    "        return loss\n",
    "    \n",
    "    def test_step(self, batch, batch_idx):\n",
    "        x, y, _ = batch\n",
    "        y_hat = self.model(x.float().to(device))\n",
    "        \n",
    "        y_hat = torch.flatten(y_hat)\n",
    "        # print(y_hat.shape, y)\n",
    "        \n",
    "        loss = F.binary_cross_entropy(y_hat.float(), y.float())\n",
    "        \n",
    "        self.t_loss.append(loss.item())\n",
    "        \n",
    "        if batch_idx % 10 == 9:\n",
    "            acc = (y_hat.round().to(device) == y.to(device)).float().mean()\n",
    "            self.t_acc.append(float(torch.Tensor.cpu(acc) * 100.00))\n",
    "            print('loss : %.6f, accuracy: %.4f' %(loss, acc))\n",
    "        self.log(\"train_loss\", loss)\n",
    "        return loss\n",
    "    \n",
    "    def configure_optimizers(self):\n",
    "        \n",
    "        if self.model_type == 'Efficient':\n",
    "            optimizer = torch.optim.Adam(self.parameters(), lr=1e-3, weight_decay= 1e-2)\n",
    "            \n",
    "        elif self.model_type == 'Dense':\n",
    "            optimizer = torch.optim.Adam(self.parameters(), lr=1e-3, weight_decay = 1e-6)\n",
    "        \n",
    "        elif self.model_type == 'ResNet':\n",
    "            optimizer = torch.optim.Adam(self.parameters(), lr=1e-4, weight_decay = 1e-3)\n",
    "        \n",
    "        elif self.model_type == 'ResNext':\n",
    "            optimizer = torch.optim.Adam(self.parameters(), lr=1e-6, weight_decay = 1e-5)\n",
    "        \n",
    "        elif self.model_type == 'Wide ResNet':\n",
    "            optimizer = torch.optim.Adam(self.parameters(), lr=1e-5, weight_decay = 1e-3)\n",
    "            \n",
    "        elif self.model_type == 'VGG':\n",
    "            optimizer = torch.optim.Adam(self.parameters(), lr=1e-5)\n",
    "        \n",
    "        return optimizer"
   ]
  },
  {
   "cell_type": "markdown",
   "id": "e5281249-f86a-4510-b21d-3a11c69c43e7",
   "metadata": {
    "tags": []
   },
   "source": [
    "### Efficient Net ###"
   ]
  },
  {
   "cell_type": "code",
   "execution_count": 27,
   "id": "cb8c708a-5bc5-4161-870c-5d87f03d75ca",
   "metadata": {},
   "outputs": [
    {
     "name": "stderr",
     "output_type": "stream",
     "text": [
      "/usr/local/lib/python3.9/dist-packages/torchvision/models/_utils.py:223: UserWarning: Arguments other than a weight enum or `None` for 'weights' are deprecated since 0.13 and will be removed in 0.15. The current behavior is equivalent to passing `weights=EfficientNet_B0_Weights.IMAGENET1K_V1`. You can also use `weights=EfficientNet_B0_Weights.DEFAULT` to get the most up-to-date weights.\n",
      "  warnings.warn(msg)\n"
     ]
    }
   ],
   "source": [
    "clf = Classifier(model = 'Efficient', l1_weight = 0.0, l2_weight = 0.0)"
   ]
  },
  {
   "cell_type": "code",
   "execution_count": 28,
   "id": "9593243d-9719-4cc4-acfa-6f033d4d7f3d",
   "metadata": {
    "scrolled": true,
    "tags": []
   },
   "outputs": [
    {
     "name": "stderr",
     "output_type": "stream",
     "text": [
      "GPU available: True (cuda), used: True\n",
      "TPU available: False, using: 0 TPU cores\n",
      "IPU available: False, using: 0 IPUs\n",
      "HPU available: False, using: 0 HPUs\n",
      "LOCAL_RANK: 0 - CUDA_VISIBLE_DEVICES: [0]\n",
      "\n",
      "  | Name  | Type       | Params\n",
      "-------------------------------------\n",
      "0 | model | Sequential | 46.0 M\n",
      "-------------------------------------\n",
      "46.0 M    Trainable params\n",
      "0         Non-trainable params\n",
      "46.0 M    Total params\n",
      "183.806   Total estimated model params size (MB)\n"
     ]
    },
    {
     "data": {
      "application/vnd.jupyter.widget-view+json": {
       "model_id": "950662832ba6453fbc8519fed9edff8a",
       "version_major": 2,
       "version_minor": 0
      },
      "text/plain": [
       "Training: 0it [00:00, ?it/s]"
      ]
     },
     "metadata": {},
     "output_type": "display_data"
    },
    {
     "name": "stdout",
     "output_type": "stream",
     "text": [
      "loss : 0.280149, accuracy: 0.9062\n",
      "loss : 0.208660, accuracy: 0.9062\n",
      "loss : 0.715177, accuracy: 0.9375\n",
      "loss : 0.252723, accuracy: 0.9688\n",
      "loss : 0.284188, accuracy: 0.9688\n",
      "loss : 0.148302, accuracy: 0.9375\n",
      "loss : 0.075711, accuracy: 0.9688\n",
      "loss : 0.498796, accuracy: 0.9062\n",
      "loss : 0.243242, accuracy: 0.9375\n",
      "loss : 0.072409, accuracy: 0.9688\n",
      "loss : 0.073951, accuracy: 0.9688\n",
      "loss : 0.159490, accuracy: 0.8750\n",
      "loss : 0.151777, accuracy: 0.8750\n",
      "loss : 0.082448, accuracy: 0.9688\n",
      "loss : 0.076237, accuracy: 0.9375\n",
      "loss : 0.137825, accuracy: 0.9688\n",
      "loss : 0.046541, accuracy: 0.9688\n",
      "loss : 0.156538, accuracy: 0.9688\n",
      "loss : 0.346122, accuracy: 0.9062\n",
      "loss : 0.067768, accuracy: 0.9688\n",
      "loss : 0.102874, accuracy: 0.9688\n",
      "loss : 0.006239, accuracy: 1.0000\n",
      "loss : 0.004062, accuracy: 1.0000\n",
      "loss : 0.075656, accuracy: 0.9688\n",
      "loss : 0.009111, accuracy: 1.0000\n"
     ]
    },
    {
     "name": "stderr",
     "output_type": "stream",
     "text": [
      "`Trainer.fit` stopped: `max_epochs=25` reached.\n"
     ]
    }
   ],
   "source": [
    "trainer = pl.Trainer(max_epochs=50)\n",
    "trainer.fit(model=clf, train_dataloaders=train_data)"
   ]
  },
  {
   "cell_type": "code",
   "execution_count": 29,
   "id": "2d6bbf8c-47e8-49c3-bec8-a6c3bd53527d",
   "metadata": {
    "scrolled": true,
    "tags": []
   },
   "outputs": [
    {
     "name": "stderr",
     "output_type": "stream",
     "text": [
      "LOCAL_RANK: 0 - CUDA_VISIBLE_DEVICES: [0]\n"
     ]
    },
    {
     "name": "stdout",
     "output_type": "stream",
     "text": [
      "Testing model..\n"
     ]
    },
    {
     "data": {
      "application/vnd.jupyter.widget-view+json": {
       "model_id": "620d9d47f2404a458e329ee804c9f284",
       "version_major": 2,
       "version_minor": 0
      },
      "text/plain": [
       "Testing: 0it [00:00, ?it/s]"
      ]
     },
     "metadata": {},
     "output_type": "display_data"
    },
    {
     "name": "stdout",
     "output_type": "stream",
     "text": [
      "loss : 0.307590, accuracy: 0.8125\n",
      "loss : 0.357248, accuracy: 0.8125\n",
      "loss : 0.312692, accuracy: 0.8125\n",
      "loss : 0.467199, accuracy: 0.6875\n",
      "loss : 0.495006, accuracy: 0.6875\n",
      "loss : 0.303371, accuracy: 0.8438\n",
      "loss : 0.209150, accuracy: 0.9375\n",
      "loss : 0.272106, accuracy: 0.8750\n",
      "loss : 0.425158, accuracy: 0.7188\n",
      "loss : 0.363490, accuracy: 0.8438\n",
      "loss : 0.344906, accuracy: 0.8125\n",
      "loss : 0.322572, accuracy: 0.8125\n",
      "loss : 0.304961, accuracy: 0.8438\n"
     ]
    },
    {
     "data": {
      "text/html": [
       "<pre style=\"white-space:pre;overflow-x:auto;line-height:normal;font-family:Menlo,'DejaVu Sans Mono',consolas,'Courier New',monospace\">┏━━━━━━━━━━━━━━━━━━━━━━━━━━━┳━━━━━━━━━━━━━━━━━━━━━━━━━━━┓\n",
       "┃<span style=\"font-weight: bold\">        Test metric        </span>┃<span style=\"font-weight: bold\">       DataLoader 0        </span>┃\n",
       "┡━━━━━━━━━━━━━━━━━━━━━━━━━━━╇━━━━━━━━━━━━━━━━━━━━━━━━━━━┩\n",
       "│<span style=\"color: #008080; text-decoration-color: #008080\">        train_loss         </span>│<span style=\"color: #800080; text-decoration-color: #800080\">    0.30419349670410156    </span>│\n",
       "└───────────────────────────┴───────────────────────────┘\n",
       "</pre>\n"
      ],
      "text/plain": [
       "┏━━━━━━━━━━━━━━━━━━━━━━━━━━━┳━━━━━━━━━━━━━━━━━━━━━━━━━━━┓\n",
       "┃\u001b[1m \u001b[0m\u001b[1m       Test metric       \u001b[0m\u001b[1m \u001b[0m┃\u001b[1m \u001b[0m\u001b[1m      DataLoader 0       \u001b[0m\u001b[1m \u001b[0m┃\n",
       "┡━━━━━━━━━━━━━━━━━━━━━━━━━━━╇━━━━━━━━━━━━━━━━━━━━━━━━━━━┩\n",
       "│\u001b[36m \u001b[0m\u001b[36m       train_loss        \u001b[0m\u001b[36m \u001b[0m│\u001b[35m \u001b[0m\u001b[35m   0.30419349670410156   \u001b[0m\u001b[35m \u001b[0m│\n",
       "└───────────────────────────┴───────────────────────────┘\n"
      ]
     },
     "metadata": {},
     "output_type": "display_data"
    },
    {
     "data": {
      "text/plain": [
       "[{'train_loss': 0.30419349670410156}]"
      ]
     },
     "execution_count": 29,
     "metadata": {},
     "output_type": "execute_result"
    }
   ],
   "source": [
    "print('Testing model..')\n",
    "trainer.test(model = clf, dataloaders=test_data)"
   ]
  },
  {
   "cell_type": "code",
   "execution_count": 30,
   "id": "7433acda-da05-4c19-9ae5-5988948d8778",
   "metadata": {},
   "outputs": [],
   "source": [
    "efficient_net_loss = clf.t_loss\n",
    "efficient_net_acc = clf.t_acc"
   ]
  },
  {
   "cell_type": "markdown",
   "id": "c07b2688-74c6-474d-80df-a970ab7b2818",
   "metadata": {
    "tags": []
   },
   "source": [
    "### DenseNet ###"
   ]
  },
  {
   "cell_type": "code",
   "execution_count": 31,
   "id": "364c0dbf-9954-4bfb-af50-72c815fad8a3",
   "metadata": {},
   "outputs": [
    {
     "name": "stderr",
     "output_type": "stream",
     "text": [
      "/usr/local/lib/python3.9/dist-packages/torchvision/models/_utils.py:223: UserWarning: Arguments other than a weight enum or `None` for 'weights' are deprecated since 0.13 and will be removed in 0.15. The current behavior is equivalent to passing `weights=DenseNet121_Weights.IMAGENET1K_V1`. You can also use `weights=DenseNet121_Weights.DEFAULT` to get the most up-to-date weights.\n",
      "  warnings.warn(msg)\n"
     ]
    }
   ],
   "source": [
    "clf = Classifier(model = 'Dense', l1_weight = 0.0, l2_weight = 0.0)"
   ]
  },
  {
   "cell_type": "code",
   "execution_count": 32,
   "id": "b01625aa-34d4-435f-bba8-312c54968ed9",
   "metadata": {
    "scrolled": true,
    "tags": []
   },
   "outputs": [
    {
     "name": "stderr",
     "output_type": "stream",
     "text": [
      "GPU available: True (cuda), used: True\n",
      "TPU available: False, using: 0 TPU cores\n",
      "IPU available: False, using: 0 IPUs\n",
      "HPU available: False, using: 0 HPUs\n",
      "LOCAL_RANK: 0 - CUDA_VISIBLE_DEVICES: [0]\n",
      "\n",
      "  | Name  | Type       | Params\n",
      "-------------------------------------\n",
      "0 | model | Sequential | 40.5 M\n",
      "-------------------------------------\n",
      "40.5 M    Trainable params\n",
      "0         Non-trainable params\n",
      "40.5 M    Total params\n",
      "162.037   Total estimated model params size (MB)\n"
     ]
    },
    {
     "data": {
      "application/vnd.jupyter.widget-view+json": {
       "model_id": "362d272b214841cc9629f29ad28a1c03",
       "version_major": 2,
       "version_minor": 0
      },
      "text/plain": [
       "Training: 0it [00:00, ?it/s]"
      ]
     },
     "metadata": {},
     "output_type": "display_data"
    },
    {
     "name": "stdout",
     "output_type": "stream",
     "text": [
      "loss : 0.390295, accuracy: 0.9375\n",
      "loss : 0.284788, accuracy: 0.8750\n",
      "loss : 0.354105, accuracy: 0.9375\n",
      "loss : 0.071667, accuracy: 1.0000\n",
      "loss : 0.176190, accuracy: 0.9375\n",
      "loss : 0.046900, accuracy: 1.0000\n",
      "loss : 0.106655, accuracy: 0.9688\n",
      "loss : 0.273222, accuracy: 0.8125\n",
      "loss : 0.007350, accuracy: 1.0000\n",
      "loss : 0.089315, accuracy: 0.9375\n",
      "loss : 0.101433, accuracy: 0.9062\n",
      "loss : 0.038865, accuracy: 0.9688\n",
      "loss : 0.045837, accuracy: 0.9688\n",
      "loss : 0.030342, accuracy: 1.0000\n",
      "loss : 0.284233, accuracy: 0.9062\n",
      "loss : 0.024706, accuracy: 1.0000\n",
      "loss : 0.032995, accuracy: 0.9688\n",
      "loss : 0.150854, accuracy: 0.9688\n",
      "loss : 0.103813, accuracy: 0.9688\n",
      "loss : 0.039887, accuracy: 0.9688\n",
      "loss : 0.009994, accuracy: 1.0000\n",
      "loss : 0.003442, accuracy: 1.0000\n",
      "loss : 0.067466, accuracy: 0.9688\n",
      "loss : 0.006210, accuracy: 1.0000\n",
      "loss : 0.000142, accuracy: 1.0000\n"
     ]
    },
    {
     "name": "stderr",
     "output_type": "stream",
     "text": [
      "`Trainer.fit` stopped: `max_epochs=25` reached.\n"
     ]
    }
   ],
   "source": [
    "trainer = pl.Trainer(max_epochs=50)\n",
    "trainer.fit(model=clf, train_dataloaders=train_data)"
   ]
  },
  {
   "cell_type": "code",
   "execution_count": 33,
   "id": "74603ce0-7bfe-4a19-8d29-7e3dda2f5465",
   "metadata": {
    "scrolled": true,
    "tags": []
   },
   "outputs": [
    {
     "name": "stderr",
     "output_type": "stream",
     "text": [
      "LOCAL_RANK: 0 - CUDA_VISIBLE_DEVICES: [0]\n"
     ]
    },
    {
     "name": "stdout",
     "output_type": "stream",
     "text": [
      "Testing model..\n"
     ]
    },
    {
     "data": {
      "application/vnd.jupyter.widget-view+json": {
       "model_id": "086f4ddd3a1b40a8bd2f5c641318c3ac",
       "version_major": 2,
       "version_minor": 0
      },
      "text/plain": [
       "Testing: 0it [00:00, ?it/s]"
      ]
     },
     "metadata": {},
     "output_type": "display_data"
    },
    {
     "name": "stdout",
     "output_type": "stream",
     "text": [
      "loss : 0.131007, accuracy: 0.9688\n",
      "loss : 0.003674, accuracy: 1.0000\n",
      "loss : 0.705598, accuracy: 0.9062\n",
      "loss : 0.165349, accuracy: 0.9375\n",
      "loss : 0.190018, accuracy: 0.9688\n",
      "loss : 0.008851, accuracy: 1.0000\n",
      "loss : 0.321227, accuracy: 0.9688\n",
      "loss : 0.003118, accuracy: 1.0000\n",
      "loss : 0.062170, accuracy: 0.9688\n",
      "loss : 0.279973, accuracy: 0.9375\n",
      "loss : 0.070312, accuracy: 0.9688\n",
      "loss : 0.160271, accuracy: 0.9688\n",
      "loss : 0.114162, accuracy: 0.9375\n"
     ]
    },
    {
     "data": {
      "text/html": [
       "<pre style=\"white-space:pre;overflow-x:auto;line-height:normal;font-family:Menlo,'DejaVu Sans Mono',consolas,'Courier New',monospace\">┏━━━━━━━━━━━━━━━━━━━━━━━━━━━┳━━━━━━━━━━━━━━━━━━━━━━━━━━━┓\n",
       "┃<span style=\"font-weight: bold\">        Test metric        </span>┃<span style=\"font-weight: bold\">       DataLoader 0        </span>┃\n",
       "┡━━━━━━━━━━━━━━━━━━━━━━━━━━━╇━━━━━━━━━━━━━━━━━━━━━━━━━━━┩\n",
       "│<span style=\"color: #008080; text-decoration-color: #008080\">        train_loss         </span>│<span style=\"color: #800080; text-decoration-color: #800080\">    0.15753985941410065    </span>│\n",
       "└───────────────────────────┴───────────────────────────┘\n",
       "</pre>\n"
      ],
      "text/plain": [
       "┏━━━━━━━━━━━━━━━━━━━━━━━━━━━┳━━━━━━━━━━━━━━━━━━━━━━━━━━━┓\n",
       "┃\u001b[1m \u001b[0m\u001b[1m       Test metric       \u001b[0m\u001b[1m \u001b[0m┃\u001b[1m \u001b[0m\u001b[1m      DataLoader 0       \u001b[0m\u001b[1m \u001b[0m┃\n",
       "┡━━━━━━━━━━━━━━━━━━━━━━━━━━━╇━━━━━━━━━━━━━━━━━━━━━━━━━━━┩\n",
       "│\u001b[36m \u001b[0m\u001b[36m       train_loss        \u001b[0m\u001b[36m \u001b[0m│\u001b[35m \u001b[0m\u001b[35m   0.15753985941410065   \u001b[0m\u001b[35m \u001b[0m│\n",
       "└───────────────────────────┴───────────────────────────┘\n"
      ]
     },
     "metadata": {},
     "output_type": "display_data"
    },
    {
     "data": {
      "text/plain": [
       "[{'train_loss': 0.15753985941410065}]"
      ]
     },
     "execution_count": 33,
     "metadata": {},
     "output_type": "execute_result"
    }
   ],
   "source": [
    "print('Testing model..')\n",
    "trainer.test(model = clf, dataloaders=test_data)"
   ]
  },
  {
   "cell_type": "code",
   "execution_count": 34,
   "id": "178d2d99-e2ec-4ab3-9a16-b1ead1e1c2ac",
   "metadata": {},
   "outputs": [],
   "source": [
    "dense_net_loss = clf.t_loss\n",
    "dense_net_acc = clf.t_acc"
   ]
  },
  {
   "cell_type": "markdown",
   "id": "d3d913c0-1d4c-4d0f-9d3d-27f989f47905",
   "metadata": {
    "tags": []
   },
   "source": [
    "### ResNet ###"
   ]
  },
  {
   "cell_type": "code",
   "execution_count": 35,
   "id": "689b5630-3be3-443b-b2c6-fc256481b06f",
   "metadata": {},
   "outputs": [],
   "source": [
    "clf = Classifier(model = 'ResNet', l1_weight = 0.0, l2_weight = 0.0)"
   ]
  },
  {
   "cell_type": "code",
   "execution_count": 36,
   "id": "0048c155-7bdf-4840-aaf6-91b321687f6d",
   "metadata": {
    "scrolled": true,
    "tags": []
   },
   "outputs": [
    {
     "name": "stderr",
     "output_type": "stream",
     "text": [
      "GPU available: True (cuda), used: True\n",
      "TPU available: False, using: 0 TPU cores\n",
      "IPU available: False, using: 0 IPUs\n",
      "HPU available: False, using: 0 HPUs\n",
      "LOCAL_RANK: 0 - CUDA_VISIBLE_DEVICES: [0]\n",
      "\n",
      "  | Name  | Type       | Params\n",
      "-------------------------------------\n",
      "0 | model | Sequential | 28.0 M\n",
      "-------------------------------------\n",
      "28.0 M    Trainable params\n",
      "0         Non-trainable params\n",
      "28.0 M    Total params\n",
      "111.819   Total estimated model params size (MB)\n"
     ]
    },
    {
     "data": {
      "application/vnd.jupyter.widget-view+json": {
       "model_id": "0a97871bd0944d678a16e57511c628e3",
       "version_major": 2,
       "version_minor": 0
      },
      "text/plain": [
       "Training: 0it [00:00, ?it/s]"
      ]
     },
     "metadata": {},
     "output_type": "display_data"
    },
    {
     "name": "stdout",
     "output_type": "stream",
     "text": [
      "loss : 0.226772, accuracy: 0.9375\n",
      "loss : 0.025878, accuracy: 1.0000\n",
      "loss : 0.001931, accuracy: 1.0000\n",
      "loss : 0.010116, accuracy: 1.0000\n",
      "loss : 0.000036, accuracy: 1.0000\n",
      "loss : 0.000625, accuracy: 1.0000\n",
      "loss : 0.031511, accuracy: 0.9688\n",
      "loss : 0.009105, accuracy: 1.0000\n",
      "loss : 0.000173, accuracy: 1.0000\n",
      "loss : 0.001567, accuracy: 1.0000\n",
      "loss : 0.000075, accuracy: 1.0000\n",
      "loss : 0.000030, accuracy: 1.0000\n",
      "loss : 0.000003, accuracy: 1.0000\n",
      "loss : 0.011941, accuracy: 1.0000\n",
      "loss : 0.001339, accuracy: 1.0000\n",
      "loss : 0.000237, accuracy: 1.0000\n",
      "loss : 0.000407, accuracy: 1.0000\n",
      "loss : 0.000050, accuracy: 1.0000\n",
      "loss : 0.000130, accuracy: 1.0000\n",
      "loss : 0.000022, accuracy: 1.0000\n",
      "loss : 0.000012, accuracy: 1.0000\n",
      "loss : 0.000013, accuracy: 1.0000\n",
      "loss : 0.000004, accuracy: 1.0000\n",
      "loss : 0.000003, accuracy: 1.0000\n",
      "loss : 0.000001, accuracy: 1.0000\n",
      "loss : 0.000001, accuracy: 1.0000\n",
      "loss : 0.000003, accuracy: 1.0000\n",
      "loss : 0.000049, accuracy: 1.0000\n",
      "loss : 0.000002, accuracy: 1.0000\n",
      "loss : 0.000011, accuracy: 1.0000\n",
      "loss : 0.000003, accuracy: 1.0000\n",
      "loss : 0.000008, accuracy: 1.0000\n",
      "loss : 0.000024, accuracy: 1.0000\n",
      "loss : 0.000002, accuracy: 1.0000\n",
      "loss : 0.000012, accuracy: 1.0000\n",
      "loss : 0.000006, accuracy: 1.0000\n",
      "loss : 0.000002, accuracy: 1.0000\n",
      "loss : 0.000004, accuracy: 1.0000\n",
      "loss : 0.000095, accuracy: 1.0000\n",
      "loss : 0.000004, accuracy: 1.0000\n",
      "loss : 0.000005, accuracy: 1.0000\n",
      "loss : 0.000006, accuracy: 1.0000\n",
      "loss : 0.000024, accuracy: 1.0000\n",
      "loss : 0.000012, accuracy: 1.0000\n",
      "loss : 0.000010, accuracy: 1.0000\n",
      "loss : 0.000009, accuracy: 1.0000\n",
      "loss : 0.000005, accuracy: 1.0000\n",
      "loss : 0.000011, accuracy: 1.0000\n",
      "loss : 0.000002, accuracy: 1.0000\n",
      "loss : 0.000005, accuracy: 1.0000\n"
     ]
    },
    {
     "name": "stderr",
     "output_type": "stream",
     "text": [
      "`Trainer.fit` stopped: `max_epochs=50` reached.\n"
     ]
    }
   ],
   "source": [
    "trainer = pl.Trainer(max_epochs=50)\n",
    "trainer.fit(model=clf, train_dataloaders=train_data)"
   ]
  },
  {
   "cell_type": "code",
   "execution_count": 37,
   "id": "de1928d1-148a-4047-b07d-8b7aa6b5b3d4",
   "metadata": {
    "scrolled": true,
    "tags": []
   },
   "outputs": [
    {
     "name": "stderr",
     "output_type": "stream",
     "text": [
      "LOCAL_RANK: 0 - CUDA_VISIBLE_DEVICES: [0]\n"
     ]
    },
    {
     "name": "stdout",
     "output_type": "stream",
     "text": [
      "Testing model..\n"
     ]
    },
    {
     "data": {
      "application/vnd.jupyter.widget-view+json": {
       "model_id": "c2db2f342cfa43ba824fb20b8db71f8d",
       "version_major": 2,
       "version_minor": 0
      },
      "text/plain": [
       "Testing: 0it [00:00, ?it/s]"
      ]
     },
     "metadata": {},
     "output_type": "display_data"
    },
    {
     "name": "stdout",
     "output_type": "stream",
     "text": [
      "loss : 0.000547, accuracy: 1.0000\n",
      "loss : 0.002626, accuracy: 1.0000\n",
      "loss : 0.767390, accuracy: 0.9062\n",
      "loss : 0.005475, accuracy: 1.0000\n",
      "loss : 0.190688, accuracy: 0.9688\n",
      "loss : 0.000169, accuracy: 1.0000\n",
      "loss : 0.340363, accuracy: 0.9688\n",
      "loss : 0.556658, accuracy: 0.9375\n",
      "loss : 0.177770, accuracy: 0.9375\n",
      "loss : 0.280667, accuracy: 0.9062\n",
      "loss : 0.764124, accuracy: 0.9062\n",
      "loss : 0.672705, accuracy: 0.9375\n",
      "loss : 0.070450, accuracy: 0.9688\n"
     ]
    },
    {
     "data": {
      "text/html": [
       "<pre style=\"white-space:pre;overflow-x:auto;line-height:normal;font-family:Menlo,'DejaVu Sans Mono',consolas,'Courier New',monospace\">┏━━━━━━━━━━━━━━━━━━━━━━━━━━━┳━━━━━━━━━━━━━━━━━━━━━━━━━━━┓\n",
       "┃<span style=\"font-weight: bold\">        Test metric        </span>┃<span style=\"font-weight: bold\">       DataLoader 0        </span>┃\n",
       "┡━━━━━━━━━━━━━━━━━━━━━━━━━━━╇━━━━━━━━━━━━━━━━━━━━━━━━━━━┩\n",
       "│<span style=\"color: #008080; text-decoration-color: #008080\">        train_loss         </span>│<span style=\"color: #800080; text-decoration-color: #800080\">    0.19234268367290497    </span>│\n",
       "└───────────────────────────┴───────────────────────────┘\n",
       "</pre>\n"
      ],
      "text/plain": [
       "┏━━━━━━━━━━━━━━━━━━━━━━━━━━━┳━━━━━━━━━━━━━━━━━━━━━━━━━━━┓\n",
       "┃\u001b[1m \u001b[0m\u001b[1m       Test metric       \u001b[0m\u001b[1m \u001b[0m┃\u001b[1m \u001b[0m\u001b[1m      DataLoader 0       \u001b[0m\u001b[1m \u001b[0m┃\n",
       "┡━━━━━━━━━━━━━━━━━━━━━━━━━━━╇━━━━━━━━━━━━━━━━━━━━━━━━━━━┩\n",
       "│\u001b[36m \u001b[0m\u001b[36m       train_loss        \u001b[0m\u001b[36m \u001b[0m│\u001b[35m \u001b[0m\u001b[35m   0.19234268367290497   \u001b[0m\u001b[35m \u001b[0m│\n",
       "└───────────────────────────┴───────────────────────────┘\n"
      ]
     },
     "metadata": {},
     "output_type": "display_data"
    },
    {
     "data": {
      "text/plain": [
       "[{'train_loss': 0.19234268367290497}]"
      ]
     },
     "execution_count": 37,
     "metadata": {},
     "output_type": "execute_result"
    }
   ],
   "source": [
    "print('Testing model..')\n",
    "trainer.test(model = clf, dataloaders=test_data)"
   ]
  },
  {
   "cell_type": "code",
   "execution_count": 38,
   "id": "096faa66-168e-41f8-b1b5-5718e319add7",
   "metadata": {},
   "outputs": [],
   "source": [
    "res_net_loss = clf.t_loss\n",
    "res_net_acc = clf.t_acc"
   ]
  },
  {
   "cell_type": "markdown",
   "id": "fb6a26a3-32e0-497a-a746-08378c88753b",
   "metadata": {
    "tags": []
   },
   "source": [
    "### ResNext ###"
   ]
  },
  {
   "cell_type": "code",
   "execution_count": 39,
   "id": "0338ba38-4050-47c3-88b9-a57525e75581",
   "metadata": {},
   "outputs": [
    {
     "name": "stderr",
     "output_type": "stream",
     "text": [
      "/usr/local/lib/python3.9/dist-packages/torchvision/models/_utils.py:223: UserWarning: Arguments other than a weight enum or `None` for 'weights' are deprecated since 0.13 and will be removed in 0.15. The current behavior is equivalent to passing `weights=ResNeXt50_32X4D_Weights.IMAGENET1K_V1`. You can also use `weights=ResNeXt50_32X4D_Weights.DEFAULT` to get the most up-to-date weights.\n",
      "  warnings.warn(msg)\n"
     ]
    }
   ],
   "source": [
    "clf = Classifier(model = 'ResNext', l1_weight = 0.0, l2_weight = 0.0)"
   ]
  },
  {
   "cell_type": "code",
   "execution_count": 40,
   "id": "43e06699-6b2d-4615-a9d3-e7fd266d8087",
   "metadata": {
    "scrolled": true,
    "tags": []
   },
   "outputs": [
    {
     "name": "stderr",
     "output_type": "stream",
     "text": [
      "GPU available: True (cuda), used: True\n",
      "TPU available: False, using: 0 TPU cores\n",
      "IPU available: False, using: 0 IPUs\n",
      "HPU available: False, using: 0 HPUs\n",
      "LOCAL_RANK: 0 - CUDA_VISIBLE_DEVICES: [0]\n",
      "\n",
      "  | Name  | Type       | Params\n",
      "-------------------------------------\n",
      "0 | model | Sequential | 24.0 M\n",
      "-------------------------------------\n",
      "24.0 M    Trainable params\n",
      "0         Non-trainable params\n",
      "24.0 M    Total params\n",
      "96.118    Total estimated model params size (MB)\n"
     ]
    },
    {
     "data": {
      "application/vnd.jupyter.widget-view+json": {
       "model_id": "740f958d71a54b89a314f57f8bbc58b7",
       "version_major": 2,
       "version_minor": 0
      },
      "text/plain": [
       "Training: 0it [00:00, ?it/s]"
      ]
     },
     "metadata": {},
     "output_type": "display_data"
    },
    {
     "name": "stdout",
     "output_type": "stream",
     "text": [
      "loss : 0.650318, accuracy: 0.9375\n",
      "loss : 0.609714, accuracy: 0.9062\n",
      "loss : 0.585285, accuracy: 0.8438\n",
      "loss : 0.517627, accuracy: 0.9062\n",
      "loss : 0.459195, accuracy: 0.8438\n",
      "loss : 0.363342, accuracy: 0.9688\n",
      "loss : 0.293146, accuracy: 0.9688\n",
      "loss : 0.236577, accuracy: 1.0000\n",
      "loss : 0.199088, accuracy: 1.0000\n",
      "loss : 0.186444, accuracy: 1.0000\n",
      "loss : 0.191726, accuracy: 0.9375\n",
      "loss : 0.228586, accuracy: 0.9062\n",
      "loss : 0.166809, accuracy: 0.9375\n",
      "loss : 0.134101, accuracy: 0.9375\n",
      "loss : 0.147256, accuracy: 0.9688\n",
      "loss : 0.127045, accuracy: 0.9688\n",
      "loss : 0.095680, accuracy: 1.0000\n",
      "loss : 0.139705, accuracy: 0.9688\n",
      "loss : 0.065973, accuracy: 1.0000\n",
      "loss : 0.111133, accuracy: 0.9688\n",
      "loss : 0.105449, accuracy: 0.9375\n",
      "loss : 0.142982, accuracy: 0.9375\n",
      "loss : 0.112056, accuracy: 0.9688\n",
      "loss : 0.193883, accuracy: 0.9062\n",
      "loss : 0.046200, accuracy: 1.0000\n",
      "loss : 0.083059, accuracy: 0.9688\n",
      "loss : 0.028490, accuracy: 1.0000\n",
      "loss : 0.025099, accuracy: 1.0000\n",
      "loss : 0.027214, accuracy: 1.0000\n",
      "loss : 0.031348, accuracy: 1.0000\n",
      "loss : 0.036168, accuracy: 1.0000\n",
      "loss : 0.197747, accuracy: 0.9062\n",
      "loss : 0.031507, accuracy: 1.0000\n",
      "loss : 0.035444, accuracy: 1.0000\n",
      "loss : 0.019189, accuracy: 1.0000\n",
      "loss : 0.027365, accuracy: 1.0000\n",
      "loss : 0.054186, accuracy: 1.0000\n",
      "loss : 0.021266, accuracy: 1.0000\n",
      "loss : 0.011959, accuracy: 1.0000\n",
      "loss : 0.034755, accuracy: 0.9688\n",
      "loss : 0.016657, accuracy: 1.0000\n",
      "loss : 0.013149, accuracy: 1.0000\n",
      "loss : 0.011188, accuracy: 1.0000\n",
      "loss : 0.015159, accuracy: 1.0000\n",
      "loss : 0.033044, accuracy: 0.9688\n",
      "loss : 0.009009, accuracy: 1.0000\n",
      "loss : 0.010731, accuracy: 1.0000\n",
      "loss : 0.008304, accuracy: 1.0000\n",
      "loss : 0.008481, accuracy: 1.0000\n",
      "loss : 0.009775, accuracy: 1.0000\n"
     ]
    },
    {
     "name": "stderr",
     "output_type": "stream",
     "text": [
      "`Trainer.fit` stopped: `max_epochs=50` reached.\n"
     ]
    }
   ],
   "source": [
    "trainer = pl.Trainer(max_epochs=50)\n",
    "trainer.fit(model=clf, train_dataloaders=train_data)"
   ]
  },
  {
   "cell_type": "code",
   "execution_count": 41,
   "id": "b1f8a92a-2327-4492-9fb6-1b759cc05d6a",
   "metadata": {
    "scrolled": true,
    "tags": []
   },
   "outputs": [
    {
     "name": "stderr",
     "output_type": "stream",
     "text": [
      "LOCAL_RANK: 0 - CUDA_VISIBLE_DEVICES: [0]\n"
     ]
    },
    {
     "name": "stdout",
     "output_type": "stream",
     "text": [
      "Testing model..\n"
     ]
    },
    {
     "data": {
      "application/vnd.jupyter.widget-view+json": {
       "model_id": "8a22084df4bb42e8a05d842e67b311e1",
       "version_major": 2,
       "version_minor": 0
      },
      "text/plain": [
       "Testing: 0it [00:00, ?it/s]"
      ]
     },
     "metadata": {},
     "output_type": "display_data"
    },
    {
     "name": "stdout",
     "output_type": "stream",
     "text": [
      "loss : 0.080747, accuracy: 0.9688\n",
      "loss : 0.009297, accuracy: 1.0000\n",
      "loss : 0.130534, accuracy: 0.9375\n",
      "loss : 0.081341, accuracy: 0.9688\n",
      "loss : 0.011496, accuracy: 1.0000\n",
      "loss : 0.034510, accuracy: 1.0000\n",
      "loss : 0.179351, accuracy: 0.9375\n",
      "loss : 0.063560, accuracy: 0.9375\n",
      "loss : 0.208669, accuracy: 0.9375\n",
      "loss : 0.208509, accuracy: 0.9375\n",
      "loss : 0.108501, accuracy: 0.9688\n",
      "loss : 0.272092, accuracy: 0.9375\n",
      "loss : 0.084513, accuracy: 0.9688\n"
     ]
    },
    {
     "data": {
      "text/html": [
       "<pre style=\"white-space:pre;overflow-x:auto;line-height:normal;font-family:Menlo,'DejaVu Sans Mono',consolas,'Courier New',monospace\">┏━━━━━━━━━━━━━━━━━━━━━━━━━━━┳━━━━━━━━━━━━━━━━━━━━━━━━━━━┓\n",
       "┃<span style=\"font-weight: bold\">        Test metric        </span>┃<span style=\"font-weight: bold\">       DataLoader 0        </span>┃\n",
       "┡━━━━━━━━━━━━━━━━━━━━━━━━━━━╇━━━━━━━━━━━━━━━━━━━━━━━━━━━┩\n",
       "│<span style=\"color: #008080; text-decoration-color: #008080\">        train_loss         </span>│<span style=\"color: #800080; text-decoration-color: #800080\">    0.11740964651107788    </span>│\n",
       "└───────────────────────────┴───────────────────────────┘\n",
       "</pre>\n"
      ],
      "text/plain": [
       "┏━━━━━━━━━━━━━━━━━━━━━━━━━━━┳━━━━━━━━━━━━━━━━━━━━━━━━━━━┓\n",
       "┃\u001b[1m \u001b[0m\u001b[1m       Test metric       \u001b[0m\u001b[1m \u001b[0m┃\u001b[1m \u001b[0m\u001b[1m      DataLoader 0       \u001b[0m\u001b[1m \u001b[0m┃\n",
       "┡━━━━━━━━━━━━━━━━━━━━━━━━━━━╇━━━━━━━━━━━━━━━━━━━━━━━━━━━┩\n",
       "│\u001b[36m \u001b[0m\u001b[36m       train_loss        \u001b[0m\u001b[36m \u001b[0m│\u001b[35m \u001b[0m\u001b[35m   0.11740964651107788   \u001b[0m\u001b[35m \u001b[0m│\n",
       "└───────────────────────────┴───────────────────────────┘\n"
      ]
     },
     "metadata": {},
     "output_type": "display_data"
    },
    {
     "data": {
      "text/plain": [
       "[{'train_loss': 0.11740964651107788}]"
      ]
     },
     "execution_count": 41,
     "metadata": {},
     "output_type": "execute_result"
    }
   ],
   "source": [
    "print('Testing model..')\n",
    "trainer.test(model = clf, dataloaders=test_data)"
   ]
  },
  {
   "cell_type": "code",
   "execution_count": 42,
   "id": "82417aa1-d1fa-4106-8f89-4291e58ac3f1",
   "metadata": {},
   "outputs": [],
   "source": [
    "res_next_loss = clf.t_loss\n",
    "res_next_acc = clf.t_acc"
   ]
  },
  {
   "cell_type": "markdown",
   "id": "33d7b464-9410-45f5-bfad-1c58576d67fb",
   "metadata": {
    "tags": []
   },
   "source": [
    "### Wide ResNet ###"
   ]
  },
  {
   "cell_type": "code",
   "execution_count": 43,
   "id": "5e2bc219-b7e1-40e5-926d-24bcc2a2be46",
   "metadata": {},
   "outputs": [
    {
     "name": "stderr",
     "output_type": "stream",
     "text": [
      "/usr/local/lib/python3.9/dist-packages/torchvision/models/_utils.py:223: UserWarning: Arguments other than a weight enum or `None` for 'weights' are deprecated since 0.13 and will be removed in 0.15. The current behavior is equivalent to passing `weights=Wide_ResNet50_2_Weights.IMAGENET1K_V1`. You can also use `weights=Wide_ResNet50_2_Weights.DEFAULT` to get the most up-to-date weights.\n",
      "  warnings.warn(msg)\n"
     ]
    }
   ],
   "source": [
    "clf = Classifier(model = 'Wide ResNet', l1_weight = 0.0, l2_weight = 0.0)"
   ]
  },
  {
   "cell_type": "code",
   "execution_count": 44,
   "id": "ffc39544-8479-4217-9d60-54eab14e9199",
   "metadata": {
    "scrolled": true,
    "tags": []
   },
   "outputs": [
    {
     "name": "stderr",
     "output_type": "stream",
     "text": [
      "GPU available: True (cuda), used: True\n",
      "TPU available: False, using: 0 TPU cores\n",
      "IPU available: False, using: 0 IPUs\n",
      "HPU available: False, using: 0 HPUs\n",
      "LOCAL_RANK: 0 - CUDA_VISIBLE_DEVICES: [0]\n",
      "\n",
      "  | Name  | Type       | Params\n",
      "-------------------------------------\n",
      "0 | model | Sequential | 67.9 M\n",
      "-------------------------------------\n",
      "67.9 M    Trainable params\n",
      "0         Non-trainable params\n",
      "67.9 M    Total params\n",
      "271.535   Total estimated model params size (MB)\n"
     ]
    },
    {
     "data": {
      "application/vnd.jupyter.widget-view+json": {
       "model_id": "1b296676312a46aea2fedf25c9ae2a72",
       "version_major": 2,
       "version_minor": 0
      },
      "text/plain": [
       "Training: 0it [00:00, ?it/s]"
      ]
     },
     "metadata": {},
     "output_type": "display_data"
    },
    {
     "name": "stdout",
     "output_type": "stream",
     "text": [
      "loss : 0.320383, accuracy: 1.0000\n",
      "loss : 0.155373, accuracy: 0.9688\n",
      "loss : 0.050671, accuracy: 1.0000\n",
      "loss : 0.163461, accuracy: 0.9375\n",
      "loss : 0.017557, accuracy: 1.0000\n",
      "loss : 0.024430, accuracy: 1.0000\n",
      "loss : 0.010374, accuracy: 1.0000\n",
      "loss : 0.017082, accuracy: 1.0000\n",
      "loss : 0.003771, accuracy: 1.0000\n",
      "loss : 0.011961, accuracy: 1.0000\n",
      "loss : 0.002869, accuracy: 1.0000\n",
      "loss : 0.002518, accuracy: 1.0000\n",
      "loss : 0.001687, accuracy: 1.0000\n",
      "loss : 0.001972, accuracy: 1.0000\n",
      "loss : 0.001825, accuracy: 1.0000\n",
      "loss : 0.001724, accuracy: 1.0000\n",
      "loss : 0.000992, accuracy: 1.0000\n",
      "loss : 0.000851, accuracy: 1.0000\n",
      "loss : 0.003219, accuracy: 1.0000\n",
      "loss : 0.004562, accuracy: 1.0000\n",
      "loss : 0.001757, accuracy: 1.0000\n",
      "loss : 0.001110, accuracy: 1.0000\n",
      "loss : 0.001320, accuracy: 1.0000\n",
      "loss : 0.001082, accuracy: 1.0000\n",
      "loss : 0.001683, accuracy: 1.0000\n",
      "loss : 0.000598, accuracy: 1.0000\n",
      "loss : 0.000605, accuracy: 1.0000\n",
      "loss : 0.000505, accuracy: 1.0000\n",
      "loss : 0.001999, accuracy: 1.0000\n",
      "loss : 0.001377, accuracy: 1.0000\n",
      "loss : 0.000581, accuracy: 1.0000\n",
      "loss : 0.000506, accuracy: 1.0000\n",
      "loss : 0.000521, accuracy: 1.0000\n",
      "loss : 0.000328, accuracy: 1.0000\n",
      "loss : 0.000351, accuracy: 1.0000\n",
      "loss : 0.000214, accuracy: 1.0000\n",
      "loss : 0.000669, accuracy: 1.0000\n",
      "loss : 0.000665, accuracy: 1.0000\n",
      "loss : 0.000240, accuracy: 1.0000\n",
      "loss : 0.000522, accuracy: 1.0000\n",
      "loss : 0.000351, accuracy: 1.0000\n",
      "loss : 0.000807, accuracy: 1.0000\n",
      "loss : 0.000512, accuracy: 1.0000\n",
      "loss : 0.000247, accuracy: 1.0000\n",
      "loss : 0.000259, accuracy: 1.0000\n",
      "loss : 0.000254, accuracy: 1.0000\n",
      "loss : 0.000276, accuracy: 1.0000\n",
      "loss : 0.000215, accuracy: 1.0000\n",
      "loss : 0.000178, accuracy: 1.0000\n",
      "loss : 0.000251, accuracy: 1.0000\n"
     ]
    },
    {
     "name": "stderr",
     "output_type": "stream",
     "text": [
      "`Trainer.fit` stopped: `max_epochs=50` reached.\n"
     ]
    }
   ],
   "source": [
    "trainer = pl.Trainer(max_epochs=50)\n",
    "trainer.fit(model=clf, train_dataloaders=train_data)"
   ]
  },
  {
   "cell_type": "code",
   "execution_count": 45,
   "id": "8f2285ca-5bec-4e97-958a-1fe1ba020b91",
   "metadata": {
    "scrolled": true,
    "tags": []
   },
   "outputs": [
    {
     "name": "stderr",
     "output_type": "stream",
     "text": [
      "LOCAL_RANK: 0 - CUDA_VISIBLE_DEVICES: [0]\n"
     ]
    },
    {
     "name": "stdout",
     "output_type": "stream",
     "text": [
      "Testing model..\n"
     ]
    },
    {
     "data": {
      "application/vnd.jupyter.widget-view+json": {
       "model_id": "072958a21eaf4812b6e14142888b3276",
       "version_major": 2,
       "version_minor": 0
      },
      "text/plain": [
       "Testing: 0it [00:00, ?it/s]"
      ]
     },
     "metadata": {},
     "output_type": "display_data"
    },
    {
     "name": "stdout",
     "output_type": "stream",
     "text": [
      "loss : 0.000637, accuracy: 1.0000\n",
      "loss : 0.148711, accuracy: 0.9688\n",
      "loss : 0.142903, accuracy: 0.9688\n",
      "loss : 0.509275, accuracy: 0.9375\n",
      "loss : 0.108059, accuracy: 0.9375\n",
      "loss : 0.176069, accuracy: 0.9375\n",
      "loss : 0.133887, accuracy: 0.9688\n",
      "loss : 0.001611, accuracy: 1.0000\n",
      "loss : 0.000288, accuracy: 1.0000\n",
      "loss : 0.135157, accuracy: 0.9375\n",
      "loss : 0.001175, accuracy: 1.0000\n",
      "loss : 0.002577, accuracy: 1.0000\n",
      "loss : 0.314489, accuracy: 0.9375\n"
     ]
    },
    {
     "data": {
      "text/html": [
       "<pre style=\"white-space:pre;overflow-x:auto;line-height:normal;font-family:Menlo,'DejaVu Sans Mono',consolas,'Courier New',monospace\">┏━━━━━━━━━━━━━━━━━━━━━━━━━━━┳━━━━━━━━━━━━━━━━━━━━━━━━━━━┓\n",
       "┃<span style=\"font-weight: bold\">        Test metric        </span>┃<span style=\"font-weight: bold\">       DataLoader 0        </span>┃\n",
       "┡━━━━━━━━━━━━━━━━━━━━━━━━━━━╇━━━━━━━━━━━━━━━━━━━━━━━━━━━┩\n",
       "│<span style=\"color: #008080; text-decoration-color: #008080\">        train_loss         </span>│<span style=\"color: #800080; text-decoration-color: #800080\">    0.15255895256996155    </span>│\n",
       "└───────────────────────────┴───────────────────────────┘\n",
       "</pre>\n"
      ],
      "text/plain": [
       "┏━━━━━━━━━━━━━━━━━━━━━━━━━━━┳━━━━━━━━━━━━━━━━━━━━━━━━━━━┓\n",
       "┃\u001b[1m \u001b[0m\u001b[1m       Test metric       \u001b[0m\u001b[1m \u001b[0m┃\u001b[1m \u001b[0m\u001b[1m      DataLoader 0       \u001b[0m\u001b[1m \u001b[0m┃\n",
       "┡━━━━━━━━━━━━━━━━━━━━━━━━━━━╇━━━━━━━━━━━━━━━━━━━━━━━━━━━┩\n",
       "│\u001b[36m \u001b[0m\u001b[36m       train_loss        \u001b[0m\u001b[36m \u001b[0m│\u001b[35m \u001b[0m\u001b[35m   0.15255895256996155   \u001b[0m\u001b[35m \u001b[0m│\n",
       "└───────────────────────────┴───────────────────────────┘\n"
      ]
     },
     "metadata": {},
     "output_type": "display_data"
    },
    {
     "data": {
      "text/plain": [
       "[{'train_loss': 0.15255895256996155}]"
      ]
     },
     "execution_count": 45,
     "metadata": {},
     "output_type": "execute_result"
    }
   ],
   "source": [
    "print('Testing model..')\n",
    "trainer.test(model = clf, dataloaders=test_data)"
   ]
  },
  {
   "cell_type": "code",
   "execution_count": 46,
   "id": "a88fc654-cf44-48a4-9d74-6122f7306ff7",
   "metadata": {},
   "outputs": [],
   "source": [
    "wide_net_loss = clf.t_loss\n",
    "wide_net_acc = clf.t_acc"
   ]
  },
  {
   "cell_type": "markdown",
   "id": "ca246d46-47e4-4cf4-824c-f43ebedccb22",
   "metadata": {
    "tags": []
   },
   "source": [
    "### VGG BN ###"
   ]
  },
  {
   "cell_type": "code",
   "execution_count": 47,
   "id": "ccc76bf8-ad71-4982-af14-20cfa02f62fd",
   "metadata": {},
   "outputs": [
    {
     "name": "stderr",
     "output_type": "stream",
     "text": [
      "/usr/local/lib/python3.9/dist-packages/torchvision/models/_utils.py:223: UserWarning: Arguments other than a weight enum or `None` for 'weights' are deprecated since 0.13 and will be removed in 0.15. The current behavior is equivalent to passing `weights=VGG11_BN_Weights.IMAGENET1K_V1`. You can also use `weights=VGG11_BN_Weights.DEFAULT` to get the most up-to-date weights.\n",
      "  warnings.warn(msg)\n"
     ]
    }
   ],
   "source": [
    "clf = Classifier(model = 'VGG', l1_weight = 0.0, l2_weight = 0.0)"
   ]
  },
  {
   "cell_type": "code",
   "execution_count": 48,
   "id": "6f482b5b-b5f7-4c42-a7fd-aa52953568d1",
   "metadata": {
    "scrolled": true,
    "tags": []
   },
   "outputs": [
    {
     "name": "stderr",
     "output_type": "stream",
     "text": [
      "GPU available: True (cuda), used: True\n",
      "TPU available: False, using: 0 TPU cores\n",
      "IPU available: False, using: 0 IPUs\n",
      "HPU available: False, using: 0 HPUs\n",
      "LOCAL_RANK: 0 - CUDA_VISIBLE_DEVICES: [0]\n",
      "\n",
      "  | Name  | Type       | Params\n",
      "-------------------------------------\n",
      "0 | model | Sequential | 22.1 M\n",
      "-------------------------------------\n",
      "22.1 M    Trainable params\n",
      "0         Non-trainable params\n",
      "22.1 M    Total params\n",
      "88.288    Total estimated model params size (MB)\n"
     ]
    },
    {
     "data": {
      "application/vnd.jupyter.widget-view+json": {
       "model_id": "e6a8aba348d345338290602562043540",
       "version_major": 2,
       "version_minor": 0
      },
      "text/plain": [
       "Training: 0it [00:00, ?it/s]"
      ]
     },
     "metadata": {},
     "output_type": "display_data"
    },
    {
     "name": "stdout",
     "output_type": "stream",
     "text": [
      "loss : 0.237114, accuracy: 0.8750\n",
      "loss : 0.079873, accuracy: 0.9688\n",
      "loss : 0.083825, accuracy: 0.9688\n",
      "loss : 0.140961, accuracy: 0.9688\n",
      "loss : 0.013278, accuracy: 1.0000\n",
      "loss : 0.010523, accuracy: 1.0000\n",
      "loss : 0.009866, accuracy: 1.0000\n",
      "loss : 0.011385, accuracy: 1.0000\n",
      "loss : 0.011688, accuracy: 1.0000\n",
      "loss : 0.001893, accuracy: 1.0000\n",
      "loss : 0.003690, accuracy: 1.0000\n",
      "loss : 0.000553, accuracy: 1.0000\n",
      "loss : 0.002430, accuracy: 1.0000\n",
      "loss : 0.001319, accuracy: 1.0000\n",
      "loss : 0.001215, accuracy: 1.0000\n",
      "loss : 0.000825, accuracy: 1.0000\n",
      "loss : 0.000902, accuracy: 1.0000\n",
      "loss : 0.001402, accuracy: 1.0000\n",
      "loss : 0.000257, accuracy: 1.0000\n",
      "loss : 0.000425, accuracy: 1.0000\n",
      "loss : 0.000443, accuracy: 1.0000\n",
      "loss : 0.000088, accuracy: 1.0000\n",
      "loss : 0.000199, accuracy: 1.0000\n",
      "loss : 0.000089, accuracy: 1.0000\n",
      "loss : 0.000161, accuracy: 1.0000\n",
      "loss : 0.000429, accuracy: 1.0000\n",
      "loss : 0.000223, accuracy: 1.0000\n",
      "loss : 0.000176, accuracy: 1.0000\n",
      "loss : 0.000091, accuracy: 1.0000\n",
      "loss : 0.000139, accuracy: 1.0000\n",
      "loss : 0.000048, accuracy: 1.0000\n",
      "loss : 0.000302, accuracy: 1.0000\n",
      "loss : 0.000089, accuracy: 1.0000\n",
      "loss : 0.000240, accuracy: 1.0000\n",
      "loss : 0.000149, accuracy: 1.0000\n",
      "loss : 0.000076, accuracy: 1.0000\n",
      "loss : 0.000303, accuracy: 1.0000\n",
      "loss : 0.000067, accuracy: 1.0000\n",
      "loss : 0.000069, accuracy: 1.0000\n",
      "loss : 0.001162, accuracy: 1.0000\n",
      "loss : 0.000040, accuracy: 1.0000\n",
      "loss : 0.000022, accuracy: 1.0000\n",
      "loss : 0.000034, accuracy: 1.0000\n",
      "loss : 0.000063, accuracy: 1.0000\n",
      "loss : 0.000052, accuracy: 1.0000\n",
      "loss : 0.000058, accuracy: 1.0000\n",
      "loss : 0.000025, accuracy: 1.0000\n",
      "loss : 0.000042, accuracy: 1.0000\n",
      "loss : 0.000007, accuracy: 1.0000\n",
      "loss : 0.000035, accuracy: 1.0000\n"
     ]
    },
    {
     "name": "stderr",
     "output_type": "stream",
     "text": [
      "`Trainer.fit` stopped: `max_epochs=50` reached.\n"
     ]
    }
   ],
   "source": [
    "trainer = pl.Trainer(max_epochs=50)\n",
    "trainer.fit(model=clf, train_dataloaders=train_data)"
   ]
  },
  {
   "cell_type": "code",
   "execution_count": 49,
   "id": "f4b7ef7e-8373-4795-b3e1-7cefbaee77fb",
   "metadata": {},
   "outputs": [
    {
     "name": "stderr",
     "output_type": "stream",
     "text": [
      "LOCAL_RANK: 0 - CUDA_VISIBLE_DEVICES: [0]\n"
     ]
    },
    {
     "name": "stdout",
     "output_type": "stream",
     "text": [
      "Testing model..\n"
     ]
    },
    {
     "data": {
      "application/vnd.jupyter.widget-view+json": {
       "model_id": "b3a7d7d481c8493f8f6b73f4fca00d59",
       "version_major": 2,
       "version_minor": 0
      },
      "text/plain": [
       "Testing: 0it [00:00, ?it/s]"
      ]
     },
     "metadata": {},
     "output_type": "display_data"
    },
    {
     "name": "stdout",
     "output_type": "stream",
     "text": [
      "loss : 0.028031, accuracy: 0.9688\n",
      "loss : 0.043725, accuracy: 0.9688\n",
      "loss : 0.014943, accuracy: 1.0000\n",
      "loss : 0.083756, accuracy: 0.9688\n",
      "loss : 0.107867, accuracy: 0.9688\n",
      "loss : 0.304155, accuracy: 0.9688\n",
      "loss : 0.324884, accuracy: 0.9688\n",
      "loss : 0.135779, accuracy: 0.9688\n",
      "loss : 0.118498, accuracy: 0.9375\n",
      "loss : 0.104042, accuracy: 0.9688\n",
      "loss : 0.278046, accuracy: 0.9688\n",
      "loss : 0.189544, accuracy: 0.9688\n",
      "loss : 0.001524, accuracy: 1.0000\n"
     ]
    },
    {
     "data": {
      "text/html": [
       "<pre style=\"white-space:pre;overflow-x:auto;line-height:normal;font-family:Menlo,'DejaVu Sans Mono',consolas,'Courier New',monospace\">┏━━━━━━━━━━━━━━━━━━━━━━━━━━━┳━━━━━━━━━━━━━━━━━━━━━━━━━━━┓\n",
       "┃<span style=\"font-weight: bold\">        Test metric        </span>┃<span style=\"font-weight: bold\">       DataLoader 0        </span>┃\n",
       "┡━━━━━━━━━━━━━━━━━━━━━━━━━━━╇━━━━━━━━━━━━━━━━━━━━━━━━━━━┩\n",
       "│<span style=\"color: #008080; text-decoration-color: #008080\">        train_loss         </span>│<span style=\"color: #800080; text-decoration-color: #800080\">    0.16042383015155792    </span>│\n",
       "└───────────────────────────┴───────────────────────────┘\n",
       "</pre>\n"
      ],
      "text/plain": [
       "┏━━━━━━━━━━━━━━━━━━━━━━━━━━━┳━━━━━━━━━━━━━━━━━━━━━━━━━━━┓\n",
       "┃\u001b[1m \u001b[0m\u001b[1m       Test metric       \u001b[0m\u001b[1m \u001b[0m┃\u001b[1m \u001b[0m\u001b[1m      DataLoader 0       \u001b[0m\u001b[1m \u001b[0m┃\n",
       "┡━━━━━━━━━━━━━━━━━━━━━━━━━━━╇━━━━━━━━━━━━━━━━━━━━━━━━━━━┩\n",
       "│\u001b[36m \u001b[0m\u001b[36m       train_loss        \u001b[0m\u001b[36m \u001b[0m│\u001b[35m \u001b[0m\u001b[35m   0.16042383015155792   \u001b[0m\u001b[35m \u001b[0m│\n",
       "└───────────────────────────┴───────────────────────────┘\n"
      ]
     },
     "metadata": {},
     "output_type": "display_data"
    },
    {
     "data": {
      "text/plain": [
       "[{'train_loss': 0.16042383015155792}]"
      ]
     },
     "execution_count": 49,
     "metadata": {},
     "output_type": "execute_result"
    }
   ],
   "source": [
    "print('Testing model..')\n",
    "trainer.test(model = clf, dataloaders=test_data)"
   ]
  },
  {
   "cell_type": "code",
   "execution_count": 50,
   "id": "fa80f76e-be27-4f5b-9814-11a1b222f91e",
   "metadata": {},
   "outputs": [],
   "source": [
    "vgg_loss = clf.t_loss\n",
    "vgg_acc = clf.t_acc"
   ]
  },
  {
   "cell_type": "markdown",
   "id": "cb73bcc2-92ad-41c2-b270-7df119d626f0",
   "metadata": {
    "tags": []
   },
   "source": [
    "## Comparing Pre-trained models ##"
   ]
  },
  {
   "cell_type": "code",
   "execution_count": 51,
   "id": "f113a95e-fdd7-4d35-9c37-55650796d73b",
   "metadata": {},
   "outputs": [],
   "source": [
    "loss_data = {'ResNet': res_net_loss, \n",
    "             'DenseNet': dense_net_loss, \n",
    "             'EfficientNet': efficient_net_loss, \n",
    "             'ResNext': res_next_loss, \n",
    "             'WideNet': wide_net_loss,\n",
    "             'VGG' : vgg_loss, \n",
    "            }\n",
    "\n",
    "loss_df = pd.DataFrame(data = loss_data)"
   ]
  },
  {
   "cell_type": "code",
   "execution_count": 52,
   "id": "55bea614-d958-462d-bb9a-8d6dd1fc9d27",
   "metadata": {},
   "outputs": [],
   "source": [
    "acc_data = {'ResNet':  res_net_acc, \n",
    "            'DenseNet': dense_net_acc, \n",
    "            'EfficientNet': efficient_net_acc, \n",
    "            'ResNext': res_next_acc, \n",
    "            'WideNet': wide_net_acc,\n",
    "            'VGG' : vgg_acc,\n",
    "           }\n",
    "acc_df = pd.DataFrame(data = acc_data)"
   ]
  },
  {
   "cell_type": "code",
   "execution_count": 53,
   "id": "2ec7c6ba-ac8a-40e4-9702-6d7fc6158247",
   "metadata": {},
   "outputs": [
    {
     "data": {
      "text/plain": [
       "<AxesSubplot: >"
      ]
     },
     "execution_count": 53,
     "metadata": {},
     "output_type": "execute_result"
    },
    {
     "data": {
      "image/png": "[encoded data removed]",
      "text/plain": [
       "<Figure size 1100x800 with 1 Axes>"
      ]
     },
     "metadata": {},
     "output_type": "display_data"
    }
   ],
   "source": [
    "sns.set(rc={'figure.figsize':(11,8)})\n",
    "loss_df.boxplot()"
   ]
  },
  {
   "cell_type": "code",
   "execution_count": 54,
   "id": "52d41ec6-219d-4be7-8e64-d5c36877633a",
   "metadata": {
    "tags": []
   },
   "outputs": [
    {
     "data": {
      "text/plain": [
       "<AxesSubplot: >"
      ]
     },
     "execution_count": 54,
     "metadata": {},
     "output_type": "execute_result"
    },
    {
     "data": {
      "image/png": "[encoded data removed]",
      "text/plain": [
       "<Figure size 1100x800 with 1 Axes>"
      ]
     },
     "metadata": {},
     "output_type": "display_data"
    }
   ],
   "source": [
    "sns.set(rc={'figure.figsize':(11,8)})\n",
    "acc_df.boxplot()"
   ]
  },
  {
   "cell_type": "code",
   "execution_count": 55,
   "id": "b2b45fa3-9bad-44fe-b842-cc99884cdaf0",
   "metadata": {},
   "outputs": [],
   "source": [
    "acc_df.to_csv('./accuracies.csv')"
   ]
  },
  {
   "cell_type": "code",
   "execution_count": 56,
   "id": "3260e79f-35f6-411a-8dfc-66cffbd7de3c",
   "metadata": {},
   "outputs": [],
   "source": [
    "loss_df.to_csv('./losses.csv')"
   ]
  },
  {
   "cell_type": "markdown",
   "id": "cad63800-8b1a-42d9-9fbd-145f16d524af",
   "metadata": {},
   "source": [
    "## Comparing all models ##"
   ]
  },
  {
   "cell_type": "code",
   "execution_count": 60,
   "id": "eb0844c1-ccf5-4028-aabc-47b40b6bb1de",
   "metadata": {},
   "outputs": [
    {
     "data": {
      "text/plain": [
       "(13, 13, 13, 13, 13, 13, 133, 133)"
      ]
     },
     "execution_count": 60,
     "metadata": {},
     "output_type": "execute_result"
    }
   ],
   "source": [
    "len(res_net_acc), len(dense_net_acc), len(efficient_net_acc), len(res_next_acc), len(wide_net_acc), len(vgg_acc), len(hybrid_w_resnet_acc), len(hybrid_w_o_resnet_acc)"
   ]
  },
  {
   "cell_type": "code",
   "execution_count": 58,
   "id": "b40a4dc7-1ea4-44c2-8efd-7d9258545f0b",
   "metadata": {},
   "outputs": [],
   "source": [
    "loss_data = {'ResNet': res_net_loss, \n",
    "             'DenseNet': dense_net_loss, \n",
    "             'EfficientNet': efficient_net_loss, \n",
    "             'ResNext': res_next_loss, \n",
    "             'WideNet': wide_net_loss,\n",
    "             'VGG' : vgg_loss,\n",
    "             'hybrid w/ resnet' : hybrid_w_resnet_loss,\n",
    "             'hybrid w/o resnet' : hybrid_w_o_resnet_loss,\n",
    "            }\n",
    "\n",
    "loss_df = pd.DataFrame(data = loss_data)"
   ]
  },
  {
   "cell_type": "code",
   "execution_count": 72,
   "id": "debeed1c-c726-45d4-9315-b80011fac069",
   "metadata": {},
   "outputs": [],
   "source": [
    "new_acc = hybrid_w_resnet_acc[-13:].copy()\n",
    "new_acc1 = hybrid_w_o_resnet_acc[-13:].copy()\n",
    "for i in range(13):\n",
    "    new_acc[i] = new_acc[i] * 100.0\n",
    "    new_acc1[i] = new_acc1[i] * 100.0"
   ]
  },
  {
   "cell_type": "code",
   "execution_count": 73,
   "id": "925c7564-baa2-4cc0-aeed-a6657b12e6ca",
   "metadata": {},
   "outputs": [],
   "source": [
    "acc_data = {'ResNet':  res_net_acc, \n",
    "            'DenseNet': dense_net_acc, \n",
    "            'EfficientNet': efficient_net_acc, \n",
    "            'ResNext': res_next_acc, \n",
    "            'WideNet': wide_net_acc,\n",
    "            'VGG' : vgg_acc,\n",
    "             'hybrid w/ resnet' : new_acc,\n",
    "             'hybrid w/o resnet' : new_acc1,\n",
    "           }\n",
    "acc_df = pd.DataFrame(data = acc_data)"
   ]
  },
  {
   "cell_type": "code",
   "execution_count": 67,
   "id": "5d9acf39-5001-4f61-b924-0650fbf4496f",
   "metadata": {},
   "outputs": [
    {
     "data": {
      "text/plain": [
       "<AxesSubplot: >"
      ]
     },
     "execution_count": 67,
     "metadata": {},
     "output_type": "execute_result"
    },
    {
     "data": {
      "image/png": "[encoded data removed]",
      "text/plain": [
       "<Figure size 1400x800 with 1 Axes>"
      ]
     },
     "metadata": {},
     "output_type": "display_data"
    }
   ],
   "source": [
    "sns.set(rc={'figure.figsize':(14,8)})\n",
    "loss_df.boxplot()"
   ]
  },
  {
   "cell_type": "code",
   "execution_count": 74,
   "id": "55ec60a2-4fae-4ae7-ba3d-a768518b89ce",
   "metadata": {},
   "outputs": [
    {
     "data": {
      "text/plain": [
       "<AxesSubplot: >"
      ]
     },
     "execution_count": 74,
     "metadata": {},
     "output_type": "execute_result"
    },
    {
     "data": {
      "image/png": "[encoded data removed]",
      "text/plain": [
       "<Figure size 1400x800 with 1 Axes>"
      ]
     },
     "metadata": {},
     "output_type": "display_data"
    }
   ],
   "source": [
    "sns.set(rc={'figure.figsize':(14,8)})\n",
    "acc_df.boxplot()"
   ]
  },
  {
   "cell_type": "code",
   "execution_count": null,
   "id": "4ae1777b-c75a-489f-bd68-3d012c6de1d3",
   "metadata": {},
   "outputs": [],
   "source": []
  },
  {
   "cell_type": "markdown",
   "id": "d2802e83-6d96-4e12-b597-385c5915db8f",
   "metadata": {
    "tags": []
   },
   "source": [
    "# Scratch Space #"
   ]
  },
  {
   "cell_type": "code",
   "execution_count": null,
   "id": "c2909e48-66aa-41bf-b203-8c92e47a5045",
   "metadata": {
    "tags": []
   },
   "outputs": [],
   "source": [
    "def train_model(net, train_data, epochs, l1_weight, l2_weight):\n",
    "    for epoch in range(epochs):\n",
    "        for idx, (batch_data, batch_classes, batch_paths) in enumerate(train_data):\n",
    "           \n",
    "            preds = net(batch_data.float().to(device))\n",
    "            \n",
    "            \n",
    "            loss = criterion(torch.argmax(preds, 1).float().to(device), batch_classes.float().to(device))\n",
    "            \n",
    "            ##Adding Regulartors\n",
    "            #L1 regularization\n",
    "            loss = loss + l1_weight * sum([p.abs().sum() for p in net.parameters()])\n",
    "            \n",
    "            #L2 regularization\n",
    "            loss = loss + l2_weight * sum([(p**2).sum() for p in net.parameters()])\n",
    "            \n",
    "            optimizer.zero_grad()\n",
    "            loss.backward()\n",
    "            optimizer.step()\n",
    "            acc = (preds.round().to(device) == batch_classes.to(device)).float().mean()\n",
    "            if idx % 25 == 24:\n",
    "                print('[%d, %5d] loss : %.6f, accuracy: %.4f' %(epoch + 1, idx + 1, loss.item()/32, acc))\n",
    "            "
   ]
  },
  {
   "cell_type": "code",
   "execution_count": null,
   "id": "51107dc7-195d-4113-8eb7-451bae3cb4a3",
   "metadata": {
    "tags": []
   },
   "outputs": [],
   "source": [
    "def test_model(net, test_data):\n",
    "    net.eval()\n",
    "    correct = 0\n",
    "    for idx, (batch_data, batch_classes, batch_paths) in enumerate(test_data):\n",
    "            optimizer.zero_grad()\n",
    "            preds = net(batch_data.float().to(device))\n",
    "            \n",
    "            loss = criterion(torch.argmax(preds, 1).float().to(device), batch_classes.float().to(device))\n",
    "            \n",
    "           \n",
    "            acc = (preds.round().to(device) == batch_classes.to(device)).float().mean()\n",
    "            if idx % 10 == 9:\n",
    "                print('loss : %.6f, accuracy: %.4f' %(loss.item()/32, acc))\n"
   ]
  },
  {
   "cell_type": "code",
   "execution_count": null,
   "id": "e95c1620-56c2-4beb-8fb2-4fcf01019fbb",
   "metadata": {
    "scrolled": true,
    "tags": []
   },
   "outputs": [],
   "source": [
    "epochs = 500\n",
    "optimizer = torch.optim.Adam(net.parameters(), lr=1e-3)\n",
    "criterion = nn.BCELoss()\n",
    "device = 'cuda' if torch.cuda.is_available() else 'cpu'\n",
    "l1_weight = 0.1\n",
    "l2_weight = 0.0\n",
    "train_model(net.to(device), train_data, epochs, l1_weight, l2_weight)"
   ]
  },
  {
   "cell_type": "markdown",
   "id": "79963651-acf0-4e7a-92de-631e8882ee91",
   "metadata": {
    "jp-MarkdownHeadingCollapsed": true,
    "tags": []
   },
   "source": [
    "### Testing Hybrid ###"
   ]
  },
  {
   "cell_type": "code",
   "execution_count": null,
   "id": "78762fde-233b-4a51-b5c5-d91f53582dd9",
   "metadata": {
    "tags": []
   },
   "outputs": [],
   "source": [
    "print('Testing model..')\n",
    "test_model(model, test_data)"
   ]
  },
  {
   "cell_type": "code",
   "execution_count": null,
   "id": "b604f2b4-6e4b-479d-9754-c9d03bad4d14",
   "metadata": {},
   "outputs": [],
   "source": []
  },
  {
   "cell_type": "code",
   "execution_count": null,
   "id": "8922bc07-578d-4b05-a5ce-3a97c767d346",
   "metadata": {},
   "outputs": [],
   "source": []
  },
  {
   "cell_type": "code",
   "execution_count": null,
   "id": "3e55698c-8413-4f67-a055-944fdcb9367c",
   "metadata": {},
   "outputs": [],
   "source": []
  },
  {
   "cell_type": "markdown",
   "id": "d40f18a8-c3e8-4591-a504-656a6b191a63",
   "metadata": {
    "jp-MarkdownHeadingCollapsed": true,
    "tags": []
   },
   "source": [
    "## Using Pytorch Lightning ##"
   ]
  },
  {
   "cell_type": "markdown",
   "id": "763d80ec-0f36-45dd-93cb-67f8bce7840f",
   "metadata": {
    "tags": []
   },
   "source": [
    "### Efficient Net B0 Version ###"
   ]
  },
  {
   "cell_type": "code",
   "execution_count": null,
   "id": "ca7cb303-0e0d-4a68-8897-bb5c0b1f04d3",
   "metadata": {},
   "outputs": [],
   "source": [
    "class Classifier(pl.LightningModule, nn.Module):\n",
    "    def __init__(self, l1_weight = 0.0, l2_weight = 0.0):\n",
    "        super(Classifier, self).__init__()\n",
    "        \n",
    "        self.l1_weight = l1_weight\n",
    "        self.l2_weight = l2_weight\n",
    "        self.t_loss = []\n",
    "        self.t_acc = []\n",
    "        \n",
    "        pre_trained_model = models.efficientnet_b0(weights = True)\n",
    "        \n",
    "        self.model = nn.Sequential(\n",
    "            *list(pre_trained_model.children())[0],\n",
    "            nn.Flatten(start_dim=1),\n",
    "            nn.Linear(81920, 512),\n",
    "            nn.ReLU(inplace = True),\n",
    "            nn.Linear(512, 1),\n",
    "            nn.Sigmoid(),\n",
    "        )\n",
    "    \n",
    "    def training_step(self, batch, batch_idx):\n",
    "        # print(batch)\n",
    "        x, y, _ = batch\n",
    "        y_hat = self.model(x.float().to(device))\n",
    "        \n",
    "        y_hat = torch.flatten(y_hat)\n",
    "        # print(y_hat.shape, y)\n",
    "        \n",
    "        loss = F.binary_cross_entropy(y_hat.float(), y.float())\n",
    "        \n",
    "        ##Adding Regulartors\n",
    "        #L1 regularization\n",
    "        loss = loss + self.l1_weight * sum([p.abs().sum() for p in self.parameters()])\n",
    "\n",
    "        #L2 regularization\n",
    "        loss = loss + self.l2_weight * sum([(p**2).sum() for p in self.parameters()])\n",
    "        \n",
    "        \n",
    "        if batch_idx % 50 == 49:\n",
    "            acc = (y_hat.round().to(device) == y.to(device)).float().mean()\n",
    "            print('loss : %.6f, accuracy: %.4f' %(loss, acc))\n",
    "        self.log(\"train_loss\", loss)\n",
    "        return loss\n",
    "    \n",
    "    def test_step(self, batch, batch_idx):\n",
    "\n",
    "        x, y, _ = batch\n",
    "        y_hat = self.model(x.float().to(device))\n",
    "        \n",
    "        y_hat = torch.flatten(y_hat)\n",
    "        # print(y_hat.shape, y)\n",
    "        \n",
    "        loss = F.binary_cross_entropy(y_hat.float(), y.float())\n",
    "        self.t_loss.append(loss.item())\n",
    "        \n",
    "        if batch_idx % 10 == 9:\n",
    "            acc = (y_hat.round().to(device) == y.to(device)).float().mean()\n",
    "            self.t_acc.append(float(torch.Tensor.cpu(acc) * 100.00))\n",
    "            print('loss : %.6f, accuracy: %.4f' %(loss, acc))\n",
    "        self.log(\"train_loss\", loss)\n",
    "        return loss\n",
    "    \n",
    "    def configure_optimizers(self):\n",
    "        optimizer = torch.optim.Adam(self.parameters(), lr=1e-3, weight_decay= 1e-2)\n",
    "        return optimizer"
   ]
  },
  {
   "cell_type": "code",
   "execution_count": null,
   "id": "56201bc3-667c-426c-820c-a4a99f705ee8",
   "metadata": {},
   "outputs": [],
   "source": [
    "clf = Classifier(l1_weight = 0.0, l2_weight = 0.0)"
   ]
  },
  {
   "cell_type": "code",
   "execution_count": null,
   "id": "4b854586-3462-4335-a57c-67ce33ae67ec",
   "metadata": {
    "scrolled": true,
    "tags": []
   },
   "outputs": [],
   "source": [
    "trainer = pl.Trainer(max_epochs=50)\n",
    "trainer.fit(model=clf, train_dataloaders=train_data)"
   ]
  },
  {
   "cell_type": "code",
   "execution_count": null,
   "id": "4837f250-b6aa-4354-9f1d-f19ec03ff30a",
   "metadata": {
    "scrolled": true,
    "tags": []
   },
   "outputs": [],
   "source": [
    "print('Testing model..')\n",
    "loss = trainer.test(model = clf, dataloaders=test_data)"
   ]
  },
  {
   "cell_type": "code",
   "execution_count": null,
   "id": "e931de7e-9b80-4e26-8d29-ed297a6e3cf2",
   "metadata": {},
   "outputs": [],
   "source": [
    "efficient_net_loss = clf.t_loss\n",
    "efficient_net_acc = clf.t_acc"
   ]
  },
  {
   "cell_type": "markdown",
   "id": "03afdfaa-ef6d-4fa1-9205-2c2e3ece0a1e",
   "metadata": {
    "jp-MarkdownHeadingCollapsed": true,
    "tags": []
   },
   "source": [
    "### DenseNet ###"
   ]
  },
  {
   "cell_type": "code",
   "execution_count": null,
   "id": "c749908c-695c-4b2c-87a7-4edf7d6bf2d2",
   "metadata": {},
   "outputs": [],
   "source": [
    "class Classifier(pl.LightningModule, nn.Module):\n",
    "    def __init__(self, l1_weight = 0.0, l2_weight = 0.0):\n",
    "        super(Classifier, self).__init__()\n",
    "        \n",
    "        self.l1_weight = l1_weight\n",
    "        self.l2_weight = l2_weight\n",
    "        self.t_loss = []\n",
    "        self.t_acc = []\n",
    "        \n",
    "        pre_trained_model = models.densenet121(weights = True)\n",
    "        \n",
    "        self.model = nn.Sequential(\n",
    "            *list(pre_trained_model.children())[0],\n",
    "            nn.Flatten(start_dim=1),\n",
    "            nn.Linear(65536, 512),\n",
    "            nn.ReLU(inplace = True),\n",
    "            nn.Linear(512, 1),\n",
    "            nn.Sigmoid(),\n",
    "        )\n",
    "    \n",
    "    def training_step(self, batch, batch_idx):\n",
    "        # print(batch)\n",
    "        x, y, _ = batch\n",
    "        y_hat = self.model(x.float().to(device))\n",
    "        \n",
    "        y_hat = torch.flatten(y_hat)\n",
    "        # print(y_hat.shape, y)\n",
    "        \n",
    "        loss = F.binary_cross_entropy(y_hat.float(), y.float())\n",
    "        \n",
    "        ##Adding Regulartors\n",
    "        #L1 regularization\n",
    "        loss = loss + self.l1_weight * sum([p.abs().sum() for p in self.parameters()])\n",
    "\n",
    "        #L2 regularization\n",
    "        loss = loss + self.l2_weight * sum([(p**2).sum() for p in self.parameters()])\n",
    "        \n",
    "        \n",
    "        if batch_idx % 50 == 49:\n",
    "            acc = (y_hat.round().to(device) == y.to(device)).float().mean()\n",
    "            print('loss : %.6f, accuracy: %.4f' %(loss, acc))\n",
    "        self.log(\"train_loss\", loss)\n",
    "        return loss\n",
    "    \n",
    "    def test_step(self, batch, batch_idx):\n",
    "        t_loss = []\n",
    "        x, y, _ = batch\n",
    "        y_hat = self.model(x.float().to(device))\n",
    "        \n",
    "        y_hat = torch.flatten(y_hat)\n",
    "        # print(y_hat.shape, y)\n",
    "        \n",
    "        loss = F.binary_cross_entropy(y_hat.float(), y.float())\n",
    "        self.t_loss.append(loss.item())\n",
    "        \n",
    "        if batch_idx % 10 == 9:\n",
    "            acc = (y_hat.round().to(device) == y.to(device)).float().mean()\n",
    "            self.t_acc.append(float(torch.Tensor.cpu(acc) * 100.00))\n",
    "            print('loss : %.6f, accuracy: %.4f' %(loss, acc))\n",
    "        self.log(\"train_loss\", loss)\n",
    "        return loss\n",
    "    \n",
    "    def configure_optimizers(self):\n",
    "        optimizer = torch.optim.Adam(self.parameters(), lr=1e-3, weight_decay = 1e-6)\n",
    "        return optimizer"
   ]
  },
  {
   "cell_type": "code",
   "execution_count": null,
   "id": "9623f036-3bb7-4fa7-bc29-d55dc1a5c033",
   "metadata": {},
   "outputs": [],
   "source": [
    "clf = Classifier(l1_weight = 0.000, l2_weight = 0.0)"
   ]
  },
  {
   "cell_type": "code",
   "execution_count": null,
   "id": "8c8e104e-55c9-4911-a0c3-955a6d0ab713",
   "metadata": {
    "scrolled": true,
    "tags": []
   },
   "outputs": [],
   "source": [
    "trainer = pl.Trainer(max_epochs=50)\n",
    "trainer.fit(model=clf, train_dataloaders=train_data)"
   ]
  },
  {
   "cell_type": "code",
   "execution_count": null,
   "id": "80052808-a0ca-4d99-bb54-a5e4cf0399c7",
   "metadata": {},
   "outputs": [],
   "source": [
    "print('Testing model..')\n",
    "trainer.test(model = clf, dataloaders=test_data)"
   ]
  },
  {
   "cell_type": "code",
   "execution_count": null,
   "id": "75062cdd-05c1-4bf8-8e43-1833eda44549",
   "metadata": {},
   "outputs": [],
   "source": [
    "dense_net_loss = clf.t_loss\n",
    "dense_net_acc = clf.t_acc"
   ]
  },
  {
   "cell_type": "markdown",
   "id": "ca52db90-e070-459c-9102-35dea0f22a50",
   "metadata": {
    "jp-MarkdownHeadingCollapsed": true,
    "tags": []
   },
   "source": [
    "### ResNet ###"
   ]
  },
  {
   "cell_type": "code",
   "execution_count": null,
   "id": "0c528c92-4beb-4de6-b115-feb0a457bc3b",
   "metadata": {},
   "outputs": [],
   "source": [
    "class Classifier(pl.LightningModule, nn.Module):\n",
    "    def __init__(self, l1_weight = 0.0, l2_weight = 0.0):\n",
    "        super(Classifier, self).__init__()\n",
    "        \n",
    "        self.l1_weight = l1_weight\n",
    "        self.l2_weight = l2_weight\n",
    "        self.t_loss = []\n",
    "        self.t_acc = []\n",
    "        \n",
    "        pre_trained_model = models.resnet18(weights = True)\n",
    "        # print(*list(pre_trained_model.children())[:-2])\n",
    "        \n",
    "        self.model = nn.Sequential(\n",
    "            *list(pre_trained_model.children())[:-2],\n",
    "            nn.Flatten(start_dim=1),\n",
    "            nn.Linear(32768, 512),\n",
    "            nn.ReLU(inplace = True),\n",
    "            nn.Linear(512, 1),\n",
    "            nn.Sigmoid(),\n",
    "        )\n",
    "    \n",
    "    def training_step(self, batch, batch_idx):\n",
    "        # print(batch)\n",
    "        x, y, _ = batch\n",
    "        y_hat = self.model(x.float().to(device))\n",
    "        \n",
    "        y_hat = torch.flatten(y_hat)\n",
    "        # print(y_hat.shape, y)\n",
    "        \n",
    "        loss = F.binary_cross_entropy(y_hat.float(), y.float())\n",
    "        \n",
    "        ##Adding Regulartors\n",
    "        #L1 regularization\n",
    "        loss = loss + self.l1_weight * sum([p.abs().sum() for p in self.parameters()])\n",
    "\n",
    "        #L2 regularization\n",
    "        loss = loss + self.l2_weight * sum([(p**2).sum() for p in self.parameters()])\n",
    "        \n",
    "        \n",
    "        if batch_idx % 50 == 49:\n",
    "            acc = (y_hat.round().to(device) == y.to(device)).float().mean()\n",
    "            print('loss : %.6f, accuracy: %.4f' %(loss, acc))\n",
    "        self.log(\"train_loss\", loss)\n",
    "        return loss\n",
    "    \n",
    "    def test_step(self, batch, batch_idx):\n",
    "        x, y, _ = batch\n",
    "        y_hat = self.model(x.float().to(device))\n",
    "        \n",
    "        y_hat = torch.flatten(y_hat)\n",
    "        # print(y_hat.shape, y)\n",
    "        \n",
    "        loss = F.binary_cross_entropy(y_hat.float(), y.float())\n",
    "        \n",
    "        self.t_loss.append(loss.item())\n",
    "        \n",
    "        if batch_idx % 10 == 9:\n",
    "            acc = (y_hat.round().to(device) == y.to(device)).float().mean()\n",
    "            self.t_acc.append(float(torch.Tensor.cpu(acc) * 100.00))\n",
    "            print('loss : %.6f, accuracy: %.4f' %(loss, acc))\n",
    "        self.log(\"train_loss\", loss)\n",
    "        return loss\n",
    "    \n",
    "    def configure_optimizers(self):\n",
    "        optimizer = torch.optim.Adam(self.parameters(), lr=1e-4, weight_decay = 1e-3)\n",
    "        return optimizer"
   ]
  },
  {
   "cell_type": "code",
   "execution_count": null,
   "id": "f9a3bc9b-22a3-4287-baac-5a9ec8beca01",
   "metadata": {
    "tags": []
   },
   "outputs": [],
   "source": [
    "clf = Classifier(l1_weight = 0.0, l2_weight = 0.0)"
   ]
  },
  {
   "cell_type": "code",
   "execution_count": null,
   "id": "178aa7c3-d9b5-4f7d-a719-89517d2bc919",
   "metadata": {
    "scrolled": true,
    "tags": []
   },
   "outputs": [],
   "source": [
    "trainer = pl.Trainer(max_epochs=50)\n",
    "trainer.fit(model=clf, train_dataloaders=train_data)"
   ]
  },
  {
   "cell_type": "code",
   "execution_count": null,
   "id": "00d3d63a-f19f-4231-8bd3-89b4d138e1f9",
   "metadata": {},
   "outputs": [],
   "source": [
    "print('Testing model..')\n",
    "trainer.test(model = clf, dataloaders=test_data)"
   ]
  },
  {
   "cell_type": "code",
   "execution_count": null,
   "id": "3e6e18e7-0738-45cd-a75f-edd133ce3bdb",
   "metadata": {},
   "outputs": [],
   "source": [
    "resnet_loss = clf.t_loss\n",
    "resnet_acc = clf.t_acc"
   ]
  },
  {
   "cell_type": "markdown",
   "id": "c721f7b5-0b1e-46f4-9280-ae517459b0f7",
   "metadata": {
    "jp-MarkdownHeadingCollapsed": true,
    "tags": []
   },
   "source": [
    "### ResNext ###"
   ]
  },
  {
   "cell_type": "code",
   "execution_count": null,
   "id": "8fa9f6df-a705-4c6d-8032-3098f92ed36e",
   "metadata": {},
   "outputs": [],
   "source": [
    "class Classifier(pl.LightningModule, nn.Module):\n",
    "    def __init__(self, l1_weight = 0.0, l2_weight = 0.0):\n",
    "        super(Classifier, self).__init__()\n",
    "        \n",
    "        self.l1_weight = l1_weight\n",
    "        self.l2_weight = l2_weight\n",
    "        self.t_loss = []\n",
    "        self.t_acc = []\n",
    "        \n",
    "        pre_trained_model = models.resnext50_32x4d(weights = True)\n",
    "        # print(*list(pre_trained_model.children())[:-1])\n",
    "        \n",
    "        self.model = nn.Sequential(\n",
    "            *list(pre_trained_model.children())[:-1],\n",
    "            nn.Flatten(start_dim=1),\n",
    "            nn.Linear(2048, 512),\n",
    "            nn.ReLU(inplace = True),\n",
    "            nn.Linear(512, 1),\n",
    "            nn.Sigmoid(),\n",
    "        )\n",
    "    \n",
    "    def training_step(self, batch, batch_idx):\n",
    "        # print(batch)\n",
    "        x, y, _ = batch\n",
    "        y_hat = self.model(x.float().to(device))\n",
    "        \n",
    "        y_hat = torch.flatten(y_hat)\n",
    "        # print(y_hat.shape, y)\n",
    "        \n",
    "        loss = F.binary_cross_entropy(y_hat.float(), y.float())\n",
    "        \n",
    "        ##Adding Regulartors\n",
    "        #L1 regularization\n",
    "        loss = loss + self.l1_weight * sum([p.abs().sum() for p in self.parameters()])\n",
    "\n",
    "        #L2 regularization\n",
    "        loss = loss + self.l2_weight * sum([(p**2).sum() for p in self.parameters()])\n",
    "        \n",
    "        \n",
    "        if batch_idx % 50 == 49:\n",
    "            acc = (y_hat.round().to(device) == y.to(device)).float().mean()\n",
    "            print('loss : %.6f, accuracy: %.4f' %(loss, acc))\n",
    "        self.log(\"train_loss\", loss)\n",
    "        return loss\n",
    "    \n",
    "    def test_step(self, batch, batch_idx):\n",
    "        x, y, _ = batch\n",
    "        y_hat = self.model(x.float().to(device))\n",
    "        \n",
    "        y_hat = torch.flatten(y_hat)\n",
    "        # print(y_hat.shape, y)\n",
    "        \n",
    "        loss = F.binary_cross_entropy(y_hat.float(), y.float())\n",
    "        \n",
    "        self.t_loss.append(loss.item())\n",
    "        \n",
    "        if batch_idx % 10 == 9:\n",
    "            acc = (y_hat.round().to(device) == y.to(device)).float().mean()\n",
    "            self.t_acc.append(float(torch.Tensor.cpu(acc) * 100.00))\n",
    "            print('loss : %.6f, accuracy: %.4f' %(loss, acc))\n",
    "        self.log(\"train_loss\", loss)\n",
    "        return loss\n",
    "    \n",
    "    def configure_optimizers(self):\n",
    "        optimizer = torch.optim.Adam(self.parameters(), lr=1e-4)\n",
    "        return optimizer"
   ]
  },
  {
   "cell_type": "code",
   "execution_count": null,
   "id": "8b091636-d3df-4b18-9894-8270280215c8",
   "metadata": {
    "tags": []
   },
   "outputs": [],
   "source": [
    "clf = Classifier(l1_weight = 0.0, l2_weight = 0.0)"
   ]
  },
  {
   "cell_type": "code",
   "execution_count": null,
   "id": "3e711886-9572-4ac2-9c33-73a19e837781",
   "metadata": {
    "scrolled": true,
    "tags": []
   },
   "outputs": [],
   "source": [
    "trainer = pl.Trainer(max_epochs=50)\n",
    "trainer.fit(model=clf, train_dataloaders=train_data)"
   ]
  },
  {
   "cell_type": "code",
   "execution_count": null,
   "id": "f36008fd-6cf9-409c-9f21-4be4c1e9bce8",
   "metadata": {},
   "outputs": [],
   "source": [
    "print('Testing model..')\n",
    "trainer.test(model = clf, dataloaders=test_data)"
   ]
  },
  {
   "cell_type": "code",
   "execution_count": null,
   "id": "0f6855c6-fc22-40d1-a9e4-efd77177bb66",
   "metadata": {},
   "outputs": [],
   "source": [
    "resnext_loss = clf.t_loss\n",
    "resnext_acc = clf.t_acc"
   ]
  },
  {
   "cell_type": "markdown",
   "id": "23e73c04-b22f-4690-860b-0dd73ccf8a89",
   "metadata": {
    "jp-MarkdownHeadingCollapsed": true,
    "tags": []
   },
   "source": [
    "### Wide ResNet ###"
   ]
  },
  {
   "cell_type": "code",
   "execution_count": null,
   "id": "ca88d513-5bb7-4239-a7a8-6c07c8dcca68",
   "metadata": {},
   "outputs": [],
   "source": [
    "class Classifier(pl.LightningModule, nn.Module):\n",
    "    def __init__(self, l1_weight = 0.0, l2_weight = 0.0):\n",
    "        super(Classifier, self).__init__()\n",
    "        \n",
    "        self.l1_weight = l1_weight\n",
    "        self.l2_weight = l2_weight\n",
    "        self.t_loss = []\n",
    "        self.t_acc = []\n",
    "        \n",
    "        pre_trained_model = models.wide_resnet50_2(weights = True)\n",
    "        # print(*list(pre_trained_model.children())[:-1])\n",
    "        \n",
    "        self.model = nn.Sequential(\n",
    "            *list(pre_trained_model.children())[:-1],\n",
    "            nn.Flatten(start_dim=1),\n",
    "            nn.Linear(2048, 512),\n",
    "            nn.ReLU(inplace = True),\n",
    "            nn.Linear(512, 1),\n",
    "            nn.Sigmoid(),\n",
    "        )\n",
    "    \n",
    "    def training_step(self, batch, batch_idx):\n",
    "        # print(batch)\n",
    "        x, y, _ = batch\n",
    "        y_hat = self.model(x.float().to(device))\n",
    "        \n",
    "        y_hat = torch.flatten(y_hat)\n",
    "        # print(y_hat.shape, y)\n",
    "        \n",
    "        loss = F.binary_cross_entropy(y_hat.float(), y.float())\n",
    "        \n",
    "        ##Adding Regulartors\n",
    "        #L1 regularization\n",
    "        loss = loss + self.l1_weight * sum([p.abs().sum() for p in self.parameters()])\n",
    "\n",
    "        #L2 regularization\n",
    "        loss = loss + self.l2_weight * sum([(p**2).sum() for p in self.parameters()])\n",
    "        \n",
    "        \n",
    "        if batch_idx % 50 == 49:\n",
    "            acc = (y_hat.round().to(device) == y.to(device)).float().mean()\n",
    "            print('loss : %.6f, accuracy: %.4f' %(loss, acc))\n",
    "        self.log(\"train_loss\", loss)\n",
    "        return loss\n",
    "    \n",
    "    def test_step(self, batch, batch_idx):\n",
    "        x, y, _ = batch\n",
    "        y_hat = self.model(x.float().to(device))\n",
    "        \n",
    "        y_hat = torch.flatten(y_hat)\n",
    "        # print(y_hat.shape, y)\n",
    "        \n",
    "        loss = F.binary_cross_entropy(y_hat.float(), y.float())\n",
    "        \n",
    "        self.t_loss.append(loss.item())\n",
    "        \n",
    "        if batch_idx % 10 == 9:\n",
    "            acc = (y_hat.round().to(device) == y.to(device)).float().mean()\n",
    "            self.t_acc.append(float(torch.Tensor.cpu(acc) * 100.00))\n",
    "            print('loss : %.6f, accuracy: %.4f' %(loss, acc))\n",
    "        self.log(\"train_loss\", loss)\n",
    "        return loss\n",
    "    \n",
    "    def configure_optimizers(self):\n",
    "        optimizer = torch.optim.Adam(self.parameters(), lr=1e-4)\n",
    "        return optimizer"
   ]
  },
  {
   "cell_type": "code",
   "execution_count": null,
   "id": "1faad491-9cad-4217-86b7-871fcaf166a7",
   "metadata": {
    "tags": []
   },
   "outputs": [],
   "source": [
    "clf = Classifier(l1_weight = 0.0, l2_weight = 0.0)"
   ]
  },
  {
   "cell_type": "code",
   "execution_count": null,
   "id": "0c7e8702-a52f-49ac-8a7a-5dfeb4f7408b",
   "metadata": {
    "scrolled": true,
    "tags": []
   },
   "outputs": [],
   "source": [
    "trainer = pl.Trainer(max_epochs=50)\n",
    "trainer.fit(model=clf, train_dataloaders=train_data)"
   ]
  },
  {
   "cell_type": "code",
   "execution_count": null,
   "id": "0897c74a-b498-430f-82fd-b2b0fe278a18",
   "metadata": {},
   "outputs": [],
   "source": [
    "print('Testing model..')\n",
    "trainer.test(model = clf, dataloaders=test_data)"
   ]
  },
  {
   "cell_type": "code",
   "execution_count": null,
   "id": "7ffd13bb-6680-4e06-a3fc-37d7a79be031",
   "metadata": {},
   "outputs": [],
   "source": [
    "widenet_loss = clf.t_loss\n",
    "widenet_acc = clf.t_acc"
   ]
  }
 ],
 "metadata": {
  "kernelspec": {
   "display_name": "Python 3 (ipykernel)",
   "language": "python",
   "name": "python3"
  },
  "language_info": {
   "codemirror_mode": {
    "name": "ipython",
    "version": 3
   },
   "file_extension": ".py",
   "mimetype": "text/x-python",
   "name": "python",
   "nbconvert_exporter": "python",
   "pygments_lexer": "ipython3",
   "version": "3.9.16"
  }
 },
 "nbformat": 4,
 "nbformat_minor": 5
}
